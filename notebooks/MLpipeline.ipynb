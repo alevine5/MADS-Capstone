{
 "cells": [
  {
   "cell_type": "markdown",
   "id": "dcaddac3-312d-44e0-89b8-d64bf2dd62ae",
   "metadata": {},
   "source": [
    "<center><img src=\"https://www.nationaljewish.org/NJH/media/img/stock/Influenza-Viruses.jpg\"/></center>"
   ]
  },
  {
   "cell_type": "markdown",
   "id": "2f97deee-2bbd-4c88-878c-005fdf08249d",
   "metadata": {},
   "source": [
    "# Forecasting Zoonotic Outbreaks\n",
    "In this notebook we will collect the number of outbreaks by country and year, and various statistics on each country by year, and train a few different classification models to derive a \"risk score\" for each country for each year. First we will do some pre-processing of the data, then we will train and validate the models selecting the most effective one, and lastly we will visualize and validate our results. We also included a section at the end to test your browser to make sure it is compatible with our visualization tools. If your browser is not compatible, not to worry, each interactive cell has an \"Important!\" cell below it which can be run to get the static version of the same graphs.\n",
    "\n",
    "Each section will be delineated by the below following headers, but for a more comprehensive glossary we highly recommend you use jupyter lab.\n",
    "- [Preprocessing](#Preprocessing)\n",
    "- [Model Training](#Model-Training)\n",
    "- [Visualizations](#Visualizations)\n",
    "- [Validating Our Results](#Validating-Our-Results)\n",
    "- [Test Your Browser](#Test-Your-Browser)"
   ]
  },
  {
   "cell_type": "markdown",
   "id": "f865d324-a3ea-4438-a4e5-b25d71ca378c",
   "metadata": {},
   "source": [
    "# Preprocessing"
   ]
  },
  {
   "cell_type": "code",
   "execution_count": 40,
   "id": "ed319f60-9af8-4476-ad9b-45c59700a276",
   "metadata": {},
   "outputs": [],
   "source": [
    "%%capture\n",
    "!pip install pandas\n",
    "!pip install scipy\n",
    "!pip install tqdm\n",
    "# Update path to allow for relative imports\n",
    "import os\n",
    "import sys\n",
    "module_path = os.path.abspath(os.path.join('..'))\n",
    "if module_path not in sys.path:\n",
    "    sys.path.append(module_path)\n",
    "    \n",
    "import pandas as pd\n",
    "from pathlib import Path\n",
    "import numpy as np\n",
    "from tqdm import tqdm"
   ]
  },
  {
   "cell_type": "code",
   "execution_count": 2,
   "id": "86706b3b-e96e-45f7-9cf6-bebc7fc13798",
   "metadata": {},
   "outputs": [
    {
     "data": {
      "text/html": [
       "<div>\n",
       "<style scoped>\n",
       "    .dataframe tbody tr th:only-of-type {\n",
       "        vertical-align: middle;\n",
       "    }\n",
       "\n",
       "    .dataframe tbody tr th {\n",
       "        vertical-align: top;\n",
       "    }\n",
       "\n",
       "    .dataframe thead th {\n",
       "        text-align: right;\n",
       "    }\n",
       "</style>\n",
       "<table border=\"1\" class=\"dataframe\">\n",
       "  <thead>\n",
       "    <tr style=\"text-align: right;\">\n",
       "      <th></th>\n",
       "      <th>Unnamed: 0</th>\n",
       "      <th>Country</th>\n",
       "      <th>iso2</th>\n",
       "      <th>iso3</th>\n",
       "      <th>Year</th>\n",
       "      <th>icd10n</th>\n",
       "      <th>icd103n</th>\n",
       "      <th>icd104n</th>\n",
       "      <th>icd10c</th>\n",
       "      <th>icd103c</th>\n",
       "      <th>icd104c</th>\n",
       "      <th>icd11c1</th>\n",
       "      <th>icd11c2</th>\n",
       "      <th>icd11c3</th>\n",
       "      <th>icd11l1</th>\n",
       "      <th>icd11l2</th>\n",
       "      <th>icd11l3</th>\n",
       "      <th>Disease</th>\n",
       "      <th>DONs</th>\n",
       "      <th>Definition</th>\n",
       "    </tr>\n",
       "  </thead>\n",
       "  <tbody>\n",
       "    <tr>\n",
       "      <th>0</th>\n",
       "      <td>1</td>\n",
       "      <td>Afghanistan</td>\n",
       "      <td>AF</td>\n",
       "      <td>AFG</td>\n",
       "      <td>2000</td>\n",
       "      <td>Arthropod-borne viral fevers and viral haemorr...</td>\n",
       "      <td>Unspecified viral haemorrhagic fever</td>\n",
       "      <td>Unspecified viral haemorrhagic fever</td>\n",
       "      <td>A92-A99</td>\n",
       "      <td>A99</td>\n",
       "      <td>A990</td>\n",
       "      <td>1</td>\n",
       "      <td>D86</td>\n",
       "      <td>1D86</td>\n",
       "      <td>Certain infectious or parasitic diseases</td>\n",
       "      <td>Certain other viral diseases</td>\n",
       "      <td>Viral haemorrhagic fever, not elsewhere classi...</td>\n",
       "      <td>Unspecified viral haemorrhagic fever</td>\n",
       "      <td>DON0404, DON0399</td>\n",
       "      <td>NaN</td>\n",
       "    </tr>\n",
       "    <tr>\n",
       "      <th>1</th>\n",
       "      <td>2</td>\n",
       "      <td>Afghanistan</td>\n",
       "      <td>AF</td>\n",
       "      <td>AFG</td>\n",
       "      <td>2002</td>\n",
       "      <td>Intestinal infectious diseases</td>\n",
       "      <td>Other gastroenteritis and colitis of infectiou...</td>\n",
       "      <td>Other and unspecified gastroenteritis and coli...</td>\n",
       "      <td>A00-A09</td>\n",
       "      <td>A09</td>\n",
       "      <td>A090</td>\n",
       "      <td>1</td>\n",
       "      <td>A40</td>\n",
       "      <td>1A40</td>\n",
       "      <td>Certain infectious or parasitic diseases</td>\n",
       "      <td>Gastroenteritis or colitis of infectious origin</td>\n",
       "      <td>Gastroenteritis or colitis without specificati...</td>\n",
       "      <td>Infectious gastroenteritis or colitis without ...</td>\n",
       "      <td>DON0607</td>\n",
       "      <td>NaN</td>\n",
       "    </tr>\n",
       "    <tr>\n",
       "      <th>2</th>\n",
       "      <td>3</td>\n",
       "      <td>Afghanistan</td>\n",
       "      <td>AF</td>\n",
       "      <td>AFG</td>\n",
       "      <td>1998</td>\n",
       "      <td>Intestinal infectious diseases</td>\n",
       "      <td>Cholera</td>\n",
       "      <td>Classical cholera</td>\n",
       "      <td>A00-A09</td>\n",
       "      <td>A00</td>\n",
       "      <td>A000</td>\n",
       "      <td>1</td>\n",
       "      <td>A00</td>\n",
       "      <td>1A00</td>\n",
       "      <td>Certain infectious or parasitic diseases</td>\n",
       "      <td>Gastroenteritis or colitis of infectious origin</td>\n",
       "      <td>Bacterial intestinal infections</td>\n",
       "      <td>Cholera</td>\n",
       "      <td>DON0253, DON0249, DON0248</td>\n",
       "      <td>Intestinal infection due to Vibrio cholerae</td>\n",
       "    </tr>\n",
       "    <tr>\n",
       "      <th>3</th>\n",
       "      <td>4</td>\n",
       "      <td>Afghanistan</td>\n",
       "      <td>AF</td>\n",
       "      <td>AFG</td>\n",
       "      <td>1999</td>\n",
       "      <td>Codes for special purposes</td>\n",
       "      <td>Provisional assignment of new diseases of unce...</td>\n",
       "      <td>Severe acute respiratory syndrome [SARS]</td>\n",
       "      <td>U00-U49</td>\n",
       "      <td>U04</td>\n",
       "      <td>U049</td>\n",
       "      <td>1</td>\n",
       "      <td>D65</td>\n",
       "      <td>1D65</td>\n",
       "      <td>Certain infectious or parasitic diseases</td>\n",
       "      <td>Certain zoonotic viral diseases</td>\n",
       "      <td>Severe acute respiratory syndrome</td>\n",
       "      <td>Severe acute respiratory syndrome</td>\n",
       "      <td>DON0294</td>\n",
       "      <td>A disease of the respiratory system, caused by...</td>\n",
       "    </tr>\n",
       "    <tr>\n",
       "      <th>4</th>\n",
       "      <td>5</td>\n",
       "      <td>Afghanistan</td>\n",
       "      <td>AF</td>\n",
       "      <td>AFG</td>\n",
       "      <td>2000</td>\n",
       "      <td>Intestinal infectious diseases</td>\n",
       "      <td>Cholera</td>\n",
       "      <td>Classical cholera</td>\n",
       "      <td>A00-A09</td>\n",
       "      <td>A00</td>\n",
       "      <td>A000</td>\n",
       "      <td>1</td>\n",
       "      <td>A00</td>\n",
       "      <td>1A00</td>\n",
       "      <td>Certain infectious or parasitic diseases</td>\n",
       "      <td>Gastroenteritis or colitis of infectious origin</td>\n",
       "      <td>Bacterial intestinal infections</td>\n",
       "      <td>Cholera</td>\n",
       "      <td>DON0413</td>\n",
       "      <td>Intestinal infection due to Vibrio cholerae</td>\n",
       "    </tr>\n",
       "  </tbody>\n",
       "</table>\n",
       "</div>"
      ],
      "text/plain": [
       "   Unnamed: 0      Country iso2 iso3  Year  \\\n",
       "0           1  Afghanistan   AF  AFG  2000   \n",
       "1           2  Afghanistan   AF  AFG  2002   \n",
       "2           3  Afghanistan   AF  AFG  1998   \n",
       "3           4  Afghanistan   AF  AFG  1999   \n",
       "4           5  Afghanistan   AF  AFG  2000   \n",
       "\n",
       "                                              icd10n  \\\n",
       "0  Arthropod-borne viral fevers and viral haemorr...   \n",
       "1                     Intestinal infectious diseases   \n",
       "2                     Intestinal infectious diseases   \n",
       "3                         Codes for special purposes   \n",
       "4                     Intestinal infectious diseases   \n",
       "\n",
       "                                             icd103n  \\\n",
       "0               Unspecified viral haemorrhagic fever   \n",
       "1  Other gastroenteritis and colitis of infectiou...   \n",
       "2                                            Cholera   \n",
       "3  Provisional assignment of new diseases of unce...   \n",
       "4                                            Cholera   \n",
       "\n",
       "                                             icd104n   icd10c icd103c icd104c  \\\n",
       "0               Unspecified viral haemorrhagic fever  A92-A99     A99    A990   \n",
       "1  Other and unspecified gastroenteritis and coli...  A00-A09     A09    A090   \n",
       "2                                  Classical cholera  A00-A09     A00    A000   \n",
       "3           Severe acute respiratory syndrome [SARS]  U00-U49     U04    U049   \n",
       "4                                  Classical cholera  A00-A09     A00    A000   \n",
       "\n",
       "  icd11c1 icd11c2 icd11c3                                     icd11l1  \\\n",
       "0       1     D86    1D86  Certain infectious or parasitic diseases     \n",
       "1       1     A40    1A40  Certain infectious or parasitic diseases     \n",
       "2       1     A00    1A00  Certain infectious or parasitic diseases     \n",
       "3       1     D65    1D65  Certain infectious or parasitic diseases     \n",
       "4       1     A00    1A00  Certain infectious or parasitic diseases     \n",
       "\n",
       "                                             icd11l2  \\\n",
       "0                       Certain other viral diseases   \n",
       "1  Gastroenteritis or colitis of infectious origin     \n",
       "2  Gastroenteritis or colitis of infectious origin     \n",
       "3                    Certain zoonotic viral diseases   \n",
       "4  Gastroenteritis or colitis of infectious origin     \n",
       "\n",
       "                                             icd11l3  \\\n",
       "0  Viral haemorrhagic fever, not elsewhere classi...   \n",
       "1  Gastroenteritis or colitis without specificati...   \n",
       "2                  Bacterial intestinal infections     \n",
       "3                  Severe acute respiratory syndrome   \n",
       "4                  Bacterial intestinal infections     \n",
       "\n",
       "                                             Disease  \\\n",
       "0               Unspecified viral haemorrhagic fever   \n",
       "1  Infectious gastroenteritis or colitis without ...   \n",
       "2                                            Cholera   \n",
       "3                  Severe acute respiratory syndrome   \n",
       "4                                            Cholera   \n",
       "\n",
       "                        DONs  \\\n",
       "0           DON0404, DON0399   \n",
       "1                    DON0607   \n",
       "2  DON0253, DON0249, DON0248   \n",
       "3                    DON0294   \n",
       "4                    DON0413   \n",
       "\n",
       "                                          Definition  \n",
       "0                                                NaN  \n",
       "1                                                NaN  \n",
       "2        Intestinal infection due to Vibrio cholerae  \n",
       "3  A disease of the respiratory system, caused by...  \n",
       "4        Intestinal infection due to Vibrio cholerae  "
      ]
     },
     "execution_count": 2,
     "metadata": {},
     "output_type": "execute_result"
    }
   ],
   "source": [
    "# grabbing number of zoonotic outbreaks by country and year\n",
    "data_dir = Path(\"../data\")\n",
    "outbreak = pd.read_csv(data_dir / \"raw/OutbreaksData.csv\")\n",
    "outbreak.head()"
   ]
  },
  {
   "cell_type": "code",
   "execution_count": 3,
   "id": "21aaaf35-5e03-487e-a799-40fc50d0c945",
   "metadata": {},
   "outputs": [],
   "source": [
    "# filtering for zoonotic outbreaks\n",
    "zoonotic = [\n",
    "    'Unspecified viral haemorrhagic fever',\n",
    "    'Severe acute respiratory syndrome [SARS]',\n",
    "    'Influenza due to identified zoonotic or pandemic influenza virus',\n",
    "    'Dengue, unspecified',\n",
    "    'Leishmaniasis, unspecified',\n",
    "    'West Nile virus infection',\n",
    "    'Plague, unspecified',\n",
    "    'Middle East respiratory syndrome coronavirus [MERS-CoV]',\n",
    "    'Yellow fever, unspecified',\n",
    "    'Hantavirus (cardio-)pulmonary syndrome',\n",
    "    'Chikungunya virus disease',\n",
    "    'Listeriosis, unspecified',\n",
    "    'Legionnaires disease',\n",
    "    'Acute hepatitis A',\n",
    "    'Zika virus disease',\n",
    "    'Lassa fever',\n",
    "    'Acute hepatitis E',\n",
    "    'Monkeypox',\n",
    "    'Leptospirosis, unspecified',\n",
    "    'Rift Valley fever',\n",
    "    'Ebola virus disease',\n",
    "    'Marburg virus disease',\n",
    "    'Anthrax, unspecified',\n",
    "    'Rabies, unspecified',\n",
    "    'Salmonella infection, unspecified',\n",
    "    'Tularaemia, unspecified',\n",
    "    'Venezuelan equine fever',\n",
    "    'Coccidioidomycosis, unspecified',\n",
    "    'Haemorrhagic fever with renal syndrome',\n",
    "    'St Louis encephalitis',\n",
    "    'Bubonic plague'\n",
    "]\n",
    "# We are not including covid, just adding an outbreak in China since this was the animal to human part\n"
   ]
  },
  {
   "cell_type": "code",
   "execution_count": 4,
   "id": "13e29ac5-f92f-48c4-8e99-6d5785499d9a",
   "metadata": {},
   "outputs": [],
   "source": [
    "filtered_df = outbreak[outbreak['icd103n'].isin(zoonotic)]"
   ]
  },
  {
   "cell_type": "code",
   "execution_count": 5,
   "id": "0ff73258-145d-438e-8de1-7f6824ca86dc",
   "metadata": {},
   "outputs": [
    {
     "data": {
      "text/html": [
       "<div>\n",
       "<style scoped>\n",
       "    .dataframe tbody tr th:only-of-type {\n",
       "        vertical-align: middle;\n",
       "    }\n",
       "\n",
       "    .dataframe tbody tr th {\n",
       "        vertical-align: top;\n",
       "    }\n",
       "\n",
       "    .dataframe thead th {\n",
       "        text-align: right;\n",
       "    }\n",
       "</style>\n",
       "<table border=\"1\" class=\"dataframe\">\n",
       "  <thead>\n",
       "    <tr style=\"text-align: right;\">\n",
       "      <th></th>\n",
       "      <th>Year</th>\n",
       "      <th>Country</th>\n",
       "      <th>icd103n</th>\n",
       "    </tr>\n",
       "  </thead>\n",
       "  <tbody>\n",
       "    <tr>\n",
       "      <th>0</th>\n",
       "      <td>2000</td>\n",
       "      <td>Afghanistan</td>\n",
       "      <td>Unspecified viral haemorrhagic fever</td>\n",
       "    </tr>\n",
       "    <tr>\n",
       "      <th>1</th>\n",
       "      <td>2009</td>\n",
       "      <td>Afghanistan</td>\n",
       "      <td>Influenza due to identified zoonotic or pandem...</td>\n",
       "    </tr>\n",
       "    <tr>\n",
       "      <th>2</th>\n",
       "      <td>1998</td>\n",
       "      <td>Afghanistan</td>\n",
       "      <td>Unspecified viral haemorrhagic fever</td>\n",
       "    </tr>\n",
       "    <tr>\n",
       "      <th>3</th>\n",
       "      <td>2009</td>\n",
       "      <td>Albania</td>\n",
       "      <td>Influenza due to identified zoonotic or pandem...</td>\n",
       "    </tr>\n",
       "    <tr>\n",
       "      <th>4</th>\n",
       "      <td>2009</td>\n",
       "      <td>Algeria</td>\n",
       "      <td>Influenza due to identified zoonotic or pandem...</td>\n",
       "    </tr>\n",
       "    <tr>\n",
       "      <th>...</th>\n",
       "      <td>...</td>\n",
       "      <td>...</td>\n",
       "      <td>...</td>\n",
       "    </tr>\n",
       "    <tr>\n",
       "      <th>546</th>\n",
       "      <td>2014</td>\n",
       "      <td>Yemen</td>\n",
       "      <td>Severe acute respiratory syndrome [SARS]</td>\n",
       "    </tr>\n",
       "    <tr>\n",
       "      <th>547</th>\n",
       "      <td>2009</td>\n",
       "      <td>Zambia</td>\n",
       "      <td>Influenza due to identified zoonotic or pandem...</td>\n",
       "    </tr>\n",
       "    <tr>\n",
       "      <th>548</th>\n",
       "      <td>1999</td>\n",
       "      <td>Zimbabwe</td>\n",
       "      <td>Unspecified viral haemorrhagic fever</td>\n",
       "    </tr>\n",
       "    <tr>\n",
       "      <th>549</th>\n",
       "      <td>2009</td>\n",
       "      <td>Zimbabwe</td>\n",
       "      <td>Influenza due to identified zoonotic or pandem...</td>\n",
       "    </tr>\n",
       "    <tr>\n",
       "      <th>550</th>\n",
       "      <td>2020</td>\n",
       "      <td>China</td>\n",
       "      <td>COVID-19, virus identified</td>\n",
       "    </tr>\n",
       "  </tbody>\n",
       "</table>\n",
       "<p>551 rows × 3 columns</p>\n",
       "</div>"
      ],
      "text/plain": [
       "     Year      Country                                            icd103n\n",
       "0    2000  Afghanistan               Unspecified viral haemorrhagic fever\n",
       "1    2009  Afghanistan  Influenza due to identified zoonotic or pandem...\n",
       "2    1998  Afghanistan               Unspecified viral haemorrhagic fever\n",
       "3    2009      Albania  Influenza due to identified zoonotic or pandem...\n",
       "4    2009      Algeria  Influenza due to identified zoonotic or pandem...\n",
       "..    ...          ...                                                ...\n",
       "546  2014        Yemen           Severe acute respiratory syndrome [SARS]\n",
       "547  2009       Zambia  Influenza due to identified zoonotic or pandem...\n",
       "548  1999     Zimbabwe               Unspecified viral haemorrhagic fever\n",
       "549  2009     Zimbabwe  Influenza due to identified zoonotic or pandem...\n",
       "550  2020        China                         COVID-19, virus identified\n",
       "\n",
       "[551 rows x 3 columns]"
      ]
     },
     "execution_count": 5,
     "metadata": {},
     "output_type": "execute_result"
    }
   ],
   "source": [
    "# Adding just one row for covid\n",
    "final_outbreak = filtered_df[['Year', 'Country', 'icd103n']]\n",
    "final_outbreak._append({\"Year\": 2020, \"Country\": \"China\", 'icd103n': 'COVID-19, virus identified'}, ignore_index=True)"
   ]
  },
  {
   "cell_type": "code",
   "execution_count": 6,
   "id": "5ce28294-2aef-43d5-aebd-85b5e82ed8e0",
   "metadata": {},
   "outputs": [
    {
     "data": {
      "text/plain": [
       "Index(['Series Name', 'Series Code', 'Country Name', 'Country Code',\n",
       "       '1960 [YR1960]', '1961 [YR1961]', '1962 [YR1962]', '1963 [YR1963]',\n",
       "       '1964 [YR1964]', '1965 [YR1965]', '1966 [YR1966]', '1967 [YR1967]',\n",
       "       '1968 [YR1968]', '1969 [YR1969]', '1970 [YR1970]', '1971 [YR1971]',\n",
       "       '1972 [YR1972]', '1973 [YR1973]', '1974 [YR1974]', '1975 [YR1975]',\n",
       "       '1976 [YR1976]', '1977 [YR1977]', '1978 [YR1978]', '1979 [YR1979]',\n",
       "       '1980 [YR1980]', '1981 [YR1981]', '1982 [YR1982]', '1983 [YR1983]',\n",
       "       '1984 [YR1984]', '1985 [YR1985]', '1986 [YR1986]', '1987 [YR1987]',\n",
       "       '1988 [YR1988]', '1989 [YR1989]', '1990 [YR1990]', '1991 [YR1991]',\n",
       "       '1992 [YR1992]', '1993 [YR1993]', '1994 [YR1994]', '1995 [YR1995]',\n",
       "       '1996 [YR1996]', '1997 [YR1997]', '1998 [YR1998]', '1999 [YR1999]',\n",
       "       '2000 [YR2000]', '2001 [YR2001]', '2002 [YR2002]', '2003 [YR2003]',\n",
       "       '2004 [YR2004]', '2005 [YR2005]', '2006 [YR2006]', '2007 [YR2007]',\n",
       "       '2008 [YR2008]', '2009 [YR2009]', '2010 [YR2010]', '2011 [YR2011]',\n",
       "       '2012 [YR2012]', '2013 [YR2013]', '2014 [YR2014]', '2015 [YR2015]',\n",
       "       '2016 [YR2016]', '2017 [YR2017]', '2018 [YR2018]', '2019 [YR2019]',\n",
       "       '2020 [YR2020]', '2021 [YR2021]', '2022 [YR2022]'],\n",
       "      dtype='object')"
      ]
     },
     "execution_count": 6,
     "metadata": {},
     "output_type": "execute_result"
    }
   ],
   "source": [
    "# Grabbing statistics data from world bank\n",
    "country_data_raw = pd.read_csv(data_dir / \"raw\"/ \"country_data.csv\")\n",
    "country_data_raw.columns"
   ]
  },
  {
   "cell_type": "code",
   "execution_count": 7,
   "id": "a3d31b49-8481-4dfb-8e86-6d3290fb5773",
   "metadata": {},
   "outputs": [],
   "source": [
    "# The original was a .xlsx with extra info so we need to do some preprocessing for this\n",
    "filtered_columns = ['Series Name', 'Country Name', '1996 [YR1996]', '1997 [YR1997]', '1998 [YR1998]', '1999 [YR1999]',\n",
    "       '2000 [YR2000]', '2001 [YR2001]', '2002 [YR2002]', '2003 [YR2003]',\n",
    "       '2004 [YR2004]', '2005 [YR2005]', '2006 [YR2006]', '2007 [YR2007]',\n",
    "       '2008 [YR2008]', '2009 [YR2009]', '2010 [YR2010]', '2011 [YR2011]',\n",
    "       '2012 [YR2012]', '2013 [YR2013]', '2014 [YR2014]', '2015 [YR2015]',\n",
    "       '2016 [YR2016]', '2017 [YR2017]', '2018 [YR2018]', '2019 [YR2019]',\n",
    "       '2020 [YR2020]', '2021 [YR2021]', '2022 [YR2022]']\n",
    "country_data = country_data_raw[filtered_columns].iloc[:-5] # Getting rid of data description at the bottom"
   ]
  },
  {
   "cell_type": "code",
   "execution_count": 8,
   "id": "52492028-c2c6-49a3-b632-81b14dd83abe",
   "metadata": {},
   "outputs": [],
   "source": [
    "def convert_values(series):\n",
    "    return [np.nan if num == '..' else pd.to_numeric(num) for num in series]"
   ]
  },
  {
   "cell_type": "code",
   "execution_count": 9,
   "id": "ce061966-947f-4623-af61-f8f1849c6146",
   "metadata": {},
   "outputs": [
    {
     "name": "stdout",
     "output_type": "stream",
     "text": [
      "Converted non numerics to nan\n"
     ]
    },
    {
     "data": {
      "text/html": [
       "<div>\n",
       "<style scoped>\n",
       "    .dataframe tbody tr th:only-of-type {\n",
       "        vertical-align: middle;\n",
       "    }\n",
       "\n",
       "    .dataframe tbody tr th {\n",
       "        vertical-align: top;\n",
       "    }\n",
       "\n",
       "    .dataframe thead th {\n",
       "        text-align: right;\n",
       "    }\n",
       "</style>\n",
       "<table border=\"1\" class=\"dataframe\">\n",
       "  <thead>\n",
       "    <tr style=\"text-align: right;\">\n",
       "      <th></th>\n",
       "      <th>Series Name</th>\n",
       "      <th>Country Name</th>\n",
       "      <th>1996 [YR1996]</th>\n",
       "      <th>1997 [YR1997]</th>\n",
       "      <th>1998 [YR1998]</th>\n",
       "      <th>1999 [YR1999]</th>\n",
       "      <th>2000 [YR2000]</th>\n",
       "      <th>2001 [YR2001]</th>\n",
       "      <th>2002 [YR2002]</th>\n",
       "      <th>2003 [YR2003]</th>\n",
       "      <th>...</th>\n",
       "      <th>2013 [YR2013]</th>\n",
       "      <th>2014 [YR2014]</th>\n",
       "      <th>2015 [YR2015]</th>\n",
       "      <th>2016 [YR2016]</th>\n",
       "      <th>2017 [YR2017]</th>\n",
       "      <th>2018 [YR2018]</th>\n",
       "      <th>2019 [YR2019]</th>\n",
       "      <th>2020 [YR2020]</th>\n",
       "      <th>2021 [YR2021]</th>\n",
       "      <th>2022 [YR2022]</th>\n",
       "    </tr>\n",
       "  </thead>\n",
       "  <tbody>\n",
       "    <tr>\n",
       "      <th>0</th>\n",
       "      <td>Completeness of birth registration, rural (%)</td>\n",
       "      <td>Afghanistan</td>\n",
       "      <td>NaN</td>\n",
       "      <td>NaN</td>\n",
       "      <td>NaN</td>\n",
       "      <td>NaN</td>\n",
       "      <td>NaN</td>\n",
       "      <td>NaN</td>\n",
       "      <td>NaN</td>\n",
       "      <td>4.3</td>\n",
       "      <td>...</td>\n",
       "      <td>NaN</td>\n",
       "      <td>NaN</td>\n",
       "      <td>36.0</td>\n",
       "      <td>NaN</td>\n",
       "      <td>NaN</td>\n",
       "      <td>NaN</td>\n",
       "      <td>NaN</td>\n",
       "      <td>NaN</td>\n",
       "      <td>NaN</td>\n",
       "      <td>NaN</td>\n",
       "    </tr>\n",
       "    <tr>\n",
       "      <th>1</th>\n",
       "      <td>Completeness of birth registration, rural (%)</td>\n",
       "      <td>Africa Eastern and Southern</td>\n",
       "      <td>NaN</td>\n",
       "      <td>NaN</td>\n",
       "      <td>NaN</td>\n",
       "      <td>NaN</td>\n",
       "      <td>NaN</td>\n",
       "      <td>NaN</td>\n",
       "      <td>NaN</td>\n",
       "      <td>NaN</td>\n",
       "      <td>...</td>\n",
       "      <td>NaN</td>\n",
       "      <td>NaN</td>\n",
       "      <td>NaN</td>\n",
       "      <td>NaN</td>\n",
       "      <td>NaN</td>\n",
       "      <td>NaN</td>\n",
       "      <td>NaN</td>\n",
       "      <td>NaN</td>\n",
       "      <td>NaN</td>\n",
       "      <td>NaN</td>\n",
       "    </tr>\n",
       "    <tr>\n",
       "      <th>2</th>\n",
       "      <td>Completeness of birth registration, rural (%)</td>\n",
       "      <td>Africa Western and Central</td>\n",
       "      <td>NaN</td>\n",
       "      <td>NaN</td>\n",
       "      <td>NaN</td>\n",
       "      <td>NaN</td>\n",
       "      <td>NaN</td>\n",
       "      <td>NaN</td>\n",
       "      <td>NaN</td>\n",
       "      <td>NaN</td>\n",
       "      <td>...</td>\n",
       "      <td>NaN</td>\n",
       "      <td>NaN</td>\n",
       "      <td>NaN</td>\n",
       "      <td>NaN</td>\n",
       "      <td>NaN</td>\n",
       "      <td>NaN</td>\n",
       "      <td>NaN</td>\n",
       "      <td>NaN</td>\n",
       "      <td>NaN</td>\n",
       "      <td>NaN</td>\n",
       "    </tr>\n",
       "    <tr>\n",
       "      <th>3</th>\n",
       "      <td>Completeness of birth registration, rural (%)</td>\n",
       "      <td>Albania</td>\n",
       "      <td>NaN</td>\n",
       "      <td>NaN</td>\n",
       "      <td>NaN</td>\n",
       "      <td>NaN</td>\n",
       "      <td>NaN</td>\n",
       "      <td>NaN</td>\n",
       "      <td>NaN</td>\n",
       "      <td>NaN</td>\n",
       "      <td>...</td>\n",
       "      <td>NaN</td>\n",
       "      <td>NaN</td>\n",
       "      <td>NaN</td>\n",
       "      <td>NaN</td>\n",
       "      <td>NaN</td>\n",
       "      <td>98.4</td>\n",
       "      <td>NaN</td>\n",
       "      <td>NaN</td>\n",
       "      <td>NaN</td>\n",
       "      <td>NaN</td>\n",
       "    </tr>\n",
       "    <tr>\n",
       "      <th>4</th>\n",
       "      <td>Completeness of birth registration, rural (%)</td>\n",
       "      <td>Algeria</td>\n",
       "      <td>NaN</td>\n",
       "      <td>NaN</td>\n",
       "      <td>NaN</td>\n",
       "      <td>NaN</td>\n",
       "      <td>NaN</td>\n",
       "      <td>NaN</td>\n",
       "      <td>NaN</td>\n",
       "      <td>NaN</td>\n",
       "      <td>...</td>\n",
       "      <td>99.5</td>\n",
       "      <td>NaN</td>\n",
       "      <td>NaN</td>\n",
       "      <td>NaN</td>\n",
       "      <td>NaN</td>\n",
       "      <td>NaN</td>\n",
       "      <td>99.6</td>\n",
       "      <td>NaN</td>\n",
       "      <td>NaN</td>\n",
       "      <td>NaN</td>\n",
       "    </tr>\n",
       "  </tbody>\n",
       "</table>\n",
       "<p>5 rows × 29 columns</p>\n",
       "</div>"
      ],
      "text/plain": [
       "                                     Series Name                 Country Name  \\\n",
       "0  Completeness of birth registration, rural (%)                  Afghanistan   \n",
       "1  Completeness of birth registration, rural (%)  Africa Eastern and Southern   \n",
       "2  Completeness of birth registration, rural (%)   Africa Western and Central   \n",
       "3  Completeness of birth registration, rural (%)                      Albania   \n",
       "4  Completeness of birth registration, rural (%)                      Algeria   \n",
       "\n",
       "   1996 [YR1996]  1997 [YR1997]  1998 [YR1998]  1999 [YR1999]  2000 [YR2000]  \\\n",
       "0            NaN            NaN            NaN            NaN            NaN   \n",
       "1            NaN            NaN            NaN            NaN            NaN   \n",
       "2            NaN            NaN            NaN            NaN            NaN   \n",
       "3            NaN            NaN            NaN            NaN            NaN   \n",
       "4            NaN            NaN            NaN            NaN            NaN   \n",
       "\n",
       "   2001 [YR2001]  2002 [YR2002]  2003 [YR2003]  ...  2013 [YR2013]  \\\n",
       "0            NaN            NaN            4.3  ...            NaN   \n",
       "1            NaN            NaN            NaN  ...            NaN   \n",
       "2            NaN            NaN            NaN  ...            NaN   \n",
       "3            NaN            NaN            NaN  ...            NaN   \n",
       "4            NaN            NaN            NaN  ...           99.5   \n",
       "\n",
       "   2014 [YR2014]  2015 [YR2015]  2016 [YR2016]  2017 [YR2017]  2018 [YR2018]  \\\n",
       "0            NaN           36.0            NaN            NaN            NaN   \n",
       "1            NaN            NaN            NaN            NaN            NaN   \n",
       "2            NaN            NaN            NaN            NaN            NaN   \n",
       "3            NaN            NaN            NaN            NaN           98.4   \n",
       "4            NaN            NaN            NaN            NaN            NaN   \n",
       "\n",
       "   2019 [YR2019]  2020 [YR2020]  2021 [YR2021]  2022 [YR2022]  \n",
       "0            NaN            NaN            NaN            NaN  \n",
       "1            NaN            NaN            NaN            NaN  \n",
       "2            NaN            NaN            NaN            NaN  \n",
       "3            NaN            NaN            NaN            NaN  \n",
       "4           99.6            NaN            NaN            NaN  \n",
       "\n",
       "[5 rows x 29 columns]"
      ]
     },
     "execution_count": 9,
     "metadata": {},
     "output_type": "execute_result"
    }
   ],
   "source": [
    "# Converting strings to nan so we can interpolate later\n",
    "dropped_cols = ['Series Name', 'Country Name'] \n",
    "df_subset = country_data.drop(columns=dropped_cols)\n",
    "df_filled = df_subset.apply(convert_values)\n",
    "print(\"Converted non numerics to nan\")\n",
    "country_final = pd.concat([country_data[dropped_cols], df_filled], axis=1)\n",
    "country_final.head()"
   ]
  },
  {
   "cell_type": "code",
   "execution_count": 10,
   "id": "ac8116e4-f98b-433a-8be2-adbc7012f546",
   "metadata": {},
   "outputs": [
    {
     "data": {
      "text/html": [
       "<div>\n",
       "<style scoped>\n",
       "    .dataframe tbody tr th:only-of-type {\n",
       "        vertical-align: middle;\n",
       "    }\n",
       "\n",
       "    .dataframe tbody tr th {\n",
       "        vertical-align: top;\n",
       "    }\n",
       "\n",
       "    .dataframe thead th {\n",
       "        text-align: right;\n",
       "    }\n",
       "</style>\n",
       "<table border=\"1\" class=\"dataframe\">\n",
       "  <thead>\n",
       "    <tr style=\"text-align: right;\">\n",
       "      <th>Year</th>\n",
       "      <th>1996</th>\n",
       "      <th>1997</th>\n",
       "      <th>1998</th>\n",
       "      <th>1999</th>\n",
       "      <th>2000</th>\n",
       "      <th>2001</th>\n",
       "      <th>2002</th>\n",
       "      <th>2003</th>\n",
       "      <th>2004</th>\n",
       "      <th>2005</th>\n",
       "      <th>...</th>\n",
       "      <th>2013</th>\n",
       "      <th>2014</th>\n",
       "      <th>2015</th>\n",
       "      <th>2016</th>\n",
       "      <th>2017</th>\n",
       "      <th>2018</th>\n",
       "      <th>2019</th>\n",
       "      <th>2020</th>\n",
       "      <th>2021</th>\n",
       "      <th>2022</th>\n",
       "    </tr>\n",
       "    <tr>\n",
       "      <th>Country</th>\n",
       "      <th></th>\n",
       "      <th></th>\n",
       "      <th></th>\n",
       "      <th></th>\n",
       "      <th></th>\n",
       "      <th></th>\n",
       "      <th></th>\n",
       "      <th></th>\n",
       "      <th></th>\n",
       "      <th></th>\n",
       "      <th></th>\n",
       "      <th></th>\n",
       "      <th></th>\n",
       "      <th></th>\n",
       "      <th></th>\n",
       "      <th></th>\n",
       "      <th></th>\n",
       "      <th></th>\n",
       "      <th></th>\n",
       "      <th></th>\n",
       "      <th></th>\n",
       "    </tr>\n",
       "  </thead>\n",
       "  <tbody>\n",
       "    <tr>\n",
       "      <th>Afghanistan</th>\n",
       "      <td>0</td>\n",
       "      <td>0</td>\n",
       "      <td>1</td>\n",
       "      <td>0</td>\n",
       "      <td>1</td>\n",
       "      <td>0</td>\n",
       "      <td>0</td>\n",
       "      <td>0</td>\n",
       "      <td>0</td>\n",
       "      <td>0</td>\n",
       "      <td>...</td>\n",
       "      <td>0</td>\n",
       "      <td>0</td>\n",
       "      <td>0</td>\n",
       "      <td>0</td>\n",
       "      <td>0</td>\n",
       "      <td>0</td>\n",
       "      <td>0</td>\n",
       "      <td>0</td>\n",
       "      <td>0</td>\n",
       "      <td>0</td>\n",
       "    </tr>\n",
       "    <tr>\n",
       "      <th>Albania</th>\n",
       "      <td>0</td>\n",
       "      <td>0</td>\n",
       "      <td>0</td>\n",
       "      <td>0</td>\n",
       "      <td>0</td>\n",
       "      <td>0</td>\n",
       "      <td>0</td>\n",
       "      <td>0</td>\n",
       "      <td>0</td>\n",
       "      <td>0</td>\n",
       "      <td>...</td>\n",
       "      <td>0</td>\n",
       "      <td>0</td>\n",
       "      <td>0</td>\n",
       "      <td>0</td>\n",
       "      <td>0</td>\n",
       "      <td>0</td>\n",
       "      <td>0</td>\n",
       "      <td>0</td>\n",
       "      <td>0</td>\n",
       "      <td>0</td>\n",
       "    </tr>\n",
       "    <tr>\n",
       "      <th>Algeria</th>\n",
       "      <td>0</td>\n",
       "      <td>0</td>\n",
       "      <td>0</td>\n",
       "      <td>0</td>\n",
       "      <td>0</td>\n",
       "      <td>0</td>\n",
       "      <td>0</td>\n",
       "      <td>0</td>\n",
       "      <td>1</td>\n",
       "      <td>0</td>\n",
       "      <td>...</td>\n",
       "      <td>0</td>\n",
       "      <td>1</td>\n",
       "      <td>0</td>\n",
       "      <td>0</td>\n",
       "      <td>0</td>\n",
       "      <td>0</td>\n",
       "      <td>0</td>\n",
       "      <td>0</td>\n",
       "      <td>0</td>\n",
       "      <td>0</td>\n",
       "    </tr>\n",
       "    <tr>\n",
       "      <th>American Samoa</th>\n",
       "      <td>0</td>\n",
       "      <td>0</td>\n",
       "      <td>0</td>\n",
       "      <td>0</td>\n",
       "      <td>0</td>\n",
       "      <td>0</td>\n",
       "      <td>0</td>\n",
       "      <td>0</td>\n",
       "      <td>0</td>\n",
       "      <td>0</td>\n",
       "      <td>...</td>\n",
       "      <td>0</td>\n",
       "      <td>0</td>\n",
       "      <td>0</td>\n",
       "      <td>0</td>\n",
       "      <td>0</td>\n",
       "      <td>0</td>\n",
       "      <td>0</td>\n",
       "      <td>0</td>\n",
       "      <td>0</td>\n",
       "      <td>0</td>\n",
       "    </tr>\n",
       "    <tr>\n",
       "      <th>Andorra</th>\n",
       "      <td>0</td>\n",
       "      <td>0</td>\n",
       "      <td>0</td>\n",
       "      <td>0</td>\n",
       "      <td>0</td>\n",
       "      <td>0</td>\n",
       "      <td>0</td>\n",
       "      <td>0</td>\n",
       "      <td>0</td>\n",
       "      <td>0</td>\n",
       "      <td>...</td>\n",
       "      <td>0</td>\n",
       "      <td>0</td>\n",
       "      <td>0</td>\n",
       "      <td>0</td>\n",
       "      <td>0</td>\n",
       "      <td>0</td>\n",
       "      <td>0</td>\n",
       "      <td>0</td>\n",
       "      <td>0</td>\n",
       "      <td>0</td>\n",
       "    </tr>\n",
       "  </tbody>\n",
       "</table>\n",
       "<p>5 rows × 27 columns</p>\n",
       "</div>"
      ],
      "text/plain": [
       "Year            1996  1997  1998  1999  2000  2001  2002  2003  2004  2005  \\\n",
       "Country                                                                      \n",
       "Afghanistan        0     0     1     0     1     0     0     0     0     0   \n",
       "Albania            0     0     0     0     0     0     0     0     0     0   \n",
       "Algeria            0     0     0     0     0     0     0     0     1     0   \n",
       "American Samoa     0     0     0     0     0     0     0     0     0     0   \n",
       "Andorra            0     0     0     0     0     0     0     0     0     0   \n",
       "\n",
       "Year            ...  2013  2014  2015  2016  2017  2018  2019  2020  2021  \\\n",
       "Country         ...                                                         \n",
       "Afghanistan     ...     0     0     0     0     0     0     0     0     0   \n",
       "Albania         ...     0     0     0     0     0     0     0     0     0   \n",
       "Algeria         ...     0     1     0     0     0     0     0     0     0   \n",
       "American Samoa  ...     0     0     0     0     0     0     0     0     0   \n",
       "Andorra         ...     0     0     0     0     0     0     0     0     0   \n",
       "\n",
       "Year            2022  \n",
       "Country               \n",
       "Afghanistan        0  \n",
       "Albania            0  \n",
       "Algeria            0  \n",
       "American Samoa     0  \n",
       "Andorra            0  \n",
       "\n",
       "[5 rows x 27 columns]"
      ]
     },
     "execution_count": 10,
     "metadata": {},
     "output_type": "execute_result"
    }
   ],
   "source": [
    "# We want all outbreaks for a given year. Later we just want a binary classification so 2 outbreaks will become 1.\n",
    "final_outbreak_ml = final_outbreak[['Year', 'Country']]\n",
    "final_outbreak_ml = final_outbreak_ml.groupby(['Country', 'Year']).size().unstack(fill_value=0)\n",
    "final_outbreak_ml.head()                                     "
   ]
  },
  {
   "cell_type": "markdown",
   "id": "394f6295-2ae8-45c5-a779-a63ed53fe462",
   "metadata": {},
   "source": [
    "## Normalize the two tables so that the years and countries match up"
   ]
  },
  {
   "cell_type": "code",
   "execution_count": 11,
   "id": "e80d19ae-147a-4062-9d72-c3890b17a7cb",
   "metadata": {},
   "outputs": [],
   "source": [
    "# Countries are named differtly so let's make sure they are the same\n",
    "countries1 = np.array([str(country) for country in country_final['Country Name'].unique()])\n",
    "countries2 = np.array(final_outbreak_ml.index)"
   ]
  },
  {
   "cell_type": "code",
   "execution_count": 12,
   "id": "8b4a114d-ca23-436b-8204-2da5f4c36feb",
   "metadata": {},
   "outputs": [
    {
     "data": {
      "text/plain": [
       "array(['Bahamas', 'Bolivia (Plurinational State of)',\n",
       "       'Bonaire Sint Eustatius and Saba', 'Congo',\n",
       "       'Congo Democratic Republic of the', 'Cook Islands', 'Curaçao',\n",
       "       \"Côte d'Ivoire\", 'Egypt', 'Falkland Islands (Malvinas)',\n",
       "       'French Guiana', 'Guadeloupe', 'Guernsey', 'Hong Kong',\n",
       "       'Iran (Islamic Republic of)', 'Jersey',\n",
       "       \"Korea (Democratic People's Republic of)\", 'Korea Republic of',\n",
       "       \"Lao People's Democratic Republic\", 'Martinique',\n",
       "       'Micronesia (Federated States of)', 'Moldova Republic of',\n",
       "       'Palestine State of', 'Réunion', 'Saint Kitts and Nevis',\n",
       "       'Saint Lucia', 'Saint Martin (French part)',\n",
       "       'Saint Vincent and the Grenadines', 'Slovakia',\n",
       "       'Tanzania United Republic of', 'Turkey',\n",
       "       'United Kingdom of Great Britain and Northern Ireland',\n",
       "       'United States of America', 'Venezuela (Bolivarian Republic of)',\n",
       "       'Viet Nam', 'Virgin Islands (British)', 'Wallis and Futuna',\n",
       "       'Yemen'], dtype=object)"
      ]
     },
     "execution_count": 12,
     "metadata": {},
     "output_type": "execute_result"
    }
   ],
   "source": [
    "np.setdiff1d(countries2, countries1)"
   ]
  },
  {
   "cell_type": "code",
   "execution_count": 13,
   "id": "2e809969-e678-49f8-a706-57b4d68c1fcb",
   "metadata": {},
   "outputs": [],
   "source": [
    "# Since \"countries with outbreaks\" is a subset of \"countries\" we will use the former table for the names\n",
    "def update_name(name):\n",
    "    lookup = {\n",
    "        \"Bolivia (Plurinational State of)\": \"Bolivia\",\n",
    "        \"United Kingdom of Great Britain and Northern Ireland\": \"United Kingdom\",\n",
    "        \"Turkey\": \"Turkiye\",\n",
    "        \"United States of America\": \"United States\",\n",
    "        \"Viet Nam\": \"Vietnam\",\n",
    "        \"Yemen\": \"Yemen, Rep.\",\n",
    "        \"Egypt\": \"Egypt, Arab Rep.\",\n",
    "        \"Hong Kong\": \"Hong Kong SAR, China\",\n",
    "        \"Iran (Islamic Republic of)\": \"Iran, Islamic Rep.\",\n",
    "        \"Venezuela (Bolivarian Republic of)\": \"Venezuela, RB\",\n",
    "        \"Congo Democratic Republic of the\": \"Congo, Dem. Rep.\",\n",
    "        \"Korea Republic of\": \"Korea, Rep.\"\n",
    "    }\n",
    "    if name in lookup:\n",
    "        return lookup[name]\n",
    "    return name\n",
    "\n",
    "final_outbreak_ml.index = pd.Series(final_outbreak_ml.index).apply(update_name)"
   ]
  },
  {
   "cell_type": "code",
   "execution_count": 14,
   "id": "e92fc1c4-7450-4ef0-a739-b0c51cbb9527",
   "metadata": {},
   "outputs": [],
   "source": [
    "# Subset world data for only countries with outbreaks\n",
    "country_norm = country_final[country_final['Country Name'].isin(final_outbreak_ml.index)]\n",
    "outbreak_norm = final_outbreak_ml.loc[country_norm['Country Name'].unique()]"
   ]
  },
  {
   "cell_type": "markdown",
   "id": "750bbb93-b705-41cf-9468-a0192f57296d",
   "metadata": {},
   "source": [
    "## Merging the two tables together\n",
    "Now that the tables have the same countries, we can try to merge them together"
   ]
  },
  {
   "cell_type": "code",
   "execution_count": 15,
   "id": "68609c5c-e731-4525-812f-465523516183",
   "metadata": {},
   "outputs": [
    {
     "data": {
      "text/html": [
       "<div>\n",
       "<style scoped>\n",
       "    .dataframe tbody tr th:only-of-type {\n",
       "        vertical-align: middle;\n",
       "    }\n",
       "\n",
       "    .dataframe tbody tr th {\n",
       "        vertical-align: top;\n",
       "    }\n",
       "\n",
       "    .dataframe thead th {\n",
       "        text-align: right;\n",
       "    }\n",
       "</style>\n",
       "<table border=\"1\" class=\"dataframe\">\n",
       "  <thead>\n",
       "    <tr style=\"text-align: right;\">\n",
       "      <th></th>\n",
       "      <th>Series Name</th>\n",
       "      <th>Country Name</th>\n",
       "      <th>year</th>\n",
       "      <th>value</th>\n",
       "    </tr>\n",
       "  </thead>\n",
       "  <tbody>\n",
       "    <tr>\n",
       "      <th>0</th>\n",
       "      <td>Completeness of birth registration, rural (%)</td>\n",
       "      <td>Afghanistan</td>\n",
       "      <td>1996</td>\n",
       "      <td>NaN</td>\n",
       "    </tr>\n",
       "    <tr>\n",
       "      <th>1</th>\n",
       "      <td>Completeness of birth registration, rural (%)</td>\n",
       "      <td>Albania</td>\n",
       "      <td>1996</td>\n",
       "      <td>NaN</td>\n",
       "    </tr>\n",
       "    <tr>\n",
       "      <th>2</th>\n",
       "      <td>Completeness of birth registration, rural (%)</td>\n",
       "      <td>Algeria</td>\n",
       "      <td>1996</td>\n",
       "      <td>NaN</td>\n",
       "    </tr>\n",
       "    <tr>\n",
       "      <th>3</th>\n",
       "      <td>Completeness of birth registration, rural (%)</td>\n",
       "      <td>American Samoa</td>\n",
       "      <td>1996</td>\n",
       "      <td>NaN</td>\n",
       "    </tr>\n",
       "    <tr>\n",
       "      <th>4</th>\n",
       "      <td>Completeness of birth registration, rural (%)</td>\n",
       "      <td>Andorra</td>\n",
       "      <td>1996</td>\n",
       "      <td>NaN</td>\n",
       "    </tr>\n",
       "  </tbody>\n",
       "</table>\n",
       "</div>"
      ],
      "text/plain": [
       "                                     Series Name    Country Name  year  value\n",
       "0  Completeness of birth registration, rural (%)     Afghanistan  1996    NaN\n",
       "1  Completeness of birth registration, rural (%)         Albania  1996    NaN\n",
       "2  Completeness of birth registration, rural (%)         Algeria  1996    NaN\n",
       "3  Completeness of birth registration, rural (%)  American Samoa  1996    NaN\n",
       "4  Completeness of birth registration, rural (%)         Andorra  1996    NaN"
      ]
     },
     "execution_count": 15,
     "metadata": {},
     "output_type": "execute_result"
    }
   ],
   "source": [
    "# Making sure the columns have the same names and years\n",
    "country_long = country_norm.melt(id_vars=[\"Series Name\", \"Country Name\"], var_name=\"year\", value_name=\"value\")\n",
    "def extract_year(year_str):\n",
    "    return year_str.split(\" \")[0]\n",
    "country_long['year'] = country_long['year'].apply(extract_year)\n",
    "country_long.head()"
   ]
  },
  {
   "cell_type": "markdown",
   "id": "c5e60e03-576a-4be2-a7bc-71e6855a98f7",
   "metadata": {},
   "source": [
    "### Dealing with np.nan\n",
    "A lot of these values are missing so in order to preserve trends, we want to fill in all of the values for a country and statstic to be the mean of that statistic for that country. Otherwise label it as 0 so that it is not weighted in the model."
   ]
  },
  {
   "cell_type": "code",
   "execution_count": 16,
   "id": "30b87494-67a9-45ba-902a-4af816f6b683",
   "metadata": {},
   "outputs": [],
   "source": [
    "means = country_long.groupby(['Series Name', 'Country Name'])['value'].transform('mean')\n",
    "# If there is a mean, fill in all the na's with that mean\n",
    "country_long['value'] = country_long['value'].fillna(means)\n",
    "# Otherwise, fill all blank values with 0\n",
    "country_long['value'] = country_long['value'].fillna(0)"
   ]
  },
  {
   "cell_type": "code",
   "execution_count": 17,
   "id": "49b6a69c-e777-49a0-a422-fe51d57350c8",
   "metadata": {},
   "outputs": [
    {
     "data": {
      "text/html": [
       "<div>\n",
       "<style scoped>\n",
       "    .dataframe tbody tr th:only-of-type {\n",
       "        vertical-align: middle;\n",
       "    }\n",
       "\n",
       "    .dataframe tbody tr th {\n",
       "        vertical-align: top;\n",
       "    }\n",
       "\n",
       "    .dataframe thead th {\n",
       "        text-align: right;\n",
       "    }\n",
       "</style>\n",
       "<table border=\"1\" class=\"dataframe\">\n",
       "  <thead>\n",
       "    <tr style=\"text-align: right;\">\n",
       "      <th></th>\n",
       "      <th>Series Name</th>\n",
       "      <th>Country Name</th>\n",
       "      <th>year</th>\n",
       "      <th>value</th>\n",
       "    </tr>\n",
       "  </thead>\n",
       "  <tbody>\n",
       "    <tr>\n",
       "      <th>0</th>\n",
       "      <td>Completeness of birth registration, rural (%)</td>\n",
       "      <td>Afghanistan</td>\n",
       "      <td>1996</td>\n",
       "      <td>24.466667</td>\n",
       "    </tr>\n",
       "    <tr>\n",
       "      <th>1</th>\n",
       "      <td>Completeness of birth registration, rural (%)</td>\n",
       "      <td>Albania</td>\n",
       "      <td>1996</td>\n",
       "      <td>98.266667</td>\n",
       "    </tr>\n",
       "    <tr>\n",
       "      <th>2</th>\n",
       "      <td>Completeness of birth registration, rural (%)</td>\n",
       "      <td>Algeria</td>\n",
       "      <td>1996</td>\n",
       "      <td>99.433333</td>\n",
       "    </tr>\n",
       "    <tr>\n",
       "      <th>3</th>\n",
       "      <td>Completeness of birth registration, rural (%)</td>\n",
       "      <td>American Samoa</td>\n",
       "      <td>1996</td>\n",
       "      <td>0.000000</td>\n",
       "    </tr>\n",
       "    <tr>\n",
       "      <th>4</th>\n",
       "      <td>Completeness of birth registration, rural (%)</td>\n",
       "      <td>Andorra</td>\n",
       "      <td>1996</td>\n",
       "      <td>0.000000</td>\n",
       "    </tr>\n",
       "    <tr>\n",
       "      <th>5</th>\n",
       "      <td>Completeness of birth registration, rural (%)</td>\n",
       "      <td>Angola</td>\n",
       "      <td>1996</td>\n",
       "      <td>19.700000</td>\n",
       "    </tr>\n",
       "    <tr>\n",
       "      <th>6</th>\n",
       "      <td>Completeness of birth registration, rural (%)</td>\n",
       "      <td>Antigua and Barbuda</td>\n",
       "      <td>1996</td>\n",
       "      <td>0.000000</td>\n",
       "    </tr>\n",
       "    <tr>\n",
       "      <th>7</th>\n",
       "      <td>Completeness of birth registration, rural (%)</td>\n",
       "      <td>Argentina</td>\n",
       "      <td>1996</td>\n",
       "      <td>0.000000</td>\n",
       "    </tr>\n",
       "    <tr>\n",
       "      <th>8</th>\n",
       "      <td>Completeness of birth registration, rural (%)</td>\n",
       "      <td>Armenia</td>\n",
       "      <td>1996</td>\n",
       "      <td>98.100000</td>\n",
       "    </tr>\n",
       "    <tr>\n",
       "      <th>9</th>\n",
       "      <td>Completeness of birth registration, rural (%)</td>\n",
       "      <td>Aruba</td>\n",
       "      <td>1996</td>\n",
       "      <td>0.000000</td>\n",
       "    </tr>\n",
       "  </tbody>\n",
       "</table>\n",
       "</div>"
      ],
      "text/plain": [
       "                                     Series Name         Country Name  year  \\\n",
       "0  Completeness of birth registration, rural (%)          Afghanistan  1996   \n",
       "1  Completeness of birth registration, rural (%)              Albania  1996   \n",
       "2  Completeness of birth registration, rural (%)              Algeria  1996   \n",
       "3  Completeness of birth registration, rural (%)       American Samoa  1996   \n",
       "4  Completeness of birth registration, rural (%)              Andorra  1996   \n",
       "5  Completeness of birth registration, rural (%)               Angola  1996   \n",
       "6  Completeness of birth registration, rural (%)  Antigua and Barbuda  1996   \n",
       "7  Completeness of birth registration, rural (%)            Argentina  1996   \n",
       "8  Completeness of birth registration, rural (%)              Armenia  1996   \n",
       "9  Completeness of birth registration, rural (%)                Aruba  1996   \n",
       "\n",
       "       value  \n",
       "0  24.466667  \n",
       "1  98.266667  \n",
       "2  99.433333  \n",
       "3   0.000000  \n",
       "4   0.000000  \n",
       "5  19.700000  \n",
       "6   0.000000  \n",
       "7   0.000000  \n",
       "8  98.100000  \n",
       "9   0.000000  "
      ]
     },
     "execution_count": 17,
     "metadata": {},
     "output_type": "execute_result"
    }
   ],
   "source": [
    "# Country data with interpolation\n",
    "country_long.head(10)"
   ]
  },
  {
   "cell_type": "code",
   "execution_count": 18,
   "id": "9eb8fb24-7d49-414d-80a3-acdc05e77d7f",
   "metadata": {},
   "outputs": [
    {
     "data": {
      "text/html": [
       "<div>\n",
       "<style scoped>\n",
       "    .dataframe tbody tr th:only-of-type {\n",
       "        vertical-align: middle;\n",
       "    }\n",
       "\n",
       "    .dataframe tbody tr th {\n",
       "        vertical-align: top;\n",
       "    }\n",
       "\n",
       "    .dataframe thead th {\n",
       "        text-align: right;\n",
       "    }\n",
       "</style>\n",
       "<table border=\"1\" class=\"dataframe\">\n",
       "  <thead>\n",
       "    <tr style=\"text-align: right;\">\n",
       "      <th>Year</th>\n",
       "      <th>Country</th>\n",
       "      <th>1996</th>\n",
       "      <th>1997</th>\n",
       "      <th>1998</th>\n",
       "      <th>1999</th>\n",
       "      <th>2000</th>\n",
       "      <th>2001</th>\n",
       "      <th>2002</th>\n",
       "      <th>2003</th>\n",
       "      <th>2004</th>\n",
       "      <th>...</th>\n",
       "      <th>2013</th>\n",
       "      <th>2014</th>\n",
       "      <th>2015</th>\n",
       "      <th>2016</th>\n",
       "      <th>2017</th>\n",
       "      <th>2018</th>\n",
       "      <th>2019</th>\n",
       "      <th>2020</th>\n",
       "      <th>2021</th>\n",
       "      <th>2022</th>\n",
       "    </tr>\n",
       "  </thead>\n",
       "  <tbody>\n",
       "    <tr>\n",
       "      <th>0</th>\n",
       "      <td>Afghanistan</td>\n",
       "      <td>0</td>\n",
       "      <td>0</td>\n",
       "      <td>1</td>\n",
       "      <td>0</td>\n",
       "      <td>1</td>\n",
       "      <td>0</td>\n",
       "      <td>0</td>\n",
       "      <td>0</td>\n",
       "      <td>0</td>\n",
       "      <td>...</td>\n",
       "      <td>0</td>\n",
       "      <td>0</td>\n",
       "      <td>0</td>\n",
       "      <td>0</td>\n",
       "      <td>0</td>\n",
       "      <td>0</td>\n",
       "      <td>0</td>\n",
       "      <td>0</td>\n",
       "      <td>0</td>\n",
       "      <td>0</td>\n",
       "    </tr>\n",
       "    <tr>\n",
       "      <th>1</th>\n",
       "      <td>Albania</td>\n",
       "      <td>0</td>\n",
       "      <td>0</td>\n",
       "      <td>0</td>\n",
       "      <td>0</td>\n",
       "      <td>0</td>\n",
       "      <td>0</td>\n",
       "      <td>0</td>\n",
       "      <td>0</td>\n",
       "      <td>0</td>\n",
       "      <td>...</td>\n",
       "      <td>0</td>\n",
       "      <td>0</td>\n",
       "      <td>0</td>\n",
       "      <td>0</td>\n",
       "      <td>0</td>\n",
       "      <td>0</td>\n",
       "      <td>0</td>\n",
       "      <td>0</td>\n",
       "      <td>0</td>\n",
       "      <td>0</td>\n",
       "    </tr>\n",
       "    <tr>\n",
       "      <th>2</th>\n",
       "      <td>Algeria</td>\n",
       "      <td>0</td>\n",
       "      <td>0</td>\n",
       "      <td>0</td>\n",
       "      <td>0</td>\n",
       "      <td>0</td>\n",
       "      <td>0</td>\n",
       "      <td>0</td>\n",
       "      <td>0</td>\n",
       "      <td>1</td>\n",
       "      <td>...</td>\n",
       "      <td>0</td>\n",
       "      <td>1</td>\n",
       "      <td>0</td>\n",
       "      <td>0</td>\n",
       "      <td>0</td>\n",
       "      <td>0</td>\n",
       "      <td>0</td>\n",
       "      <td>0</td>\n",
       "      <td>0</td>\n",
       "      <td>0</td>\n",
       "    </tr>\n",
       "    <tr>\n",
       "      <th>3</th>\n",
       "      <td>American Samoa</td>\n",
       "      <td>0</td>\n",
       "      <td>0</td>\n",
       "      <td>0</td>\n",
       "      <td>0</td>\n",
       "      <td>0</td>\n",
       "      <td>0</td>\n",
       "      <td>0</td>\n",
       "      <td>0</td>\n",
       "      <td>0</td>\n",
       "      <td>...</td>\n",
       "      <td>0</td>\n",
       "      <td>0</td>\n",
       "      <td>0</td>\n",
       "      <td>0</td>\n",
       "      <td>0</td>\n",
       "      <td>0</td>\n",
       "      <td>0</td>\n",
       "      <td>0</td>\n",
       "      <td>0</td>\n",
       "      <td>0</td>\n",
       "    </tr>\n",
       "    <tr>\n",
       "      <th>4</th>\n",
       "      <td>Andorra</td>\n",
       "      <td>0</td>\n",
       "      <td>0</td>\n",
       "      <td>0</td>\n",
       "      <td>0</td>\n",
       "      <td>0</td>\n",
       "      <td>0</td>\n",
       "      <td>0</td>\n",
       "      <td>0</td>\n",
       "      <td>0</td>\n",
       "      <td>...</td>\n",
       "      <td>0</td>\n",
       "      <td>0</td>\n",
       "      <td>0</td>\n",
       "      <td>0</td>\n",
       "      <td>0</td>\n",
       "      <td>0</td>\n",
       "      <td>0</td>\n",
       "      <td>0</td>\n",
       "      <td>0</td>\n",
       "      <td>0</td>\n",
       "    </tr>\n",
       "  </tbody>\n",
       "</table>\n",
       "<p>5 rows × 28 columns</p>\n",
       "</div>"
      ],
      "text/plain": [
       "Year         Country  1996  1997  1998  1999  2000  2001  2002  2003  2004  \\\n",
       "0        Afghanistan     0     0     1     0     1     0     0     0     0   \n",
       "1            Albania     0     0     0     0     0     0     0     0     0   \n",
       "2            Algeria     0     0     0     0     0     0     0     0     1   \n",
       "3     American Samoa     0     0     0     0     0     0     0     0     0   \n",
       "4            Andorra     0     0     0     0     0     0     0     0     0   \n",
       "\n",
       "Year  ...  2013  2014  2015  2016  2017  2018  2019  2020  2021  2022  \n",
       "0     ...     0     0     0     0     0     0     0     0     0     0  \n",
       "1     ...     0     0     0     0     0     0     0     0     0     0  \n",
       "2     ...     0     1     0     0     0     0     0     0     0     0  \n",
       "3     ...     0     0     0     0     0     0     0     0     0     0  \n",
       "4     ...     0     0     0     0     0     0     0     0     0     0  \n",
       "\n",
       "[5 rows x 28 columns]"
      ]
     },
     "execution_count": 18,
     "metadata": {},
     "output_type": "execute_result"
    }
   ],
   "source": [
    "# Shaping the outbreak data\n",
    "outbreak_long = outbreak_norm.reset_index().rename(columns={\"index\":\"Country\"})\n",
    "outbreak_long.head()"
   ]
  },
  {
   "cell_type": "code",
   "execution_count": 19,
   "id": "544dd521-f185-4a01-a770-f973fd179318",
   "metadata": {},
   "outputs": [
    {
     "data": {
      "text/html": [
       "<div>\n",
       "<style scoped>\n",
       "    .dataframe tbody tr th:only-of-type {\n",
       "        vertical-align: middle;\n",
       "    }\n",
       "\n",
       "    .dataframe tbody tr th {\n",
       "        vertical-align: top;\n",
       "    }\n",
       "\n",
       "    .dataframe thead th {\n",
       "        text-align: right;\n",
       "    }\n",
       "</style>\n",
       "<table border=\"1\" class=\"dataframe\">\n",
       "  <thead>\n",
       "    <tr style=\"text-align: right;\">\n",
       "      <th></th>\n",
       "      <th>Country</th>\n",
       "      <th>Year</th>\n",
       "      <th>Value</th>\n",
       "      <th>Statistic</th>\n",
       "    </tr>\n",
       "  </thead>\n",
       "  <tbody>\n",
       "    <tr>\n",
       "      <th>0</th>\n",
       "      <td>Afghanistan</td>\n",
       "      <td>1996</td>\n",
       "      <td>0</td>\n",
       "      <td>Outbreaks</td>\n",
       "    </tr>\n",
       "    <tr>\n",
       "      <th>1</th>\n",
       "      <td>Albania</td>\n",
       "      <td>1996</td>\n",
       "      <td>0</td>\n",
       "      <td>Outbreaks</td>\n",
       "    </tr>\n",
       "    <tr>\n",
       "      <th>2</th>\n",
       "      <td>Algeria</td>\n",
       "      <td>1996</td>\n",
       "      <td>0</td>\n",
       "      <td>Outbreaks</td>\n",
       "    </tr>\n",
       "    <tr>\n",
       "      <th>3</th>\n",
       "      <td>American Samoa</td>\n",
       "      <td>1996</td>\n",
       "      <td>0</td>\n",
       "      <td>Outbreaks</td>\n",
       "    </tr>\n",
       "    <tr>\n",
       "      <th>4</th>\n",
       "      <td>Andorra</td>\n",
       "      <td>1996</td>\n",
       "      <td>0</td>\n",
       "      <td>Outbreaks</td>\n",
       "    </tr>\n",
       "  </tbody>\n",
       "</table>\n",
       "</div>"
      ],
      "text/plain": [
       "          Country  Year  Value  Statistic\n",
       "0     Afghanistan  1996      0  Outbreaks\n",
       "1         Albania  1996      0  Outbreaks\n",
       "2         Algeria  1996      0  Outbreaks\n",
       "3  American Samoa  1996      0  Outbreaks\n",
       "4         Andorra  1996      0  Outbreaks"
      ]
     },
     "execution_count": 19,
     "metadata": {},
     "output_type": "execute_result"
    }
   ],
   "source": [
    "# Lastly, make sure the column names match exactly\n",
    "outbreak_long = outbreak_long.reset_index(drop=True)\n",
    "outbreak_long = outbreak_long.melt(id_vars=\"Country\", var_name=\"Year\", value_name=\"Outbreaks\")\n",
    "outbreak_long[\"Value\"] = outbreak_long[\"Outbreaks\"]\n",
    "outbreak_long[\"Statistic\"] = [\"Outbreaks\" for num in outbreak_long[\"Value\"]]\n",
    "outbreak_long.drop(columns=[\"Outbreaks\"], inplace=True)\n",
    "outbreak_long.head()"
   ]
  },
  {
   "cell_type": "code",
   "execution_count": 20,
   "id": "398bb022-3df8-4c1a-9be3-af306b02ed67",
   "metadata": {},
   "outputs": [],
   "source": [
    "# Make sure country data has the same column names\n",
    "country_long.columns = [\"Statistic\", \"Country\", \"Year\", \"Value\"]"
   ]
  },
  {
   "cell_type": "code",
   "execution_count": 21,
   "id": "be6f3abd-11bb-4988-90d0-f7a2a0fed54c",
   "metadata": {},
   "outputs": [
    {
     "data": {
      "text/html": [
       "<div>\n",
       "<style scoped>\n",
       "    .dataframe tbody tr th:only-of-type {\n",
       "        vertical-align: middle;\n",
       "    }\n",
       "\n",
       "    .dataframe tbody tr th {\n",
       "        vertical-align: top;\n",
       "    }\n",
       "\n",
       "    .dataframe thead th {\n",
       "        text-align: right;\n",
       "    }\n",
       "</style>\n",
       "<table border=\"1\" class=\"dataframe\">\n",
       "  <thead>\n",
       "    <tr style=\"text-align: right;\">\n",
       "      <th></th>\n",
       "      <th>Country</th>\n",
       "      <th>Year</th>\n",
       "      <th>Value</th>\n",
       "      <th>Statistic</th>\n",
       "    </tr>\n",
       "  </thead>\n",
       "  <tbody>\n",
       "    <tr>\n",
       "      <th>0</th>\n",
       "      <td>Afghanistan</td>\n",
       "      <td>1996</td>\n",
       "      <td>0.0</td>\n",
       "      <td>Outbreaks</td>\n",
       "    </tr>\n",
       "    <tr>\n",
       "      <th>1</th>\n",
       "      <td>Albania</td>\n",
       "      <td>1996</td>\n",
       "      <td>0.0</td>\n",
       "      <td>Outbreaks</td>\n",
       "    </tr>\n",
       "    <tr>\n",
       "      <th>2</th>\n",
       "      <td>Algeria</td>\n",
       "      <td>1996</td>\n",
       "      <td>0.0</td>\n",
       "      <td>Outbreaks</td>\n",
       "    </tr>\n",
       "    <tr>\n",
       "      <th>3</th>\n",
       "      <td>American Samoa</td>\n",
       "      <td>1996</td>\n",
       "      <td>0.0</td>\n",
       "      <td>Outbreaks</td>\n",
       "    </tr>\n",
       "    <tr>\n",
       "      <th>4</th>\n",
       "      <td>Andorra</td>\n",
       "      <td>1996</td>\n",
       "      <td>0.0</td>\n",
       "      <td>Outbreaks</td>\n",
       "    </tr>\n",
       "  </tbody>\n",
       "</table>\n",
       "</div>"
      ],
      "text/plain": [
       "          Country  Year  Value  Statistic\n",
       "0     Afghanistan  1996    0.0  Outbreaks\n",
       "1         Albania  1996    0.0  Outbreaks\n",
       "2         Algeria  1996    0.0  Outbreaks\n",
       "3  American Samoa  1996    0.0  Outbreaks\n",
       "4         Andorra  1996    0.0  Outbreaks"
      ]
     },
     "execution_count": 21,
     "metadata": {},
     "output_type": "execute_result"
    }
   ],
   "source": [
    "# Our final training dataset\n",
    "training_df = pd.concat([outbreak_long, country_long])\n",
    "training_df['Year'] = training_df['Year'].astype(int)\n",
    "training_df.head()"
   ]
  },
  {
   "cell_type": "markdown",
   "id": "16cbe4d8-ab86-43da-8edf-3f8f525516da",
   "metadata": {},
   "source": [
    "## Add adjacency column\n",
    "Outbreaks don't occur very often so we want there to be some representation of adjacency in the data, especially since we are training each year independently. We want to add a column to capture this."
   ]
  },
  {
   "cell_type": "code",
   "execution_count": 22,
   "id": "9a518d0d-ce44-4936-bc9e-1718c9e280bf",
   "metadata": {},
   "outputs": [
    {
     "name": "stderr",
     "output_type": "stream",
     "text": [
      "509it [00:00, 3263.32it/s]\n"
     ]
    }
   ],
   "source": [
    "# Making new dataframe with adjacency column\n",
    "outbreak_df = training_df[training_df['Statistic'] == 'Outbreaks']\n",
    "new_df = pd.DataFrame({\"Country\": outbreak_df[\"Country\"], \"Year\": outbreak_df[\"Year\"], \"Value\": np.zeros(len(outbreak_df)), \"Statistic\": [\"Recent Outbreak\"] * len(outbreak_df)})\n",
    "only_outbreaks = outbreak_df[outbreak_df['Value'] > 0]\n",
    "\n",
    "# function for the year range, if there is an outbreak in a year then we don't necessarily have recent outbreak be true\n",
    "# otherwise the model might weigh it unusually highly\n",
    "def generate_numbers(input_number):\n",
    "    return [i for i in range(input_number + 1, min(input_number + 6, 2023))]\n",
    "    \n",
    "for row in tqdm(only_outbreaks.itertuples(index=False)):\n",
    "    years = generate_numbers(row.Year)\n",
    "    country = row.Country\n",
    "    new_df.loc[(new_df['Year'].isin(years)) & (new_df['Country'] == country), 'Value'] = 1\n",
    "\n",
    "combined = pd.concat([training_df, new_df])"
   ]
  },
  {
   "cell_type": "markdown",
   "id": "b36c7a8a-310c-4e5a-a717-1e22a089c0c3",
   "metadata": {},
   "source": [
    "## Pivot table for ML training\n",
    "Typically ML classes require us to have a few series that represent the training features, and one column for the target feature. For this we need to make a pivot table where each row is a country/year pair, and the columns are the values of the statistics"
   ]
  },
  {
   "cell_type": "code",
   "execution_count": 23,
   "id": "ac4c9ce4-594c-4393-b6f8-274c4128ee76",
   "metadata": {},
   "outputs": [
    {
     "data": {
      "text/html": [
       "<div>\n",
       "<style scoped>\n",
       "    .dataframe tbody tr th:only-of-type {\n",
       "        vertical-align: middle;\n",
       "    }\n",
       "\n",
       "    .dataframe tbody tr th {\n",
       "        vertical-align: top;\n",
       "    }\n",
       "\n",
       "    .dataframe thead th {\n",
       "        text-align: right;\n",
       "    }\n",
       "</style>\n",
       "<table border=\"1\" class=\"dataframe\">\n",
       "  <thead>\n",
       "    <tr style=\"text-align: right;\">\n",
       "      <th>Statistic</th>\n",
       "      <th>Completeness of birth registration, rural (%)</th>\n",
       "      <th>Hospital beds (per 1,000 people)</th>\n",
       "      <th>Human capital index (HCI) (scale 0-1)</th>\n",
       "      <th>Human capital index (HCI), male (scale 0-1)</th>\n",
       "      <th>Low-birthweight babies (% of births)</th>\n",
       "      <th>Number of surgical procedures (per 100,000 population)</th>\n",
       "      <th>Outbreaks</th>\n",
       "      <th>People practicing open defecation (% of population)</th>\n",
       "      <th>People using at least basic drinking water services (% of population)</th>\n",
       "      <th>People using at least basic sanitation services (% of population)</th>\n",
       "      <th>People using safely managed sanitation services (% of population)</th>\n",
       "      <th>People with basic handwashing facilities including soap and water (% of population)</th>\n",
       "      <th>Physicians (per 1,000 people)</th>\n",
       "      <th>Prevalence of undernourishment (% of population)</th>\n",
       "      <th>Recent Outbreak</th>\n",
       "      <th>Rural population (% of total population)</th>\n",
       "      <th>Rural population growth (annual %)</th>\n",
       "      <th>Rural poverty headcount ratio at national poverty lines (% of rural population)</th>\n",
       "      <th>Specialist surgical workforce (per 100,000 population)</th>\n",
       "    </tr>\n",
       "  </thead>\n",
       "  <tbody>\n",
       "    <tr>\n",
       "      <th>Afghanistan_1996</th>\n",
       "      <td>24.466667</td>\n",
       "      <td>0.432222</td>\n",
       "      <td>0.394258</td>\n",
       "      <td>0.403766</td>\n",
       "      <td>0.0</td>\n",
       "      <td>229.0</td>\n",
       "      <td>0.0</td>\n",
       "      <td>17.557965</td>\n",
       "      <td>52.439123</td>\n",
       "      <td>37.452266</td>\n",
       "      <td>0.0</td>\n",
       "      <td>41.150033</td>\n",
       "      <td>0.229435</td>\n",
       "      <td>28.615</td>\n",
       "      <td>0.0</td>\n",
       "      <td>78.286</td>\n",
       "      <td>3.988129</td>\n",
       "      <td>0.0</td>\n",
       "      <td>0.03</td>\n",
       "    </tr>\n",
       "    <tr>\n",
       "      <th>Afghanistan_1997</th>\n",
       "      <td>24.466667</td>\n",
       "      <td>0.432222</td>\n",
       "      <td>0.394258</td>\n",
       "      <td>0.403766</td>\n",
       "      <td>0.0</td>\n",
       "      <td>229.0</td>\n",
       "      <td>0.0</td>\n",
       "      <td>17.557965</td>\n",
       "      <td>52.439123</td>\n",
       "      <td>37.452266</td>\n",
       "      <td>0.0</td>\n",
       "      <td>41.150033</td>\n",
       "      <td>0.110000</td>\n",
       "      <td>28.615</td>\n",
       "      <td>0.0</td>\n",
       "      <td>78.195</td>\n",
       "      <td>3.794297</td>\n",
       "      <td>0.0</td>\n",
       "      <td>0.03</td>\n",
       "    </tr>\n",
       "    <tr>\n",
       "      <th>Afghanistan_1998</th>\n",
       "      <td>24.466667</td>\n",
       "      <td>0.432222</td>\n",
       "      <td>0.394258</td>\n",
       "      <td>0.403766</td>\n",
       "      <td>0.0</td>\n",
       "      <td>229.0</td>\n",
       "      <td>1.0</td>\n",
       "      <td>17.557965</td>\n",
       "      <td>52.439123</td>\n",
       "      <td>37.452266</td>\n",
       "      <td>0.0</td>\n",
       "      <td>41.150033</td>\n",
       "      <td>0.229435</td>\n",
       "      <td>28.615</td>\n",
       "      <td>0.0</td>\n",
       "      <td>78.105</td>\n",
       "      <td>3.767769</td>\n",
       "      <td>0.0</td>\n",
       "      <td>0.03</td>\n",
       "    </tr>\n",
       "    <tr>\n",
       "      <th>Afghanistan_1999</th>\n",
       "      <td>24.466667</td>\n",
       "      <td>0.432222</td>\n",
       "      <td>0.394258</td>\n",
       "      <td>0.403766</td>\n",
       "      <td>0.0</td>\n",
       "      <td>229.0</td>\n",
       "      <td>0.0</td>\n",
       "      <td>17.557965</td>\n",
       "      <td>52.439123</td>\n",
       "      <td>37.452266</td>\n",
       "      <td>0.0</td>\n",
       "      <td>41.150033</td>\n",
       "      <td>0.229435</td>\n",
       "      <td>28.615</td>\n",
       "      <td>1.0</td>\n",
       "      <td>78.014</td>\n",
       "      <td>3.961297</td>\n",
       "      <td>0.0</td>\n",
       "      <td>0.03</td>\n",
       "    </tr>\n",
       "    <tr>\n",
       "      <th>Afghanistan_2000</th>\n",
       "      <td>24.466667</td>\n",
       "      <td>0.300000</td>\n",
       "      <td>0.394258</td>\n",
       "      <td>0.403766</td>\n",
       "      <td>0.0</td>\n",
       "      <td>229.0</td>\n",
       "      <td>1.0</td>\n",
       "      <td>25.968485</td>\n",
       "      <td>27.441856</td>\n",
       "      <td>20.970919</td>\n",
       "      <td>0.0</td>\n",
       "      <td>41.150033</td>\n",
       "      <td>0.229435</td>\n",
       "      <td>28.615</td>\n",
       "      <td>1.0</td>\n",
       "      <td>77.922</td>\n",
       "      <td>1.325806</td>\n",
       "      <td>0.0</td>\n",
       "      <td>0.03</td>\n",
       "    </tr>\n",
       "  </tbody>\n",
       "</table>\n",
       "</div>"
      ],
      "text/plain": [
       "Statistic         Completeness of birth registration, rural (%)  \\\n",
       "Afghanistan_1996                                      24.466667   \n",
       "Afghanistan_1997                                      24.466667   \n",
       "Afghanistan_1998                                      24.466667   \n",
       "Afghanistan_1999                                      24.466667   \n",
       "Afghanistan_2000                                      24.466667   \n",
       "\n",
       "Statistic         Hospital beds (per 1,000 people)  \\\n",
       "Afghanistan_1996                          0.432222   \n",
       "Afghanistan_1997                          0.432222   \n",
       "Afghanistan_1998                          0.432222   \n",
       "Afghanistan_1999                          0.432222   \n",
       "Afghanistan_2000                          0.300000   \n",
       "\n",
       "Statistic         Human capital index (HCI) (scale 0-1)  \\\n",
       "Afghanistan_1996                               0.394258   \n",
       "Afghanistan_1997                               0.394258   \n",
       "Afghanistan_1998                               0.394258   \n",
       "Afghanistan_1999                               0.394258   \n",
       "Afghanistan_2000                               0.394258   \n",
       "\n",
       "Statistic         Human capital index (HCI), male (scale 0-1)  \\\n",
       "Afghanistan_1996                                     0.403766   \n",
       "Afghanistan_1997                                     0.403766   \n",
       "Afghanistan_1998                                     0.403766   \n",
       "Afghanistan_1999                                     0.403766   \n",
       "Afghanistan_2000                                     0.403766   \n",
       "\n",
       "Statistic         Low-birthweight babies (% of births)  \\\n",
       "Afghanistan_1996                                   0.0   \n",
       "Afghanistan_1997                                   0.0   \n",
       "Afghanistan_1998                                   0.0   \n",
       "Afghanistan_1999                                   0.0   \n",
       "Afghanistan_2000                                   0.0   \n",
       "\n",
       "Statistic         Number of surgical procedures (per 100,000 population)  \\\n",
       "Afghanistan_1996                                              229.0        \n",
       "Afghanistan_1997                                              229.0        \n",
       "Afghanistan_1998                                              229.0        \n",
       "Afghanistan_1999                                              229.0        \n",
       "Afghanistan_2000                                              229.0        \n",
       "\n",
       "Statistic         Outbreaks  \\\n",
       "Afghanistan_1996        0.0   \n",
       "Afghanistan_1997        0.0   \n",
       "Afghanistan_1998        1.0   \n",
       "Afghanistan_1999        0.0   \n",
       "Afghanistan_2000        1.0   \n",
       "\n",
       "Statistic         People practicing open defecation (% of population)  \\\n",
       "Afghanistan_1996                                          17.557965     \n",
       "Afghanistan_1997                                          17.557965     \n",
       "Afghanistan_1998                                          17.557965     \n",
       "Afghanistan_1999                                          17.557965     \n",
       "Afghanistan_2000                                          25.968485     \n",
       "\n",
       "Statistic         People using at least basic drinking water services (% of population)  \\\n",
       "Afghanistan_1996                                          52.439123                       \n",
       "Afghanistan_1997                                          52.439123                       \n",
       "Afghanistan_1998                                          52.439123                       \n",
       "Afghanistan_1999                                          52.439123                       \n",
       "Afghanistan_2000                                          27.441856                       \n",
       "\n",
       "Statistic         People using at least basic sanitation services (% of population)  \\\n",
       "Afghanistan_1996                                          37.452266                   \n",
       "Afghanistan_1997                                          37.452266                   \n",
       "Afghanistan_1998                                          37.452266                   \n",
       "Afghanistan_1999                                          37.452266                   \n",
       "Afghanistan_2000                                          20.970919                   \n",
       "\n",
       "Statistic         People using safely managed sanitation services (% of population)  \\\n",
       "Afghanistan_1996                                                0.0                   \n",
       "Afghanistan_1997                                                0.0                   \n",
       "Afghanistan_1998                                                0.0                   \n",
       "Afghanistan_1999                                                0.0                   \n",
       "Afghanistan_2000                                                0.0                   \n",
       "\n",
       "Statistic         People with basic handwashing facilities including soap and water (% of population)  \\\n",
       "Afghanistan_1996                                          41.150033                                     \n",
       "Afghanistan_1997                                          41.150033                                     \n",
       "Afghanistan_1998                                          41.150033                                     \n",
       "Afghanistan_1999                                          41.150033                                     \n",
       "Afghanistan_2000                                          41.150033                                     \n",
       "\n",
       "Statistic         Physicians (per 1,000 people)  \\\n",
       "Afghanistan_1996                       0.229435   \n",
       "Afghanistan_1997                       0.110000   \n",
       "Afghanistan_1998                       0.229435   \n",
       "Afghanistan_1999                       0.229435   \n",
       "Afghanistan_2000                       0.229435   \n",
       "\n",
       "Statistic         Prevalence of undernourishment (% of population)  \\\n",
       "Afghanistan_1996                                            28.615   \n",
       "Afghanistan_1997                                            28.615   \n",
       "Afghanistan_1998                                            28.615   \n",
       "Afghanistan_1999                                            28.615   \n",
       "Afghanistan_2000                                            28.615   \n",
       "\n",
       "Statistic         Recent Outbreak  Rural population (% of total population)  \\\n",
       "Afghanistan_1996              0.0                                    78.286   \n",
       "Afghanistan_1997              0.0                                    78.195   \n",
       "Afghanistan_1998              0.0                                    78.105   \n",
       "Afghanistan_1999              1.0                                    78.014   \n",
       "Afghanistan_2000              1.0                                    77.922   \n",
       "\n",
       "Statistic         Rural population growth (annual %)  \\\n",
       "Afghanistan_1996                            3.988129   \n",
       "Afghanistan_1997                            3.794297   \n",
       "Afghanistan_1998                            3.767769   \n",
       "Afghanistan_1999                            3.961297   \n",
       "Afghanistan_2000                            1.325806   \n",
       "\n",
       "Statistic         Rural poverty headcount ratio at national poverty lines (% of rural population)  \\\n",
       "Afghanistan_1996                                                0.0                                 \n",
       "Afghanistan_1997                                                0.0                                 \n",
       "Afghanistan_1998                                                0.0                                 \n",
       "Afghanistan_1999                                                0.0                                 \n",
       "Afghanistan_2000                                                0.0                                 \n",
       "\n",
       "Statistic         Specialist surgical workforce (per 100,000 population)  \n",
       "Afghanistan_1996                                               0.03       \n",
       "Afghanistan_1997                                               0.03       \n",
       "Afghanistan_1998                                               0.03       \n",
       "Afghanistan_1999                                               0.03       \n",
       "Afghanistan_2000                                               0.03       "
      ]
     },
     "execution_count": 23,
     "metadata": {},
     "output_type": "execute_result"
    }
   ],
   "source": [
    "combined[\"Country_Year\"] = combined[\"Country\"] + \"_\" + combined[\"Year\"].astype(str)\n",
    "pivot_df = combined.pivot(index=[\"Country_Year\"], columns=\"Statistic\", values=\"Value\")\n",
    "pivot_df.index.name = None\n",
    "pivot_df.head()"
   ]
  },
  {
   "cell_type": "markdown",
   "id": "a92b64be-32cb-4df3-b0eb-b85c8f45c892",
   "metadata": {},
   "source": [
    "# Model Training"
   ]
  },
  {
   "cell_type": "markdown",
   "id": "79d00be3-3667-4ebe-aadb-81f19608205c",
   "metadata": {},
   "source": [
    "We are going to train a few classification models to see which fits the data the best. If the initial results look good, we will move onto k-fold validation and if the results still look good we will do a grid search to determine the best hyperparameters for the model. The grid search will use timeseries cross validation so that we don't risk data leakage."
   ]
  },
  {
   "cell_type": "markdown",
   "id": "8a2f0c58-0ac1-4bb1-b0c5-a3abb062a7bc",
   "metadata": {},
   "source": [
    "## Random Forest Classifier"
   ]
  },
  {
   "cell_type": "code",
   "execution_count": 24,
   "id": "f78c39cd-8339-4622-bf02-634c01898fa5",
   "metadata": {},
   "outputs": [],
   "source": [
    "%%capture\n",
    "!pip install scikit-learn\n",
    "from sklearn.model_selection import train_test_split\n",
    "from sklearn.ensemble import RandomForestClassifier\n",
    "from sklearn.metrics import accuracy_score, classification_report\n",
    "from sklearn.preprocessing import StandardScaler\n",
    "from sklearn.model_selection import GridSearchCV\n",
    "from sklearn.model_selection import TimeSeriesSplit, cross_val_score, cross_val_predict"
   ]
  },
  {
   "cell_type": "code",
   "execution_count": 25,
   "id": "0c22f48a-1589-4d3e-8a29-f16d1eef545b",
   "metadata": {},
   "outputs": [
    {
     "name": "stdout",
     "output_type": "stream",
     "text": [
      "Cross-validated accuracy mean: 0.8449748743718593\n",
      "Std of cross-validated accuracy: 0.08963759316622473\n",
      "Cross-validated precision mean: 0.3185887975261789\n",
      "Std of cross-validated precision: 0.10737475409013986\n"
     ]
    }
   ],
   "source": [
    "pivot_df['Outbreaks'] = (pivot_df['Outbreaks'] > 0).astype(int) # setting this up as a binary classification problem\n",
    "\n",
    "# split up our features and target, and add standard scaling\n",
    "scaler = StandardScaler()\n",
    "pivot_df['Year'] = [int(str(idx).split('_')[-1]) for idx in pivot_df.index]\n",
    "pivot_df.sort_values(by='Year', inplace=True) # needed for timeseries split\n",
    "pivot_df.drop('Year', axis=1, inplace=True)\n",
    "\n",
    "X = pivot_df.drop('Outbreaks', axis=1)\n",
    "X = scaler.fit_transform(X)\n",
    "y = pivot_df['Outbreaks']\n",
    "\n",
    "tscv = TimeSeriesSplit(n_splits=5)\n",
    "\n",
    "clf = RandomForestClassifier(random_state=42)\n",
    "\n",
    "accuracy_scores = cross_val_score(clf, X, y, cv=tscv, scoring='accuracy')\n",
    "precision_scores = cross_val_score(clf, X, y, cv=tscv, scoring='precision')\n",
    "\n",
    "# Evaluate the model\n",
    "print(\"Cross-validated accuracy mean:\", np.mean(accuracy_scores))\n",
    "print(\"Std of cross-validated accuracy:\", np.std(accuracy_scores))\n",
    "print(\"Cross-validated precision mean:\", np.mean(precision_scores))\n",
    "print(\"Std of cross-validated precision:\", np.std(precision_scores))"
   ]
  },
  {
   "cell_type": "markdown",
   "id": "06e057ba-293a-4a8b-b7f6-333fe19a26a9",
   "metadata": {},
   "source": [
    "These results appear to be decent. Of course, it's not very accurately predicting when there will be an outbreak, but that is because only a small fraction of outbreaks occur in each country in each year, so it's understandable that when it **does** predict an outbreak, there is a low likelihood that it is correct. Since it seems decent, we will test the results of this model more thoroughly."
   ]
  },
  {
   "cell_type": "markdown",
   "id": "ad149490-67ba-4453-a03a-cdabb85be828",
   "metadata": {},
   "source": [
    "### Random Forest Classifier Validation\n",
    "Our results look pretty good! Let's make sure we are getting the best results possible by implementing a grid search for parameter tuning. For this we will use f1 score as our scoring metric because we assume that there are very few \"actual\" positive classifications and so accuracy or precision alone might lead to an imbalanced classification model. Also, we will continue to use timeseries splitting to prevent data leakage."
   ]
  },
  {
   "cell_type": "code",
   "execution_count": 26,
   "id": "8c81a7b4-5c59-4cb5-a193-4c13e191eae7",
   "metadata": {},
   "outputs": [
    {
     "name": "stdout",
     "output_type": "stream",
     "text": [
      "Best Parameters: {'max_depth': 10, 'n_estimators': 200}\n",
      "Best Score: 0.856281407035176\n"
     ]
    }
   ],
   "source": [
    "# Defining the parameter grid\n",
    "param_grid = {\n",
    "    'n_estimators': [100, 200, 300],\n",
    "    'max_depth': [10, 20, 30],\n",
    "}\n",
    "\n",
    "rf = RandomForestClassifier(random_state=42)\n",
    "tscv = TimeSeriesSplit(n_splits=5)\n",
    "grid_search = GridSearchCV(rf, param_grid, cv=tscv)\n",
    "\n",
    "grid_search.fit(X, y)\n",
    "best_rf_classifier = grid_search.best_estimator_\n",
    "\n",
    "print(\"Best Parameters:\", grid_search.best_params_)\n",
    "print(\"Best Score:\", grid_search.best_score_)"
   ]
  },
  {
   "cell_type": "markdown",
   "id": "215b51f0-cc08-44c6-b7ca-afb0f88be26d",
   "metadata": {},
   "source": [
    "### Forest Results\n",
    "Looks like we do decently considering the dataset. Next we are going to see how our model stacks up against a basic logistic regression model. This will serve as a sort of \"baseline\" for our results."
   ]
  },
  {
   "cell_type": "markdown",
   "id": "b5790844-2a69-4627-a56a-b61b55b7283f",
   "metadata": {},
   "source": [
    "## Logistic Regression\n",
    "In this section I trained the logistic regression model and evaluated with the timeseries split. However, I noticed something odd while looking at the numbers so the code I've included is just my debugging of the issue."
   ]
  },
  {
   "cell_type": "code",
   "execution_count": 27,
   "id": "0129f078-86a0-4769-8f5f-3ebf6c4a5eb5",
   "metadata": {},
   "outputs": [],
   "source": [
    "from sklearn.linear_model import LogisticRegression"
   ]
  },
  {
   "cell_type": "code",
   "execution_count": 28,
   "id": "bfd729a7-a84d-4b4a-a91e-fbc487e094b1",
   "metadata": {},
   "outputs": [],
   "source": [
    "%%capture --no-stdout\n",
    "tscv = TimeSeriesSplit(n_splits=5)\n",
    "\n",
    "log_reg = LogisticRegression(random_state=42, max_iter=1000, C=1.0, solver='lbfgs')\n",
    "\n",
    "accuracies = []\n",
    "classification_reports = []\n",
    "\n",
    "# Time series cross-validation + storing scores\n",
    "for train_index, test_index in tscv.split(X):\n",
    "    X_train, X_test = X[train_index], X[test_index]\n",
    "    y_train, y_test = y[train_index], y[test_index]\n",
    "\n",
    "    log_reg.fit(X_train, y_train)\n",
    "\n",
    "    y_pred = log_reg.predict(X_test)\n",
    "\n",
    "    accuracies.append(accuracy_score(y_test, y_pred))\n",
    "    classification_reports.append(classification_report(y_test, y_pred))"
   ]
  },
  {
   "cell_type": "code",
   "execution_count": 29,
   "id": "d553657e-289c-454c-ac5c-ccb902c64f77",
   "metadata": {},
   "outputs": [
    {
     "name": "stdout",
     "output_type": "stream",
     "text": [
      "Average Accuracy: 0.8768844221105528\n",
      "Classification Report for the first fold:\n",
      "               precision    recall  f1-score   support\n",
      "\n",
      "           0       0.89      1.00      0.94       708\n",
      "           1       0.00      0.00      0.00        88\n",
      "\n",
      "    accuracy                           0.89       796\n",
      "   macro avg       0.44      0.50      0.47       796\n",
      "weighted avg       0.79      0.89      0.84       796\n",
      "\n"
     ]
    }
   ],
   "source": [
    "print(\"Average Accuracy:\", np.mean(accuracies))\n",
    "print(\"Classification Report for the first fold:\\n\", classification_reports[0])"
   ]
  },
  {
   "cell_type": "code",
   "execution_count": 30,
   "id": "c055f8f3-a0b7-44f2-b0dc-eb3f0eb320f8",
   "metadata": {},
   "outputs": [
    {
     "data": {
      "text/plain": [
       "0"
      ]
     },
     "execution_count": 30,
     "metadata": {},
     "output_type": "execute_result"
    }
   ],
   "source": [
    "# Uh oh... why is precision so low?\n",
    "(y_pred > 0.5).sum()"
   ]
  },
  {
   "cell_type": "markdown",
   "id": "bf4a63da-6b67-4fa2-861c-063ad63930ec",
   "metadata": {},
   "source": [
    "Well that's not good... it seems to get a high score because it assumes that there will be no outbreaks at all... ever. This is understandable because of all the years and countries, very few have outbreaks. This might be improved with some tuning but at this point I think we should not use this model."
   ]
  },
  {
   "cell_type": "markdown",
   "id": "5c8140de-3ca7-4fb1-980d-f0735cc101a1",
   "metadata": {},
   "source": [
    "## KNearest Neighbor"
   ]
  },
  {
   "cell_type": "code",
   "execution_count": 31,
   "id": "bbd72ea0-a124-479d-a0fe-b70fd3e961ae",
   "metadata": {},
   "outputs": [],
   "source": [
    "from sklearn.neighbors import KNeighborsClassifier"
   ]
  },
  {
   "cell_type": "code",
   "execution_count": 32,
   "id": "925b5283-a349-4b95-881e-85794967b970",
   "metadata": {},
   "outputs": [
    {
     "name": "stdout",
     "output_type": "stream",
     "text": [
      "Accuracy Scores: [0.88693467 0.76256281 0.78266332 0.87437186 0.96859296]\n",
      "Mean accuracy Score: 0.8550251256281406\n",
      "Standard Deviation of accuracy Scores: 0.07493421102149946\n",
      "Precision Scores: [0.25       0.17647059 0.37837838 0.17391304 0.42857143]\n",
      "Mean precision Score: 0.2814666877326724\n",
      "Standard Deviation of precision Scores: 0.10451200916639199\n"
     ]
    }
   ],
   "source": [
    "tscv = TimeSeriesSplit(n_splits=5)\n",
    "\n",
    "# Initialize the KNN classifier\n",
    "knn = KNeighborsClassifier(n_neighbors=5)\n",
    "\n",
    "# Perform time series cross-validation\n",
    "accuracy_scores = cross_val_score(knn, X, y, cv=tscv)\n",
    "precision_scores = cross_val_score(knn, X, y, cv=tscv, scoring='precision')\n",
    "\n",
    "# Output results\n",
    "print(f\"Accuracy Scores: {accuracy_scores}\")\n",
    "print(f\"Mean accuracy Score: {np.mean(accuracy_scores)}\")\n",
    "print(f\"Standard Deviation of accuracy Scores: {np.std(accuracy_scores)}\")\n",
    "\n",
    "print(f\"Precision Scores: {precision_scores}\")\n",
    "print(f\"Mean precision Score: {np.mean(precision_scores)}\")\n",
    "print(f\"Standard Deviation of precision Scores: {np.std(precision_scores)}\")\n",
    "\n"
   ]
  },
  {
   "cell_type": "markdown",
   "id": "1eccd82e-502b-4dd4-b304-2efe6cf44050",
   "metadata": {},
   "source": [
    "Hey this is actually (marginally) better than our random forest regressor! Let's continue the analysis by using k fold cross validation. Since this is our best model yet, let's also see if we can do some hyperparameter tuning to improve the evaluation statistics. For this we will use f1 score as our scoring metric because we assume that there are very few \"actual\" positive classifications and so accuracy or precision alone might lead to an imbalanced classification model."
   ]
  },
  {
   "cell_type": "code",
   "execution_count": 33,
   "id": "f4929dd3-0868-447f-88c0-fcd58d4d2f17",
   "metadata": {},
   "outputs": [
    {
     "name": "stdout",
     "output_type": "stream",
     "text": [
      "Best Parameters: {'metric': 'manhattan', 'n_neighbors': 7, 'weights': 'uniform'}\n",
      "Best Score: 0.8684372300650052\n",
      "Test Set Accuracy: 0.9698492462311558\n",
      "Classification Report:\n",
      "               precision    recall  f1-score   support\n",
      "\n",
      "           0       0.99      0.98      0.98       774\n",
      "           1       0.46      0.50      0.48        22\n",
      "\n",
      "    accuracy                           0.97       796\n",
      "   macro avg       0.72      0.74      0.73       796\n",
      "weighted avg       0.97      0.97      0.97       796\n",
      "\n"
     ]
    }
   ],
   "source": [
    "param_grid = {\n",
    "    'n_neighbors': [2, 3, 5, 7, 9],\n",
    "    'weights': ['uniform', 'distance'],\n",
    "    'metric': ['euclidean', 'manhattan', 'minkowski']\n",
    "}\n",
    "\n",
    "knn = KNeighborsClassifier()\n",
    "grid_search = GridSearchCV(knn, param_grid, cv=5)\n",
    "grid_search.fit(X_train, y_train)\n",
    "print(\"Best Parameters:\", grid_search.best_params_)\n",
    "print(\"Best Score:\", grid_search.best_score_)\n",
    "\n",
    "# evaluate the best one\n",
    "best_knn = grid_search.best_estimator_\n",
    "y_pred = best_knn.predict(X_test)\n",
    "\n",
    "print(\"Test Set Accuracy:\", accuracy_score(y_test, y_pred))\n",
    "print(\"Classification Report:\\n\", classification_report(y_test, y_pred))"
   ]
  },
  {
   "cell_type": "markdown",
   "id": "721a52fe-b201-426e-b941-272a0318e67f",
   "metadata": {},
   "source": [
    "## Evaluation Results\n",
    "It looks like a k nearest neighbor model with manhattan metric, 7 nearest neighbors, and a uniform weight is our most effective model. That said, let's use our best model's predicted probabilities as a sort of \"risk score\" so that we can use it to visualize the results and predict the trend of outbreaks for each country."
   ]
  },
  {
   "cell_type": "markdown",
   "id": "b2d0c769-8b49-47fc-9a12-a9c7ca22c428",
   "metadata": {},
   "source": [
    "## Shaping Results for Visualizations\n",
    "Ideally we want a dataframe that is just Country, Year, and Score so that we can fit it onto a map. We also want to apply linear regression to each country to predict the risk score in the next 5 years. We'll do that below before diving into making the visualizations"
   ]
  },
  {
   "cell_type": "code",
   "execution_count": 34,
   "id": "3e3149e7-ff8f-4955-ae7f-795cdb1bb31d",
   "metadata": {},
   "outputs": [],
   "source": [
    "prob_scores = [tup[1] for tup in best_knn.predict_proba(X)]\n",
    "pivot_df['Risk Score'] = prob_scores\n",
    "pivot_df = pivot_df.reset_index()"
   ]
  },
  {
   "cell_type": "code",
   "execution_count": 35,
   "id": "d8c5a62a-a109-4c66-9df6-10d1405b5e42",
   "metadata": {},
   "outputs": [],
   "source": [
    "pivot_df[['Country', 'Year']] = pivot_df['index'].str.split('_', expand=True)\n",
    "\n",
    "final_df = pivot_df[['Year', 'Country', 'Risk Score']].copy()\n",
    "final_df['Year'] = final_df['Year'].astype(int)"
   ]
  },
  {
   "cell_type": "code",
   "execution_count": 36,
   "id": "59b8f13b-a1f4-4723-adad-55a3fd1e3df8",
   "metadata": {},
   "outputs": [],
   "source": [
    "%%capture\n",
    "from sklearn.linear_model import LinearRegression\n",
    "\n",
    "risk_trends = {'Country': [], 'Trends': []} # Saving this for later comparison\n",
    "future_predictions = pd.DataFrame()\n",
    "\n",
    "for country in final_df['Country'].unique():\n",
    "    country_data = final_df[final_df['Country'] == country]\n",
    "    model = LinearRegression()\n",
    "    X = country_data[['Year']]\n",
    "    y = country_data['Risk Score']\n",
    "    model.fit(X, y)\n",
    "    risk_trends['Country'].append(country)\n",
    "    risk_trends['Trends'].append(model.coef_[0])  # getting trend direction for later\n",
    "\n",
    "    # Looking at the next 5 years\n",
    "    future_years = np.array([[year] for year in range(2023, 2028)])\n",
    "    predicted_scores = model.predict(future_years)\n",
    "\n",
    "    # This is the temp dataframe for the predictions\n",
    "    predictions_df = pd.DataFrame({\n",
    "        'Year': range(2023, 2028),\n",
    "        'Country': [country] * 5,\n",
    "        'Risk Score': predicted_scores\n",
    "    })\n",
    "\n",
    "    # Append predictions to the future_predictions DataFrame\n",
    "    future_predictions = pd.concat([future_predictions, predictions_df], ignore_index=True)\n",
    "\n",
    "# Concatenate future predictions with original data\n",
    "risk_trend_df = pd.DataFrame(risk_trends)\n",
    "final_df = pd.concat([final_df, future_predictions], ignore_index=True)\n",
    "final_df.loc[final_df['Risk Score'] < 0, 'Risk Score'] = 0"
   ]
  },
  {
   "cell_type": "code",
   "execution_count": 37,
   "id": "4c1794c4-1021-4559-a58c-ce044e00ebac",
   "metadata": {},
   "outputs": [
    {
     "data": {
      "text/html": [
       "<div>\n",
       "<style scoped>\n",
       "    .dataframe tbody tr th:only-of-type {\n",
       "        vertical-align: middle;\n",
       "    }\n",
       "\n",
       "    .dataframe tbody tr th {\n",
       "        vertical-align: top;\n",
       "    }\n",
       "\n",
       "    .dataframe thead th {\n",
       "        text-align: right;\n",
       "    }\n",
       "</style>\n",
       "<table border=\"1\" class=\"dataframe\">\n",
       "  <thead>\n",
       "    <tr style=\"text-align: right;\">\n",
       "      <th></th>\n",
       "      <th>Year</th>\n",
       "      <th>Country</th>\n",
       "      <th>Risk Score</th>\n",
       "    </tr>\n",
       "  </thead>\n",
       "  <tbody>\n",
       "    <tr>\n",
       "      <th>4449</th>\n",
       "      <td>2021</td>\n",
       "      <td>Afghanistan</td>\n",
       "      <td>0.142857</td>\n",
       "    </tr>\n",
       "    <tr>\n",
       "      <th>4606</th>\n",
       "      <td>2022</td>\n",
       "      <td>Afghanistan</td>\n",
       "      <td>0.142857</td>\n",
       "    </tr>\n",
       "    <tr>\n",
       "      <th>4779</th>\n",
       "      <td>2023</td>\n",
       "      <td>Afghanistan</td>\n",
       "      <td>0.155474</td>\n",
       "    </tr>\n",
       "    <tr>\n",
       "      <th>4780</th>\n",
       "      <td>2024</td>\n",
       "      <td>Afghanistan</td>\n",
       "      <td>0.153730</td>\n",
       "    </tr>\n",
       "    <tr>\n",
       "      <th>4781</th>\n",
       "      <td>2025</td>\n",
       "      <td>Afghanistan</td>\n",
       "      <td>0.151986</td>\n",
       "    </tr>\n",
       "    <tr>\n",
       "      <th>4782</th>\n",
       "      <td>2026</td>\n",
       "      <td>Afghanistan</td>\n",
       "      <td>0.150241</td>\n",
       "    </tr>\n",
       "    <tr>\n",
       "      <th>4783</th>\n",
       "      <td>2027</td>\n",
       "      <td>Afghanistan</td>\n",
       "      <td>0.148497</td>\n",
       "    </tr>\n",
       "  </tbody>\n",
       "</table>\n",
       "</div>"
      ],
      "text/plain": [
       "      Year      Country  Risk Score\n",
       "4449  2021  Afghanistan    0.142857\n",
       "4606  2022  Afghanistan    0.142857\n",
       "4779  2023  Afghanistan    0.155474\n",
       "4780  2024  Afghanistan    0.153730\n",
       "4781  2025  Afghanistan    0.151986\n",
       "4782  2026  Afghanistan    0.150241\n",
       "4783  2027  Afghanistan    0.148497"
      ]
     },
     "execution_count": 37,
     "metadata": {},
     "output_type": "execute_result"
    }
   ],
   "source": [
    "# Checking that the extra years are added\n",
    "final_df[(final_df['Country'] == 'Afghanistan') & (final_df['Year'] > 2020)]"
   ]
  },
  {
   "cell_type": "markdown",
   "id": "97569073-5868-40a2-84fe-101aace6f47f",
   "metadata": {},
   "source": [
    "# Visualizations"
   ]
  },
  {
   "cell_type": "code",
   "execution_count": 38,
   "id": "a57145bb-56cf-49d7-ad60-889d6b5e0865",
   "metadata": {},
   "outputs": [],
   "source": [
    "%%capture\n",
    "!pip install plotly\n",
    "import ipywidgets as widgets\n",
    "from IPython.display import display\n",
    "from plotly.subplots import make_subplots\n",
    "import plotly.graph_objects as go\n",
    "import plotly.express as px"
   ]
  },
  {
   "cell_type": "markdown",
   "id": "3952a966-4183-40c7-ba9d-48492d48bff9",
   "metadata": {},
   "source": [
    "## Country Names\n",
    "We still need to make sure that our country names match the country names that are expected by the graphing library. Luckily we have a dictionary of the format {code: country} so we will import this, look for differences, and correct the mismatches. "
   ]
  },
  {
   "cell_type": "code",
   "execution_count": 41,
   "id": "89569fa3-89a8-4eb5-a2ae-9b059614806a",
   "metadata": {},
   "outputs": [],
   "source": [
    "from src.data_processing.iso_dict import iso_codes"
   ]
  },
  {
   "cell_type": "code",
   "execution_count": 42,
   "id": "daea3cc8-2fdc-462b-b5df-10dbac1eb421",
   "metadata": {},
   "outputs": [],
   "source": [
    "country_codes = {v: k for k, v in iso_codes.items()}"
   ]
  },
  {
   "cell_type": "code",
   "execution_count": 43,
   "id": "beacbd13-3112-43b2-a7d8-6d535df4a87d",
   "metadata": {},
   "outputs": [
    {
     "name": "stdout",
     "output_type": "stream",
     "text": [
      "['Eswatini', 'Egypt, Arab Rep.', 'Venezuela, RB', 'Congo, Dem. Rep.', 'United States', 'Sint Maarten (Dutch part)', 'Iran, Islamic Rep.', 'Syrian Arab Republic', 'Turkiye', 'North Macedonia', 'Cabo Verde', 'Hong Kong SAR, China', 'Czechia', 'Kosovo', 'Korea, Rep.', 'Yemen, Rep.', 'Virgin Islands (U.S.)', 'Vietnam']\n"
     ]
    }
   ],
   "source": [
    "# report mismatches\n",
    "bad_countries = []\n",
    "for country in final_df['Country'].unique():\n",
    "    if country not in country_codes:\n",
    "        bad_countries.append(country)\n",
    "\n",
    "print(bad_countries)"
   ]
  },
  {
   "cell_type": "code",
   "execution_count": 44,
   "id": "f6d8e72f-2667-4508-92d7-43f4627f425d",
   "metadata": {},
   "outputs": [],
   "source": [
    "correct_countries = {\n",
    "    'Cabo Verde': 'CPV',\n",
    "    'Congo, Dem. Rep.': 'COD',\n",
    "    'Czechia': 'CZE',\n",
    "    'Egypt, Arab Rep.': 'EGY',\n",
    "    'Eswatini': 'SWZ',\n",
    "    'Hong Kong SAR, China': 'HKG',\n",
    "    'Iran, Islamic Rep.': 'IRN',\n",
    "    'Korea, Rep.': 'KOR',\n",
    "    'Kosovo': 'XKX',  # Note: Kosovo uses the \"XKX\" code as it is not universally recognized\n",
    "    'North Macedonia': 'MKD',\n",
    "    'Sint Maarten (Dutch part)': 'SXM',\n",
    "    'Syrian Arab Republic': 'SYR',\n",
    "    'Turkiye': 'TUR',\n",
    "    'United States': 'USA',\n",
    "    'Venezuela, RB': 'VEN',\n",
    "    'Vietnam': 'VNM',\n",
    "    'Virgin Islands (U.S.)': 'VIR',\n",
    "    'Yemen, Rep.': 'YEM',\n",
    "}\n"
   ]
  },
  {
   "cell_type": "code",
   "execution_count": 45,
   "id": "ba3dad6d-c431-4c08-9916-309630b76cc8",
   "metadata": {},
   "outputs": [],
   "source": [
    "final_df = final_df[final_df['Country'] != 0] # pretty sure this is just a null entry\n",
    "country_codes.update(correct_countries)\n",
    "final_df['Country'] = [country_codes[country] for country in final_df['Country']]"
   ]
  },
  {
   "cell_type": "code",
   "execution_count": 46,
   "id": "6d46507c-5c2f-45de-862f-0e01a4c25b0e",
   "metadata": {},
   "outputs": [
    {
     "data": {
      "text/html": [
       "<div>\n",
       "<style scoped>\n",
       "    .dataframe tbody tr th:only-of-type {\n",
       "        vertical-align: middle;\n",
       "    }\n",
       "\n",
       "    .dataframe tbody tr th {\n",
       "        vertical-align: top;\n",
       "    }\n",
       "\n",
       "    .dataframe thead th {\n",
       "        text-align: right;\n",
       "    }\n",
       "</style>\n",
       "<table border=\"1\" class=\"dataframe\">\n",
       "  <thead>\n",
       "    <tr style=\"text-align: right;\">\n",
       "      <th></th>\n",
       "      <th>Year</th>\n",
       "      <th>Country</th>\n",
       "      <th>Risk Score</th>\n",
       "    </tr>\n",
       "  </thead>\n",
       "  <tbody>\n",
       "    <tr>\n",
       "      <th>0</th>\n",
       "      <td>1996</td>\n",
       "      <td>AFG</td>\n",
       "      <td>0.285714</td>\n",
       "    </tr>\n",
       "    <tr>\n",
       "      <th>1</th>\n",
       "      <td>1996</td>\n",
       "      <td>MLI</td>\n",
       "      <td>0.142857</td>\n",
       "    </tr>\n",
       "    <tr>\n",
       "      <th>2</th>\n",
       "      <td>1996</td>\n",
       "      <td>GBR</td>\n",
       "      <td>0.000000</td>\n",
       "    </tr>\n",
       "    <tr>\n",
       "      <th>3</th>\n",
       "      <td>1996</td>\n",
       "      <td>AUS</td>\n",
       "      <td>0.000000</td>\n",
       "    </tr>\n",
       "    <tr>\n",
       "      <th>4</th>\n",
       "      <td>1996</td>\n",
       "      <td>CHL</td>\n",
       "      <td>0.000000</td>\n",
       "    </tr>\n",
       "  </tbody>\n",
       "</table>\n",
       "</div>"
      ],
      "text/plain": [
       "   Year Country  Risk Score\n",
       "0  1996     AFG    0.285714\n",
       "1  1996     MLI    0.142857\n",
       "2  1996     GBR    0.000000\n",
       "3  1996     AUS    0.000000\n",
       "4  1996     CHL    0.000000"
      ]
     },
     "execution_count": 46,
     "metadata": {},
     "output_type": "execute_result"
    }
   ],
   "source": [
    "final_df.head()"
   ]
  },
  {
   "cell_type": "markdown",
   "id": "ac4bf13d-f378-4bba-b945-3d358fdfee73",
   "metadata": {},
   "source": [
    "## Heatmap"
   ]
  },
  {
   "cell_type": "code",
   "execution_count": 47,
   "id": "d19ca873-79b6-45be-a81f-6df3b3528a10",
   "metadata": {},
   "outputs": [],
   "source": [
    "%%capture\n",
    "!pip install pandas plotly ipywidgets\n",
    "import plotly.offline as pyo\n",
    "import plotly.graph_objs as go\n",
    "import plotly.express as px\n",
    "pyo.init_notebook_mode(connected=True)"
   ]
  },
  {
   "cell_type": "code",
   "execution_count": 48,
   "id": "8b283b2a-63f0-4d54-8129-5b0718f99fee",
   "metadata": {},
   "outputs": [],
   "source": [
    "# Aggregate data function for the printout\n",
    "viz_df = final_df.copy()\n",
    "def get_top_countries_by_year_and_decade(year):\n",
    "    # Filter the dataframe for the given year and sort by score\n",
    "    top_countries_year = viz_df[viz_df['Year'] == year].sort_values(by='Risk Score', ascending=False).head(5)['Country'].tolist()\n",
    "\n",
    "    # Get decade\n",
    "    decade_start = year - (year % 10)\n",
    "    decade_end = decade_start + 9\n",
    "\n",
    "    # Calculate average scores for decade\n",
    "    df_decade = viz_df[(viz_df['Year'] >= decade_start) & (viz_df['Year'] <= decade_end)]\n",
    "    avg_risk_scores = df_decade.groupby('Country')['Risk Score'].mean().sort_values(ascending=False)\n",
    "    top_countries_decade = avg_risk_scores.head(5).index.tolist()\n",
    "\n",
    "    return [iso_codes[country] for country in top_countries_year], [iso_codes[country] for country in top_countries_decade]\n"
   ]
  },
  {
   "cell_type": "code",
   "execution_count": 67,
   "id": "2d33a62a-97b3-4d63-8665-661a04cdaefc",
   "metadata": {},
   "outputs": [],
   "source": [
    "viz_df.head()\n",
    "viz_df['Risk Score'] = viz_df['Risk Score'].apply(lambda x: x if x<=1 else 1)\n",
    "viz_df.to_pickle(\"../data/processed/heatmap_df.pkl\")"
   ]
  },
  {
   "cell_type": "code",
   "execution_count": null,
   "id": "b27a1c46-f7a3-4422-b5fc-a1f10cf4ecf5",
   "metadata": {},
   "outputs": [],
   "source": [
    "import plotly.express as px\n",
    "\n",
    "def create_heatmap(year):\n",
    "    filtered_df = viz_df[viz_df['Year'] == year]\n",
    "    \n",
    "    fig = px.choropleth(\n",
    "        filtered_df,\n",
    "        locations=\"Country\",\n",
    "        color=\"Risk Score\",\n",
    "        hover_name=\"Country\",\n",
    "        color_continuous_scale=px.colors.sequential.Plasma,\n",
    "        locationmode='ISO-3',\n",
    "        range_color=(0, 1)\n",
    "    )\n",
    "    fig.update_layout(\n",
    "        title={\n",
    "            'text': f'Risk Score Heatmap for {year}',\n",
    "            'x': 0.5,\n",
    "            'xanchor': 'center'\n",
    "        },\n",
    "        geo=dict(\n",
    "            showframe=False,\n",
    "            showcoastlines=False,\n",
    "            projection_type='equirectangular'\n",
    "        ),\n",
    "        width=800,\n",
    "        height=600\n",
    "    )\n",
    "    fig.show()\n"
   ]
  },
  {
   "cell_type": "code",
   "execution_count": null,
   "id": "071f98ce-2d2d-49ce-af9f-49900fb0c944",
   "metadata": {},
   "outputs": [],
   "source": [
    "import ipywidgets as widgets\n",
    "from IPython.display import display\n",
    "\n",
    "\n",
    "# Assuming df is your DataFrame and it has a 'Year' column\n",
    "year_slider = widgets.IntSlider(\n",
    "    value=2023, min=1996, max=2027, step=1,\n",
    "    description='Year:', continuous_update=True\n",
    ")\n",
    "\n",
    "# Output widget\n",
    "output = widgets.Output()\n",
    "\n",
    "# Callback function using output widget\n",
    "def on_year_change(change):\n",
    "    with output:\n",
    "        output.clear_output(wait=True)  # Clear previous output\n",
    "        create_heatmap(change.new)  # Generate new output\n",
    "        top_countries_year, top_countries_decade = get_top_countries_by_year_and_decade(change.new)\n",
    "        decade = change.new - (change.new % 10)\n",
    "        print(f\"Top 5 Highest Risk Countries of {decade} - {decade+10}\\n\")\n",
    "        for i in range(1, 6):\n",
    "            print(f\"{i} - {top_countries_decade[i-1]}\")\n",
    "        print(f\"\\nTop 5 Highest Risk Countries for {change.new}\\n\")\n",
    "        for i in range(1, 6):\n",
    "            print(f\"{i} - {top_countries_year[i-1]}\")\n",
    "            \n",
    "\n",
    "# Observe slider changes\n",
    "year_slider.observe(on_year_change, names='value')\n",
    "\n",
    "# Display widgets\n",
    "display(year_slider, output)\n",
    "create_heatmap(2023)"
   ]
  },
  {
   "cell_type": "markdown",
   "id": "1b18724f-21a9-4273-9fe6-0e5b6f1c162e",
   "metadata": {},
   "source": [
    "## Important!\n",
    "If the visualization above isn't working for you for whatever reason, please run the below code to get a set of static graphs which summarize the trends shown by the interactive tool."
   ]
  },
  {
   "cell_type": "code",
   "execution_count": null,
   "id": "019affc3-41e4-4ecd-878c-1034b5012491",
   "metadata": {},
   "outputs": [],
   "source": [
    "for year in [1996, 2022, 2027]:\n",
    "    create_heatmap(year)\n",
    "    top_countries_year, top_countries_decade = get_top_countries_by_year_and_decade(year)\n",
    "    decade = year - (year % 10)\n",
    "    print(f\"Top 5 Highest Risk Countries of {decade} - {decade+10}\\n\")\n",
    "    for i in range(1, 6):\n",
    "        print(f\"{i} - {top_countries_decade[i-1]}\")\n",
    "    print(f\"\\nTop 5 Highest Risk Countries for {year}\\n\")\n",
    "    for i in range(1, 6):\n",
    "        print(f\"{i} - {top_countries_year[i-1]}\")\n",
    "            "
   ]
  },
  {
   "cell_type": "markdown",
   "id": "a0e4025c-5b53-4861-b857-1df22d6c9157",
   "metadata": {},
   "source": [
    "# Validating Our Results"
   ]
  },
  {
   "cell_type": "markdown",
   "id": "95132037-eb19-4b8e-81df-63b9d39222be",
   "metadata": {},
   "source": [
    "After all this analysis a reasonable counterpoint could be: **Does all this extra data actually add anything? Couldn't I just use the number of past outbreaks to show the trend for the future number of outbreaks?** This is certainly possible, so in this section we will provide plots for both risk score over time, and outbreaks over time. The latter will only use a a linear regression model fitted to the number of past outbreaks by year. Then, we will show all of the countries in our model that defy the trajectory of the linear regression model. If there are no differences, then our model is just picking up on the trend of the number of past outbreaks. If there are differences, then our model could be picking up on larger trends. It is important to note that we are not comparing the efficacy of each model in categorizing a year/country as having an outbreak or not since there a generally very few outbreaks in a country in a given year (usually zero) so we just want to looks at the trend of each country. "
   ]
  },
  {
   "cell_type": "code",
   "execution_count": 50,
   "id": "1adc5c84-6d2e-4c28-9142-4e5f10e5b2e1",
   "metadata": {},
   "outputs": [],
   "source": [
    "# We need a df with outbreaks, country, and year\n",
    "outbreaks_df = pivot_df[['Year', 'Country', 'Outbreaks']]\n",
    "outbreaks_df.loc[outbreaks_df['Outbreaks'] > 0, 'Outbreaks'] = 1"
   ]
  },
  {
   "cell_type": "code",
   "execution_count": 51,
   "id": "601c85ce-ff47-4dc7-b901-65f45a4b4508",
   "metadata": {},
   "outputs": [
    {
     "data": {
      "text/html": [
       "<div>\n",
       "<style scoped>\n",
       "    .dataframe tbody tr th:only-of-type {\n",
       "        vertical-align: middle;\n",
       "    }\n",
       "\n",
       "    .dataframe tbody tr th {\n",
       "        vertical-align: top;\n",
       "    }\n",
       "\n",
       "    .dataframe thead th {\n",
       "        text-align: right;\n",
       "    }\n",
       "</style>\n",
       "<table border=\"1\" class=\"dataframe\">\n",
       "  <thead>\n",
       "    <tr style=\"text-align: right;\">\n",
       "      <th>Statistic</th>\n",
       "      <th>Year</th>\n",
       "      <th>Country</th>\n",
       "      <th>Outbreaks</th>\n",
       "    </tr>\n",
       "  </thead>\n",
       "  <tbody>\n",
       "    <tr>\n",
       "      <th>0</th>\n",
       "      <td>1996</td>\n",
       "      <td>Afghanistan</td>\n",
       "      <td>0</td>\n",
       "    </tr>\n",
       "    <tr>\n",
       "      <th>1</th>\n",
       "      <td>1996</td>\n",
       "      <td>Mali</td>\n",
       "      <td>0</td>\n",
       "    </tr>\n",
       "    <tr>\n",
       "      <th>2</th>\n",
       "      <td>1996</td>\n",
       "      <td>United Kingdom</td>\n",
       "      <td>0</td>\n",
       "    </tr>\n",
       "    <tr>\n",
       "      <th>3</th>\n",
       "      <td>1996</td>\n",
       "      <td>Australia</td>\n",
       "      <td>0</td>\n",
       "    </tr>\n",
       "    <tr>\n",
       "      <th>4</th>\n",
       "      <td>1996</td>\n",
       "      <td>Chile</td>\n",
       "      <td>0</td>\n",
       "    </tr>\n",
       "  </tbody>\n",
       "</table>\n",
       "</div>"
      ],
      "text/plain": [
       "Statistic  Year         Country  Outbreaks\n",
       "0          1996     Afghanistan          0\n",
       "1          1996            Mali          0\n",
       "2          1996  United Kingdom          0\n",
       "3          1996       Australia          0\n",
       "4          1996           Chile          0"
      ]
     },
     "execution_count": 51,
     "metadata": {},
     "output_type": "execute_result"
    }
   ],
   "source": [
    "outbreaks_df.head()"
   ]
  },
  {
   "cell_type": "markdown",
   "id": "74c76d99-9725-413d-beab-b64e4e62995c",
   "metadata": {},
   "source": [
    "## Comparing to Baseline"
   ]
  },
  {
   "cell_type": "code",
   "execution_count": 52,
   "id": "a76c74f0-c89c-46bd-a64f-8e33ae485dd3",
   "metadata": {},
   "outputs": [],
   "source": [
    "%%capture\n",
    "# Using logistic regression to predict outbreaks\n",
    "future_predictions = pd.DataFrame()\n",
    "outbreak_trends = {'Country': [], 'Trend': []}\n",
    "\n",
    "# Iterate over each country\n",
    "for country in outbreaks_df['Country'].unique():\n",
    "    country_data = outbreaks_df[outbreaks_df['Country'] == country]\n",
    "    model = LogisticRegression()\n",
    "    X = country_data[['Year']]\n",
    "    y = country_data['Outbreaks']\n",
    "    model.fit(X, y)\n",
    "    outbreak_trends['Country'].append(country)\n",
    "    outbreak_trends['Trend'].append(model.coef_[0][0]) # coefficient for year\n",
    "\n",
    "    future_years = np.array([[year] for year in range(2023, 2028)])\n",
    "    predicted_scores = model.predict(future_years)\n",
    "\n",
    "    # temp dataframe for the predictions\n",
    "    predictions_df = pd.DataFrame({\n",
    "        'Year': range(2023, 2028),\n",
    "        'Country': [country]*5,\n",
    "        'Outbreaks': predicted_scores\n",
    "    })\n",
    "\n",
    "    # append predictions to the future_predictions DataFrame\n",
    "    future_predictions = pd.concat([future_predictions, predictions_df], ignore_index=True)\n",
    "\n",
    "# Concatenate future predictions with original data\n",
    "outbreak_trend_df = pd.DataFrame(outbreak_trends)\n",
    "outbreak_final = pd.concat([outbreaks_df, future_predictions], ignore_index=True)"
   ]
  },
  {
   "cell_type": "code",
   "execution_count": 53,
   "id": "7e0b9cea-6bf2-4fad-a7da-e44b5b6715c3",
   "metadata": {},
   "outputs": [],
   "source": [
    "# Some preprocessing\n",
    "new_codes = {v: k for k, v in country_codes.items()}\n",
    "def get_name_from_code(name):\n",
    "    return new_codes[name]\n",
    "\n",
    "df1 = final_df.copy()\n",
    "df1['Country'] = df1['Country'].apply(get_name_from_code)\n",
    "df2 = outbreak_final.copy()"
   ]
  },
  {
   "cell_type": "code",
   "execution_count": 54,
   "id": "da1cde44-b417-4b6b-ae73-37a9eb2a2ce8",
   "metadata": {},
   "outputs": [],
   "source": [
    "df1['Year'] = pd.to_numeric(df1['Year'], errors='coerce')\n",
    "df2['Year'] = pd.to_numeric(df2['Year'], errors='coerce')\n",
    "df1.to_pickle(\"../data/processed/lines_df1.pkl\")\n",
    "df2.to_pickle(\"../data/processed/lines_df2.pkl\")"
   ]
  },
  {
   "cell_type": "markdown",
   "id": "7aa846cd-d442-4607-90eb-79aacde505b0",
   "metadata": {},
   "source": [
    "## Outbreaks vs. Risk Score"
   ]
  },
  {
   "cell_type": "code",
   "execution_count": 55,
   "id": "33fd0f0f-1094-4332-b435-04a12154be47",
   "metadata": {
    "scrolled": true
   },
   "outputs": [
    {
     "data": {
      "application/vnd.jupyter.widget-view+json": {
       "model_id": "df7f46ed4eea4c25b678696b3155d980",
       "version_major": 2,
       "version_minor": 0
      },
      "text/plain": [
       "Dropdown(description='Country:', options=('Afghanistan', 'Mali', 'United Kingdom', 'Australia', 'Chile', 'Slov…"
      ]
     },
     "metadata": {},
     "output_type": "display_data"
    },
    {
     "data": {
      "application/vnd.jupyter.widget-view+json": {
       "model_id": "00d68dd3b0f649ba9a1dddd21380ffe3",
       "version_major": 2,
       "version_minor": 0
      },
      "text/plain": [
       "Output()"
      ]
     },
     "metadata": {},
     "output_type": "display_data"
    }
   ],
   "source": [
    "import matplotlib.pyplot as plt\n",
    "\n",
    "countries = df1['Country'].unique()\n",
    "dropdown = widgets.Dropdown(options=countries, description='Country:')\n",
    "\n",
    "# Plotting Function\n",
    "def plot_data(country):\n",
    "    df1_country = df1[df1['Country'] == country]\n",
    "    df2_country = df2[df2['Country'] == country]\n",
    "    \n",
    "    # Create subplots\n",
    "    fig, (ax1, ax2) = plt.subplots(2, 1, figsize=(6, 6))\n",
    "    \n",
    "    # Plot 1: Cumulative Outbreaks\n",
    "    ax1.plot(df2_country['Year'], df2_country['Outbreaks'].cumsum(), 'b-')\n",
    "    ax1.set_title(f'Cumulative Outbreaks in {country}')\n",
    "    ax1.set_xlabel('Year')\n",
    "    ax1.set_ylabel('Cumulative Outbreaks')\n",
    "    ax1.set_xticks(df2_country['Year'][::5])  # Set x-ticks to every 5 years\n",
    "\n",
    "    # Plot 2: Risk Score\n",
    "    ax2.plot(df1_country['Year'], df1_country['Risk Score'], 'r-')\n",
    "    ax2.set_title(f'Risk Score by Year in {country}')\n",
    "    ax2.set_xlabel('Year')\n",
    "    ax2.set_ylabel('Risk Score')\n",
    "\n",
    "    # Annotations for both plots\n",
    "    for ax in [ax1, ax2]:\n",
    "        prediction_year = 2022  # Modify this to your specific prediction year\n",
    "        ax.axvline(x=prediction_year, color='black', linestyle='--')\n",
    "        ax.text(prediction_year, ax.get_ylim()[1] * 0.6, 'Prediction', horizontalalignment='left')\n",
    "\n",
    "    plt.tight_layout()\n",
    "    plt.show()\n",
    "\n",
    "# Link Dropdown with Plotting Function\n",
    "output = widgets.interactive_output(plot_data, {'country': dropdown})\n",
    "\n",
    "# Display Widget and Output\n",
    "display(dropdown, output)\n"
   ]
  },
  {
   "cell_type": "markdown",
   "id": "66bc7c6b-a0b7-457a-937a-d425210ed9c4",
   "metadata": {},
   "source": [
    "## Important!\n",
    "If the above interactive graph isn't working for you please run the below code to get the static images. Feel free to change the COUNTRY parameter"
   ]
  },
  {
   "cell_type": "code",
   "execution_count": 56,
   "id": "d2860231-b5a5-4926-8823-d7c4330f9665",
   "metadata": {},
   "outputs": [
    {
     "data": {
      "image/png": "[encoded data removed]",
      "text/plain": [
       "<Figure size 600x600 with 2 Axes>"
      ]
     },
     "metadata": {},
     "output_type": "display_data"
    }
   ],
   "source": [
    "COUNTRY = 'United States'\n",
    "import random\n",
    "countries_subset = random.sample(list(df1['Country'].unique()), 5)\n",
    "plot_data(COUNTRY)\n",
    "# Uncomment to get a random sample of graphs\n",
    "# for country in countries_subset:\n",
    "#     plot_data(country)"
   ]
  },
  {
   "cell_type": "markdown",
   "id": "5d6d721d-09b1-4e60-b1ec-efd5abf87638",
   "metadata": {},
   "source": [
    "## Differences\n",
    "Let's see which countries show a significant difference in trend between the logistic model and our model."
   ]
  },
  {
   "cell_type": "code",
   "execution_count": 57,
   "id": "960a32e4-a036-49f2-9772-940452155ed8",
   "metadata": {},
   "outputs": [
    {
     "name": "stdout",
     "output_type": "stream",
     "text": [
      "United Kingdom has a downward outbreak trend but an upward risk score trend\n",
      "Australia has a downward outbreak trend but an upward risk score trend\n",
      "Chile has a downward outbreak trend but an upward risk score trend\n",
      "Slovenia has a downward outbreak trend but an upward risk score trend\n",
      "Marshall Islands has a downward outbreak trend but an upward risk score trend\n",
      "Fiji has a downward outbreak trend but an upward risk score trend\n",
      "United Arab Emirates has a downward outbreak trend but an upward risk score trend\n",
      "Austria has a downward outbreak trend but an upward risk score trend\n",
      "Chad has a downward outbreak trend but an upward risk score trend\n",
      "Guatemala has a downward outbreak trend but an upward risk score trend\n"
     ]
    }
   ],
   "source": [
    "def pos_or_neg(num):\n",
    "    if num < 0:\n",
    "        return 'a downward'\n",
    "    return 'an upward'\n",
    "outbreak_trend_df\n",
    "count_lines = 0\n",
    "for country in risk_trend_df['Country']:\n",
    "    risk_trend = risk_trend_df[risk_trend_df['Country'] == country]['Trends'].iloc[0]\n",
    "    outbreak_trend = outbreak_trend_df[outbreak_trend_df['Country'] == country]['Trend'].iloc[0]\n",
    "    if (risk_trend * outbreak_trend) < 0 and count_lines < 10:\n",
    "        print(f\"{country} has {pos_or_neg(outbreak_trend)} outbreak trend but {pos_or_neg(risk_trend)} risk score trend\")\n",
    "        count_lines += 1"
   ]
  },
  {
   "cell_type": "markdown",
   "id": "e808c22c-24a3-4eac-a8ed-8d7b6ced5f12",
   "metadata": {},
   "source": [
    "## Comparison Heat Maps"
   ]
  },
  {
   "cell_type": "code",
   "execution_count": 58,
   "id": "07c53fdb-cf76-4cc2-8996-b3db57599a54",
   "metadata": {},
   "outputs": [],
   "source": [
    "# Let's visualize this with some maps\n",
    "risk_trend_df['Country'] = risk_trend_df['Country'].apply(lambda x: country_codes[x])\n",
    "outbreak_trend_df['Country'] = outbreak_trend_df['Country'].apply(lambda x: country_codes[x])\n",
    "risk_trend_df.columns = ['Country', 'Trend']"
   ]
  },
  {
   "cell_type": "code",
   "execution_count": 59,
   "id": "96905c45-535f-45b5-877c-df88446dc033",
   "metadata": {},
   "outputs": [
    {
     "data": {
      "application/vnd.plotly.v1+json": {
       "config": {
        "plotlyServerURL": "https://plot.ly"
       },
       "data": [
        {
         "colorbar": {
          "len": 0.5,
          "ticktext": [
           "Trending Downwards",
           "Trending Upwards"
          ],
          "tickvals": [
           0,
           1
          ]
         },
         "colorscale": [
          [
           0,
           "red"
          ],
          [
           0.5,
           "red"
          ],
          [
           0.5,
           "blue"
          ],
          [
           1,
           "blue"
          ]
         ],
         "geo": "geo",
         "locationmode": "ISO-3",
         "locations": [
          "AFG",
          "MLI",
          "GBR",
          "AUS",
          "CHL",
          "SVN",
          "IMN",
          "MHL",
          "PNG",
          "FJI",
          "ARE",
          "AUT",
          "TCD",
          "SLB",
          "GTM",
          "ISR",
          "IRL",
          "PAN",
          "FIN",
          "UKR",
          "AZE",
          "CAF",
          "SOM",
          "IRQ",
          "MUS",
          "PAK",
          "FRA",
          "UGA",
          "BHR",
          "CYM",
          "ZAF",
          "MRT",
          "ETH",
          "PRY",
          "SWZ",
          "LUX",
          "SRB",
          "PRT",
          "EGY",
          "VEN",
          "ATG",
          "JOR",
          "MDG",
          "COD",
          "SYC",
          "JPN",
          "POL",
          "SLV",
          "VUT",
          "ARG",
          "MWI",
          "COL",
          "ABW",
          "USA",
          "SXM",
          "CHN",
          "MDV",
          "ITA",
          "IRN",
          "PER",
          "ARM",
          "URY",
          "PHL",
          "MYS",
          "JAM",
          "SGP",
          "EST",
          "MEX",
          "OMN",
          "TUV",
          "GHA",
          "BDI",
          "SUR",
          "TON",
          "BTN",
          "HND",
          "MMR",
          "NIC",
          "GRC",
          "BGR",
          "TLS",
          "BOL",
          "SWE",
          "HTI",
          "NAM",
          "NZL",
          "GRD",
          "SYR",
          "BRA",
          "BWA",
          "TJK",
          "NPL",
          "GIN",
          "NER",
          "GUM",
          "CHE",
          "NRU",
          "BRN",
          "BIH",
          "THA",
          "GUY",
          "NCL",
          "KAZ",
          "MOZ",
          "BMU",
          "BGD",
          "PYF",
          "IDN",
          "MCO",
          "CAN",
          "SSD",
          "TCA",
          "BRB",
          "NOR",
          "GAB",
          "IND",
          "MNG",
          "CMR",
          "ESP",
          "TUR",
          "BEL",
          "MKD",
          "TTO",
          "SDN",
          "CPV",
          "MAR",
          "HUN",
          "DEU",
          "HKG",
          "NGA",
          "TUN",
          "LKA",
          "KHM",
          "MNE",
          "ISL",
          "GEO",
          "BLZ",
          "CRI",
          "NLD",
          "ECU",
          "QAT",
          "LSO",
          "KEN",
          "SAU",
          "LTU",
          "CUB",
          "CZE",
          "WSM",
          "XKX",
          "DJI",
          "DMA",
          "SEN",
          "PRI",
          "ZWE",
          "HRV",
          "ROU",
          "ALB",
          "RUS",
          "KOR",
          "LVA",
          "KWT",
          "DOM",
          "AGO",
          "YEM",
          "VIR",
          "AND",
          "ASM",
          "KIR",
          "DNK",
          "STP",
          "DZA",
          "ZMB",
          "VNM",
          "RWA",
          "LBY",
          "CYP",
          "LBN"
         ],
         "text": [
          "AFG",
          "MLI",
          "GBR",
          "AUS",
          "CHL",
          "SVN",
          "IMN",
          "MHL",
          "PNG",
          "FJI",
          "ARE",
          "AUT",
          "TCD",
          "SLB",
          "GTM",
          "ISR",
          "IRL",
          "PAN",
          "FIN",
          "UKR",
          "AZE",
          "CAF",
          "SOM",
          "IRQ",
          "MUS",
          "PAK",
          "FRA",
          "UGA",
          "BHR",
          "CYM",
          "ZAF",
          "MRT",
          "ETH",
          "PRY",
          "SWZ",
          "LUX",
          "SRB",
          "PRT",
          "EGY",
          "VEN",
          "ATG",
          "JOR",
          "MDG",
          "COD",
          "SYC",
          "JPN",
          "POL",
          "SLV",
          "VUT",
          "ARG",
          "MWI",
          "COL",
          "ABW",
          "USA",
          "SXM",
          "CHN",
          "MDV",
          "ITA",
          "IRN",
          "PER",
          "ARM",
          "URY",
          "PHL",
          "MYS",
          "JAM",
          "SGP",
          "EST",
          "MEX",
          "OMN",
          "TUV",
          "GHA",
          "BDI",
          "SUR",
          "TON",
          "BTN",
          "HND",
          "MMR",
          "NIC",
          "GRC",
          "BGR",
          "TLS",
          "BOL",
          "SWE",
          "HTI",
          "NAM",
          "NZL",
          "GRD",
          "SYR",
          "BRA",
          "BWA",
          "TJK",
          "NPL",
          "GIN",
          "NER",
          "GUM",
          "CHE",
          "NRU",
          "BRN",
          "BIH",
          "THA",
          "GUY",
          "NCL",
          "KAZ",
          "MOZ",
          "BMU",
          "BGD",
          "PYF",
          "IDN",
          "MCO",
          "CAN",
          "SSD",
          "TCA",
          "BRB",
          "NOR",
          "GAB",
          "IND",
          "MNG",
          "CMR",
          "ESP",
          "TUR",
          "BEL",
          "MKD",
          "TTO",
          "SDN",
          "CPV",
          "MAR",
          "HUN",
          "DEU",
          "HKG",
          "NGA",
          "TUN",
          "LKA",
          "KHM",
          "MNE",
          "ISL",
          "GEO",
          "BLZ",
          "CRI",
          "NLD",
          "ECU",
          "QAT",
          "LSO",
          "KEN",
          "SAU",
          "LTU",
          "CUB",
          "CZE",
          "WSM",
          "XKX",
          "DJI",
          "DMA",
          "SEN",
          "PRI",
          "ZWE",
          "HRV",
          "ROU",
          "ALB",
          "RUS",
          "KOR",
          "LVA",
          "KWT",
          "DOM",
          "AGO",
          "YEM",
          "VIR",
          "AND",
          "ASM",
          "KIR",
          "DNK",
          "STP",
          "DZA",
          "ZMB",
          "VNM",
          "RWA",
          "LBY",
          "CYP",
          "LBN"
         ],
         "type": "choropleth",
         "z": [
          0,
          0,
          0,
          0,
          0,
          0,
          0,
          0,
          0,
          0,
          0,
          0,
          0,
          0,
          0,
          0,
          0,
          0,
          0,
          0,
          0,
          0,
          0,
          0,
          0,
          0,
          0,
          0,
          0,
          0,
          0,
          0,
          0,
          0,
          0,
          0,
          0,
          0,
          0,
          0,
          0,
          0,
          0,
          0,
          0,
          0,
          0,
          0,
          0,
          0,
          0,
          0,
          0,
          0,
          0,
          1,
          0,
          0,
          0,
          0,
          0,
          0,
          0,
          0,
          0,
          0,
          0,
          0,
          0,
          0,
          0,
          0,
          0,
          0,
          0,
          0,
          0,
          0,
          0,
          0,
          0,
          0,
          0,
          0,
          0,
          0,
          0,
          0,
          0,
          0,
          0,
          0,
          0,
          0,
          0,
          0,
          0,
          0,
          0,
          0,
          0,
          0,
          0,
          0,
          0,
          0,
          0,
          0,
          0,
          0,
          0,
          0,
          0,
          0,
          0,
          0,
          0,
          0,
          0,
          0,
          0,
          0,
          0,
          0,
          0,
          0,
          0,
          0,
          0,
          0,
          0,
          0,
          0,
          0,
          0,
          0,
          0,
          0,
          0,
          0,
          0,
          0,
          0,
          0,
          0,
          0,
          0,
          0,
          0,
          0,
          0,
          0,
          0,
          0,
          0,
          0,
          0,
          0,
          0,
          0,
          0,
          0,
          0,
          0,
          0,
          0,
          0,
          0,
          0,
          0,
          0,
          0,
          0,
          0,
          0,
          0,
          0
         ]
        },
        {
         "colorbar": {
          "len": 0.5,
          "ticktext": [
           "Trending Downwards",
           "Trending Upwards"
          ],
          "tickvals": [
           0,
           1
          ]
         },
         "colorscale": [
          [
           0,
           "red"
          ],
          [
           0.5,
           "red"
          ],
          [
           0.5,
           "blue"
          ],
          [
           1,
           "blue"
          ]
         ],
         "geo": "geo2",
         "locationmode": "ISO-3",
         "locations": [
          "AFG",
          "MLI",
          "GBR",
          "AUS",
          "CHL",
          "SVN",
          "IMN",
          "MHL",
          "PNG",
          "FJI",
          "ARE",
          "AUT",
          "TCD",
          "SLB",
          "GTM",
          "ISR",
          "IRL",
          "PAN",
          "FIN",
          "UKR",
          "AZE",
          "CAF",
          "SOM",
          "IRQ",
          "MUS",
          "PAK",
          "FRA",
          "UGA",
          "BHR",
          "CYM",
          "ZAF",
          "MRT",
          "ETH",
          "PRY",
          "SWZ",
          "LUX",
          "SRB",
          "PRT",
          "EGY",
          "VEN",
          "ATG",
          "JOR",
          "MDG",
          "COD",
          "SYC",
          "JPN",
          "POL",
          "SLV",
          "VUT",
          "ARG",
          "MWI",
          "COL",
          "ABW",
          "USA",
          "SXM",
          "CHN",
          "MDV",
          "ITA",
          "IRN",
          "PER",
          "ARM",
          "URY",
          "PHL",
          "MYS",
          "JAM",
          "SGP",
          "EST",
          "MEX",
          "OMN",
          "TUV",
          "GHA",
          "BDI",
          "SUR",
          "TON",
          "BTN",
          "HND",
          "MMR",
          "NIC",
          "GRC",
          "BGR",
          "TLS",
          "BOL",
          "SWE",
          "HTI",
          "NAM",
          "NZL",
          "GRD",
          "SYR",
          "BRA",
          "BWA",
          "TJK",
          "NPL",
          "GIN",
          "NER",
          "GUM",
          "CHE",
          "NRU",
          "BRN",
          "BIH",
          "THA",
          "GUY",
          "NCL",
          "KAZ",
          "MOZ",
          "BMU",
          "BGD",
          "PYF",
          "IDN",
          "MCO",
          "CAN",
          "SSD",
          "TCA",
          "BRB",
          "NOR",
          "GAB",
          "IND",
          "MNG",
          "CMR",
          "ESP",
          "TUR",
          "BEL",
          "MKD",
          "TTO",
          "SDN",
          "CPV",
          "MAR",
          "HUN",
          "DEU",
          "HKG",
          "NGA",
          "TUN",
          "LKA",
          "KHM",
          "MNE",
          "ISL",
          "GEO",
          "BLZ",
          "CRI",
          "NLD",
          "ECU",
          "QAT",
          "LSO",
          "KEN",
          "SAU",
          "LTU",
          "CUB",
          "CZE",
          "WSM",
          "XKX",
          "DJI",
          "DMA",
          "SEN",
          "PRI",
          "ZWE",
          "HRV",
          "ROU",
          "ALB",
          "RUS",
          "KOR",
          "LVA",
          "KWT",
          "DOM",
          "AGO",
          "YEM",
          "VIR",
          "AND",
          "ASM",
          "KIR",
          "DNK",
          "STP",
          "DZA",
          "ZMB",
          "VNM",
          "RWA",
          "LBY",
          "CYP",
          "LBN"
         ],
         "text": [
          "AFG",
          "MLI",
          "GBR",
          "AUS",
          "CHL",
          "SVN",
          "IMN",
          "MHL",
          "PNG",
          "FJI",
          "ARE",
          "AUT",
          "TCD",
          "SLB",
          "GTM",
          "ISR",
          "IRL",
          "PAN",
          "FIN",
          "UKR",
          "AZE",
          "CAF",
          "SOM",
          "IRQ",
          "MUS",
          "PAK",
          "FRA",
          "UGA",
          "BHR",
          "CYM",
          "ZAF",
          "MRT",
          "ETH",
          "PRY",
          "SWZ",
          "LUX",
          "SRB",
          "PRT",
          "EGY",
          "VEN",
          "ATG",
          "JOR",
          "MDG",
          "COD",
          "SYC",
          "JPN",
          "POL",
          "SLV",
          "VUT",
          "ARG",
          "MWI",
          "COL",
          "ABW",
          "USA",
          "SXM",
          "CHN",
          "MDV",
          "ITA",
          "IRN",
          "PER",
          "ARM",
          "URY",
          "PHL",
          "MYS",
          "JAM",
          "SGP",
          "EST",
          "MEX",
          "OMN",
          "TUV",
          "GHA",
          "BDI",
          "SUR",
          "TON",
          "BTN",
          "HND",
          "MMR",
          "NIC",
          "GRC",
          "BGR",
          "TLS",
          "BOL",
          "SWE",
          "HTI",
          "NAM",
          "NZL",
          "GRD",
          "SYR",
          "BRA",
          "BWA",
          "TJK",
          "NPL",
          "GIN",
          "NER",
          "GUM",
          "CHE",
          "NRU",
          "BRN",
          "BIH",
          "THA",
          "GUY",
          "NCL",
          "KAZ",
          "MOZ",
          "BMU",
          "BGD",
          "PYF",
          "IDN",
          "MCO",
          "CAN",
          "SSD",
          "TCA",
          "BRB",
          "NOR",
          "GAB",
          "IND",
          "MNG",
          "CMR",
          "ESP",
          "TUR",
          "BEL",
          "MKD",
          "TTO",
          "SDN",
          "CPV",
          "MAR",
          "HUN",
          "DEU",
          "HKG",
          "NGA",
          "TUN",
          "LKA",
          "KHM",
          "MNE",
          "ISL",
          "GEO",
          "BLZ",
          "CRI",
          "NLD",
          "ECU",
          "QAT",
          "LSO",
          "KEN",
          "SAU",
          "LTU",
          "CUB",
          "CZE",
          "WSM",
          "XKX",
          "DJI",
          "DMA",
          "SEN",
          "PRI",
          "ZWE",
          "HRV",
          "ROU",
          "ALB",
          "RUS",
          "KOR",
          "LVA",
          "KWT",
          "DOM",
          "AGO",
          "YEM",
          "VIR",
          "AND",
          "ASM",
          "KIR",
          "DNK",
          "STP",
          "DZA",
          "ZMB",
          "VNM",
          "RWA",
          "LBY",
          "CYP",
          "LBN"
         ],
         "type": "choropleth",
         "z": [
          0,
          0,
          1,
          1,
          1,
          1,
          0,
          1,
          0,
          1,
          1,
          1,
          1,
          0,
          1,
          0,
          0,
          1,
          1,
          0,
          0,
          1,
          0,
          0,
          1,
          0,
          1,
          0,
          1,
          0,
          1,
          1,
          0,
          0,
          0,
          1,
          0,
          1,
          1,
          1,
          1,
          1,
          0,
          0,
          1,
          0,
          1,
          0,
          1,
          1,
          0,
          1,
          1,
          1,
          1,
          1,
          1,
          1,
          1,
          0,
          1,
          1,
          1,
          1,
          1,
          1,
          1,
          1,
          1,
          1,
          1,
          0,
          0,
          1,
          1,
          0,
          0,
          1,
          1,
          1,
          0,
          1,
          1,
          1,
          0,
          1,
          0,
          1,
          1,
          1,
          1,
          0,
          1,
          0,
          0,
          0,
          0,
          1,
          1,
          1,
          0,
          1,
          1,
          0,
          1,
          1,
          0,
          0,
          1,
          1,
          1,
          1,
          1,
          1,
          1,
          0,
          0,
          1,
          1,
          0,
          1,
          1,
          1,
          1,
          0,
          0,
          1,
          1,
          0,
          1,
          0,
          1,
          0,
          0,
          0,
          1,
          0,
          1,
          1,
          1,
          1,
          0,
          0,
          1,
          1,
          1,
          0,
          0,
          0,
          0,
          1,
          0,
          1,
          0,
          0,
          0,
          1,
          0,
          1,
          0,
          1,
          1,
          0,
          1,
          1,
          1,
          1,
          1,
          1,
          0,
          1,
          0,
          0,
          0,
          0,
          1,
          1
         ]
        }
       ],
       "layout": {
        "annotations": [
         {
          "font": {
           "size": 16
          },
          "showarrow": false,
          "text": "Outbreak Trends",
          "x": 0.225,
          "xanchor": "center",
          "xref": "paper",
          "y": 1,
          "yanchor": "bottom",
          "yref": "paper"
         },
         {
          "font": {
           "size": 16
          },
          "showarrow": false,
          "text": "Risk Trends",
          "x": 0.775,
          "xanchor": "center",
          "xref": "paper",
          "y": 1,
          "yanchor": "bottom",
          "yref": "paper"
         }
        ],
        "geo": {
         "domain": {
          "x": [
           0,
           0.45
          ],
          "y": [
           0,
           1
          ]
         },
         "projection": {
          "type": "equirectangular"
         },
         "showcoastlines": false,
         "showframe": true
        },
        "geo2": {
         "domain": {
          "x": [
           0.55,
           1
          ],
          "y": [
           0,
           1
          ]
         }
        },
        "height": 600,
        "template": {
         "data": {
          "bar": [
           {
            "error_x": {
             "color": "#2a3f5f"
            },
            "error_y": {
             "color": "#2a3f5f"
            },
            "marker": {
             "line": {
              "color": "#E5ECF6",
              "width": 0.5
             },
             "pattern": {
              "fillmode": "overlay",
              "size": 10,
              "solidity": 0.2
             }
            },
            "type": "bar"
           }
          ],
          "barpolar": [
           {
            "marker": {
             "line": {
              "color": "#E5ECF6",
              "width": 0.5
             },
             "pattern": {
              "fillmode": "overlay",
              "size": 10,
              "solidity": 0.2
             }
            },
            "type": "barpolar"
           }
          ],
          "carpet": [
           {
            "aaxis": {
             "endlinecolor": "#2a3f5f",
             "gridcolor": "white",
             "linecolor": "white",
             "minorgridcolor": "white",
             "startlinecolor": "#2a3f5f"
            },
            "baxis": {
             "endlinecolor": "#2a3f5f",
             "gridcolor": "white",
             "linecolor": "white",
             "minorgridcolor": "white",
             "startlinecolor": "#2a3f5f"
            },
            "type": "carpet"
           }
          ],
          "choropleth": [
           {
            "colorbar": {
             "outlinewidth": 0,
             "ticks": ""
            },
            "type": "choropleth"
           }
          ],
          "contour": [
           {
            "colorbar": {
             "outlinewidth": 0,
             "ticks": ""
            },
            "colorscale": [
             [
              0,
              "#0d0887"
             ],
             [
              0.1111111111111111,
              "#46039f"
             ],
             [
              0.2222222222222222,
              "#7201a8"
             ],
             [
              0.3333333333333333,
              "#9c179e"
             ],
             [
              0.4444444444444444,
              "#bd3786"
             ],
             [
              0.5555555555555556,
              "#d8576b"
             ],
             [
              0.6666666666666666,
              "#ed7953"
             ],
             [
              0.7777777777777778,
              "#fb9f3a"
             ],
             [
              0.8888888888888888,
              "#fdca26"
             ],
             [
              1,
              "#f0f921"
             ]
            ],
            "type": "contour"
           }
          ],
          "contourcarpet": [
           {
            "colorbar": {
             "outlinewidth": 0,
             "ticks": ""
            },
            "type": "contourcarpet"
           }
          ],
          "heatmap": [
           {
            "colorbar": {
             "outlinewidth": 0,
             "ticks": ""
            },
            "colorscale": [
             [
              0,
              "#0d0887"
             ],
             [
              0.1111111111111111,
              "#46039f"
             ],
             [
              0.2222222222222222,
              "#7201a8"
             ],
             [
              0.3333333333333333,
              "#9c179e"
             ],
             [
              0.4444444444444444,
              "#bd3786"
             ],
             [
              0.5555555555555556,
              "#d8576b"
             ],
             [
              0.6666666666666666,
              "#ed7953"
             ],
             [
              0.7777777777777778,
              "#fb9f3a"
             ],
             [
              0.8888888888888888,
              "#fdca26"
             ],
             [
              1,
              "#f0f921"
             ]
            ],
            "type": "heatmap"
           }
          ],
          "heatmapgl": [
           {
            "colorbar": {
             "outlinewidth": 0,
             "ticks": ""
            },
            "colorscale": [
             [
              0,
              "#0d0887"
             ],
             [
              0.1111111111111111,
              "#46039f"
             ],
             [
              0.2222222222222222,
              "#7201a8"
             ],
             [
              0.3333333333333333,
              "#9c179e"
             ],
             [
              0.4444444444444444,
              "#bd3786"
             ],
             [
              0.5555555555555556,
              "#d8576b"
             ],
             [
              0.6666666666666666,
              "#ed7953"
             ],
             [
              0.7777777777777778,
              "#fb9f3a"
             ],
             [
              0.8888888888888888,
              "#fdca26"
             ],
             [
              1,
              "#f0f921"
             ]
            ],
            "type": "heatmapgl"
           }
          ],
          "histogram": [
           {
            "marker": {
             "pattern": {
              "fillmode": "overlay",
              "size": 10,
              "solidity": 0.2
             }
            },
            "type": "histogram"
           }
          ],
          "histogram2d": [
           {
            "colorbar": {
             "outlinewidth": 0,
             "ticks": ""
            },
            "colorscale": [
             [
              0,
              "#0d0887"
             ],
             [
              0.1111111111111111,
              "#46039f"
             ],
             [
              0.2222222222222222,
              "#7201a8"
             ],
             [
              0.3333333333333333,
              "#9c179e"
             ],
             [
              0.4444444444444444,
              "#bd3786"
             ],
             [
              0.5555555555555556,
              "#d8576b"
             ],
             [
              0.6666666666666666,
              "#ed7953"
             ],
             [
              0.7777777777777778,
              "#fb9f3a"
             ],
             [
              0.8888888888888888,
              "#fdca26"
             ],
             [
              1,
              "#f0f921"
             ]
            ],
            "type": "histogram2d"
           }
          ],
          "histogram2dcontour": [
           {
            "colorbar": {
             "outlinewidth": 0,
             "ticks": ""
            },
            "colorscale": [
             [
              0,
              "#0d0887"
             ],
             [
              0.1111111111111111,
              "#46039f"
             ],
             [
              0.2222222222222222,
              "#7201a8"
             ],
             [
              0.3333333333333333,
              "#9c179e"
             ],
             [
              0.4444444444444444,
              "#bd3786"
             ],
             [
              0.5555555555555556,
              "#d8576b"
             ],
             [
              0.6666666666666666,
              "#ed7953"
             ],
             [
              0.7777777777777778,
              "#fb9f3a"
             ],
             [
              0.8888888888888888,
              "#fdca26"
             ],
             [
              1,
              "#f0f921"
             ]
            ],
            "type": "histogram2dcontour"
           }
          ],
          "mesh3d": [
           {
            "colorbar": {
             "outlinewidth": 0,
             "ticks": ""
            },
            "type": "mesh3d"
           }
          ],
          "parcoords": [
           {
            "line": {
             "colorbar": {
              "outlinewidth": 0,
              "ticks": ""
             }
            },
            "type": "parcoords"
           }
          ],
          "pie": [
           {
            "automargin": true,
            "type": "pie"
           }
          ],
          "scatter": [
           {
            "fillpattern": {
             "fillmode": "overlay",
             "size": 10,
             "solidity": 0.2
            },
            "type": "scatter"
           }
          ],
          "scatter3d": [
           {
            "line": {
             "colorbar": {
              "outlinewidth": 0,
              "ticks": ""
             }
            },
            "marker": {
             "colorbar": {
              "outlinewidth": 0,
              "ticks": ""
             }
            },
            "type": "scatter3d"
           }
          ],
          "scattercarpet": [
           {
            "marker": {
             "colorbar": {
              "outlinewidth": 0,
              "ticks": ""
             }
            },
            "type": "scattercarpet"
           }
          ],
          "scattergeo": [
           {
            "marker": {
             "colorbar": {
              "outlinewidth": 0,
              "ticks": ""
             }
            },
            "type": "scattergeo"
           }
          ],
          "scattergl": [
           {
            "marker": {
             "colorbar": {
              "outlinewidth": 0,
              "ticks": ""
             }
            },
            "type": "scattergl"
           }
          ],
          "scattermapbox": [
           {
            "marker": {
             "colorbar": {
              "outlinewidth": 0,
              "ticks": ""
             }
            },
            "type": "scattermapbox"
           }
          ],
          "scatterpolar": [
           {
            "marker": {
             "colorbar": {
              "outlinewidth": 0,
              "ticks": ""
             }
            },
            "type": "scatterpolar"
           }
          ],
          "scatterpolargl": [
           {
            "marker": {
             "colorbar": {
              "outlinewidth": 0,
              "ticks": ""
             }
            },
            "type": "scatterpolargl"
           }
          ],
          "scatterternary": [
           {
            "marker": {
             "colorbar": {
              "outlinewidth": 0,
              "ticks": ""
             }
            },
            "type": "scatterternary"
           }
          ],
          "surface": [
           {
            "colorbar": {
             "outlinewidth": 0,
             "ticks": ""
            },
            "colorscale": [
             [
              0,
              "#0d0887"
             ],
             [
              0.1111111111111111,
              "#46039f"
             ],
             [
              0.2222222222222222,
              "#7201a8"
             ],
             [
              0.3333333333333333,
              "#9c179e"
             ],
             [
              0.4444444444444444,
              "#bd3786"
             ],
             [
              0.5555555555555556,
              "#d8576b"
             ],
             [
              0.6666666666666666,
              "#ed7953"
             ],
             [
              0.7777777777777778,
              "#fb9f3a"
             ],
             [
              0.8888888888888888,
              "#fdca26"
             ],
             [
              1,
              "#f0f921"
             ]
            ],
            "type": "surface"
           }
          ],
          "table": [
           {
            "cells": {
             "fill": {
              "color": "#EBF0F8"
             },
             "line": {
              "color": "white"
             }
            },
            "header": {
             "fill": {
              "color": "#C8D4E3"
             },
             "line": {
              "color": "white"
             }
            },
            "type": "table"
           }
          ]
         },
         "layout": {
          "annotationdefaults": {
           "arrowcolor": "#2a3f5f",
           "arrowhead": 0,
           "arrowwidth": 1
          },
          "autotypenumbers": "strict",
          "coloraxis": {
           "colorbar": {
            "outlinewidth": 0,
            "ticks": ""
           }
          },
          "colorscale": {
           "diverging": [
            [
             0,
             "#8e0152"
            ],
            [
             0.1,
             "#c51b7d"
            ],
            [
             0.2,
             "#de77ae"
            ],
            [
             0.3,
             "#f1b6da"
            ],
            [
             0.4,
             "#fde0ef"
            ],
            [
             0.5,
             "#f7f7f7"
            ],
            [
             0.6,
             "#e6f5d0"
            ],
            [
             0.7,
             "#b8e186"
            ],
            [
             0.8,
             "#7fbc41"
            ],
            [
             0.9,
             "#4d9221"
            ],
            [
             1,
             "#276419"
            ]
           ],
           "sequential": [
            [
             0,
             "#0d0887"
            ],
            [
             0.1111111111111111,
             "#46039f"
            ],
            [
             0.2222222222222222,
             "#7201a8"
            ],
            [
             0.3333333333333333,
             "#9c179e"
            ],
            [
             0.4444444444444444,
             "#bd3786"
            ],
            [
             0.5555555555555556,
             "#d8576b"
            ],
            [
             0.6666666666666666,
             "#ed7953"
            ],
            [
             0.7777777777777778,
             "#fb9f3a"
            ],
            [
             0.8888888888888888,
             "#fdca26"
            ],
            [
             1,
             "#f0f921"
            ]
           ],
           "sequentialminus": [
            [
             0,
             "#0d0887"
            ],
            [
             0.1111111111111111,
             "#46039f"
            ],
            [
             0.2222222222222222,
             "#7201a8"
            ],
            [
             0.3333333333333333,
             "#9c179e"
            ],
            [
             0.4444444444444444,
             "#bd3786"
            ],
            [
             0.5555555555555556,
             "#d8576b"
            ],
            [
             0.6666666666666666,
             "#ed7953"
            ],
            [
             0.7777777777777778,
             "#fb9f3a"
            ],
            [
             0.8888888888888888,
             "#fdca26"
            ],
            [
             1,
             "#f0f921"
            ]
           ]
          },
          "colorway": [
           "#636efa",
           "#EF553B",
           "#00cc96",
           "#ab63fa",
           "#FFA15A",
           "#19d3f3",
           "#FF6692",
           "#B6E880",
           "#FF97FF",
           "#FECB52"
          ],
          "font": {
           "color": "#2a3f5f"
          },
          "geo": {
           "bgcolor": "white",
           "lakecolor": "white",
           "landcolor": "#E5ECF6",
           "showlakes": true,
           "showland": true,
           "subunitcolor": "white"
          },
          "hoverlabel": {
           "align": "left"
          },
          "hovermode": "closest",
          "mapbox": {
           "style": "light"
          },
          "paper_bgcolor": "white",
          "plot_bgcolor": "#E5ECF6",
          "polar": {
           "angularaxis": {
            "gridcolor": "white",
            "linecolor": "white",
            "ticks": ""
           },
           "bgcolor": "#E5ECF6",
           "radialaxis": {
            "gridcolor": "white",
            "linecolor": "white",
            "ticks": ""
           }
          },
          "scene": {
           "xaxis": {
            "backgroundcolor": "#E5ECF6",
            "gridcolor": "white",
            "gridwidth": 2,
            "linecolor": "white",
            "showbackground": true,
            "ticks": "",
            "zerolinecolor": "white"
           },
           "yaxis": {
            "backgroundcolor": "#E5ECF6",
            "gridcolor": "white",
            "gridwidth": 2,
            "linecolor": "white",
            "showbackground": true,
            "ticks": "",
            "zerolinecolor": "white"
           },
           "zaxis": {
            "backgroundcolor": "#E5ECF6",
            "gridcolor": "white",
            "gridwidth": 2,
            "linecolor": "white",
            "showbackground": true,
            "ticks": "",
            "zerolinecolor": "white"
           }
          },
          "shapedefaults": {
           "line": {
            "color": "#2a3f5f"
           }
          },
          "ternary": {
           "aaxis": {
            "gridcolor": "white",
            "linecolor": "white",
            "ticks": ""
           },
           "baxis": {
            "gridcolor": "white",
            "linecolor": "white",
            "ticks": ""
           },
           "bgcolor": "#E5ECF6",
           "caxis": {
            "gridcolor": "white",
            "linecolor": "white",
            "ticks": ""
           }
          },
          "title": {
           "x": 0.05
          },
          "xaxis": {
           "automargin": true,
           "gridcolor": "white",
           "linecolor": "white",
           "ticks": "",
           "title": {
            "standoff": 15
           },
           "zerolinecolor": "white",
           "zerolinewidth": 2
          },
          "yaxis": {
           "automargin": true,
           "gridcolor": "white",
           "linecolor": "white",
           "ticks": "",
           "title": {
            "standoff": 15
           },
           "zerolinecolor": "white",
           "zerolinewidth": 2
          }
         }
        },
        "title": {
         "text": "Outbreak and Risk Trends",
         "x": 0.5
        },
        "width": 1200
       }
      },
      "image/png": "[encoded data removed]",
      "text/html": [
       "<div>                            <div id=\"72f1fdc1-679f-43ca-a94d-5f16b24f8fb3\" class=\"plotly-graph-div\" style=\"height:600px; width:1200px;\"></div>            <script type=\"text/javascript\">                require([\"plotly\"], function(Plotly) {                    window.PLOTLYENV=window.PLOTLYENV || {};                                    if (document.getElementById(\"72f1fdc1-679f-43ca-a94d-5f16b24f8fb3\")) {                    Plotly.newPlot(                        \"72f1fdc1-679f-43ca-a94d-5f16b24f8fb3\",                        [{\"colorbar\":{\"len\":0.5,\"ticktext\":[\"Trending Downwards\",\"Trending Upwards\"],\"tickvals\":[0,1]},\"colorscale\":[[0,\"red\"],[0.5,\"red\"],[0.5,\"blue\"],[1,\"blue\"]],\"locationmode\":\"ISO-3\",\"locations\":[\"AFG\",\"MLI\",\"GBR\",\"AUS\",\"CHL\",\"SVN\",\"IMN\",\"MHL\",\"PNG\",\"FJI\",\"ARE\",\"AUT\",\"TCD\",\"SLB\",\"GTM\",\"ISR\",\"IRL\",\"PAN\",\"FIN\",\"UKR\",\"AZE\",\"CAF\",\"SOM\",\"IRQ\",\"MUS\",\"PAK\",\"FRA\",\"UGA\",\"BHR\",\"CYM\",\"ZAF\",\"MRT\",\"ETH\",\"PRY\",\"SWZ\",\"LUX\",\"SRB\",\"PRT\",\"EGY\",\"VEN\",\"ATG\",\"JOR\",\"MDG\",\"COD\",\"SYC\",\"JPN\",\"POL\",\"SLV\",\"VUT\",\"ARG\",\"MWI\",\"COL\",\"ABW\",\"USA\",\"SXM\",\"CHN\",\"MDV\",\"ITA\",\"IRN\",\"PER\",\"ARM\",\"URY\",\"PHL\",\"MYS\",\"JAM\",\"SGP\",\"EST\",\"MEX\",\"OMN\",\"TUV\",\"GHA\",\"BDI\",\"SUR\",\"TON\",\"BTN\",\"HND\",\"MMR\",\"NIC\",\"GRC\",\"BGR\",\"TLS\",\"BOL\",\"SWE\",\"HTI\",\"NAM\",\"NZL\",\"GRD\",\"SYR\",\"BRA\",\"BWA\",\"TJK\",\"NPL\",\"GIN\",\"NER\",\"GUM\",\"CHE\",\"NRU\",\"BRN\",\"BIH\",\"THA\",\"GUY\",\"NCL\",\"KAZ\",\"MOZ\",\"BMU\",\"BGD\",\"PYF\",\"IDN\",\"MCO\",\"CAN\",\"SSD\",\"TCA\",\"BRB\",\"NOR\",\"GAB\",\"IND\",\"MNG\",\"CMR\",\"ESP\",\"TUR\",\"BEL\",\"MKD\",\"TTO\",\"SDN\",\"CPV\",\"MAR\",\"HUN\",\"DEU\",\"HKG\",\"NGA\",\"TUN\",\"LKA\",\"KHM\",\"MNE\",\"ISL\",\"GEO\",\"BLZ\",\"CRI\",\"NLD\",\"ECU\",\"QAT\",\"LSO\",\"KEN\",\"SAU\",\"LTU\",\"CUB\",\"CZE\",\"WSM\",\"XKX\",\"DJI\",\"DMA\",\"SEN\",\"PRI\",\"ZWE\",\"HRV\",\"ROU\",\"ALB\",\"RUS\",\"KOR\",\"LVA\",\"KWT\",\"DOM\",\"AGO\",\"YEM\",\"VIR\",\"AND\",\"ASM\",\"KIR\",\"DNK\",\"STP\",\"DZA\",\"ZMB\",\"VNM\",\"RWA\",\"LBY\",\"CYP\",\"LBN\"],\"text\":[\"AFG\",\"MLI\",\"GBR\",\"AUS\",\"CHL\",\"SVN\",\"IMN\",\"MHL\",\"PNG\",\"FJI\",\"ARE\",\"AUT\",\"TCD\",\"SLB\",\"GTM\",\"ISR\",\"IRL\",\"PAN\",\"FIN\",\"UKR\",\"AZE\",\"CAF\",\"SOM\",\"IRQ\",\"MUS\",\"PAK\",\"FRA\",\"UGA\",\"BHR\",\"CYM\",\"ZAF\",\"MRT\",\"ETH\",\"PRY\",\"SWZ\",\"LUX\",\"SRB\",\"PRT\",\"EGY\",\"VEN\",\"ATG\",\"JOR\",\"MDG\",\"COD\",\"SYC\",\"JPN\",\"POL\",\"SLV\",\"VUT\",\"ARG\",\"MWI\",\"COL\",\"ABW\",\"USA\",\"SXM\",\"CHN\",\"MDV\",\"ITA\",\"IRN\",\"PER\",\"ARM\",\"URY\",\"PHL\",\"MYS\",\"JAM\",\"SGP\",\"EST\",\"MEX\",\"OMN\",\"TUV\",\"GHA\",\"BDI\",\"SUR\",\"TON\",\"BTN\",\"HND\",\"MMR\",\"NIC\",\"GRC\",\"BGR\",\"TLS\",\"BOL\",\"SWE\",\"HTI\",\"NAM\",\"NZL\",\"GRD\",\"SYR\",\"BRA\",\"BWA\",\"TJK\",\"NPL\",\"GIN\",\"NER\",\"GUM\",\"CHE\",\"NRU\",\"BRN\",\"BIH\",\"THA\",\"GUY\",\"NCL\",\"KAZ\",\"MOZ\",\"BMU\",\"BGD\",\"PYF\",\"IDN\",\"MCO\",\"CAN\",\"SSD\",\"TCA\",\"BRB\",\"NOR\",\"GAB\",\"IND\",\"MNG\",\"CMR\",\"ESP\",\"TUR\",\"BEL\",\"MKD\",\"TTO\",\"SDN\",\"CPV\",\"MAR\",\"HUN\",\"DEU\",\"HKG\",\"NGA\",\"TUN\",\"LKA\",\"KHM\",\"MNE\",\"ISL\",\"GEO\",\"BLZ\",\"CRI\",\"NLD\",\"ECU\",\"QAT\",\"LSO\",\"KEN\",\"SAU\",\"LTU\",\"CUB\",\"CZE\",\"WSM\",\"XKX\",\"DJI\",\"DMA\",\"SEN\",\"PRI\",\"ZWE\",\"HRV\",\"ROU\",\"ALB\",\"RUS\",\"KOR\",\"LVA\",\"KWT\",\"DOM\",\"AGO\",\"YEM\",\"VIR\",\"AND\",\"ASM\",\"KIR\",\"DNK\",\"STP\",\"DZA\",\"ZMB\",\"VNM\",\"RWA\",\"LBY\",\"CYP\",\"LBN\"],\"z\":[0,0,0,0,0,0,0,0,0,0,0,0,0,0,0,0,0,0,0,0,0,0,0,0,0,0,0,0,0,0,0,0,0,0,0,0,0,0,0,0,0,0,0,0,0,0,0,0,0,0,0,0,0,0,0,1,0,0,0,0,0,0,0,0,0,0,0,0,0,0,0,0,0,0,0,0,0,0,0,0,0,0,0,0,0,0,0,0,0,0,0,0,0,0,0,0,0,0,0,0,0,0,0,0,0,0,0,0,0,0,0,0,0,0,0,0,0,0,0,0,0,0,0,0,0,0,0,0,0,0,0,0,0,0,0,0,0,0,0,0,0,0,0,0,0,0,0,0,0,0,0,0,0,0,0,0,0,0,0,0,0,0,0,0,0,0,0,0,0,0,0,0,0,0,0,0,0],\"type\":\"choropleth\",\"geo\":\"geo\"},{\"colorbar\":{\"len\":0.5,\"ticktext\":[\"Trending Downwards\",\"Trending Upwards\"],\"tickvals\":[0,1]},\"colorscale\":[[0,\"red\"],[0.5,\"red\"],[0.5,\"blue\"],[1,\"blue\"]],\"locationmode\":\"ISO-3\",\"locations\":[\"AFG\",\"MLI\",\"GBR\",\"AUS\",\"CHL\",\"SVN\",\"IMN\",\"MHL\",\"PNG\",\"FJI\",\"ARE\",\"AUT\",\"TCD\",\"SLB\",\"GTM\",\"ISR\",\"IRL\",\"PAN\",\"FIN\",\"UKR\",\"AZE\",\"CAF\",\"SOM\",\"IRQ\",\"MUS\",\"PAK\",\"FRA\",\"UGA\",\"BHR\",\"CYM\",\"ZAF\",\"MRT\",\"ETH\",\"PRY\",\"SWZ\",\"LUX\",\"SRB\",\"PRT\",\"EGY\",\"VEN\",\"ATG\",\"JOR\",\"MDG\",\"COD\",\"SYC\",\"JPN\",\"POL\",\"SLV\",\"VUT\",\"ARG\",\"MWI\",\"COL\",\"ABW\",\"USA\",\"SXM\",\"CHN\",\"MDV\",\"ITA\",\"IRN\",\"PER\",\"ARM\",\"URY\",\"PHL\",\"MYS\",\"JAM\",\"SGP\",\"EST\",\"MEX\",\"OMN\",\"TUV\",\"GHA\",\"BDI\",\"SUR\",\"TON\",\"BTN\",\"HND\",\"MMR\",\"NIC\",\"GRC\",\"BGR\",\"TLS\",\"BOL\",\"SWE\",\"HTI\",\"NAM\",\"NZL\",\"GRD\",\"SYR\",\"BRA\",\"BWA\",\"TJK\",\"NPL\",\"GIN\",\"NER\",\"GUM\",\"CHE\",\"NRU\",\"BRN\",\"BIH\",\"THA\",\"GUY\",\"NCL\",\"KAZ\",\"MOZ\",\"BMU\",\"BGD\",\"PYF\",\"IDN\",\"MCO\",\"CAN\",\"SSD\",\"TCA\",\"BRB\",\"NOR\",\"GAB\",\"IND\",\"MNG\",\"CMR\",\"ESP\",\"TUR\",\"BEL\",\"MKD\",\"TTO\",\"SDN\",\"CPV\",\"MAR\",\"HUN\",\"DEU\",\"HKG\",\"NGA\",\"TUN\",\"LKA\",\"KHM\",\"MNE\",\"ISL\",\"GEO\",\"BLZ\",\"CRI\",\"NLD\",\"ECU\",\"QAT\",\"LSO\",\"KEN\",\"SAU\",\"LTU\",\"CUB\",\"CZE\",\"WSM\",\"XKX\",\"DJI\",\"DMA\",\"SEN\",\"PRI\",\"ZWE\",\"HRV\",\"ROU\",\"ALB\",\"RUS\",\"KOR\",\"LVA\",\"KWT\",\"DOM\",\"AGO\",\"YEM\",\"VIR\",\"AND\",\"ASM\",\"KIR\",\"DNK\",\"STP\",\"DZA\",\"ZMB\",\"VNM\",\"RWA\",\"LBY\",\"CYP\",\"LBN\"],\"text\":[\"AFG\",\"MLI\",\"GBR\",\"AUS\",\"CHL\",\"SVN\",\"IMN\",\"MHL\",\"PNG\",\"FJI\",\"ARE\",\"AUT\",\"TCD\",\"SLB\",\"GTM\",\"ISR\",\"IRL\",\"PAN\",\"FIN\",\"UKR\",\"AZE\",\"CAF\",\"SOM\",\"IRQ\",\"MUS\",\"PAK\",\"FRA\",\"UGA\",\"BHR\",\"CYM\",\"ZAF\",\"MRT\",\"ETH\",\"PRY\",\"SWZ\",\"LUX\",\"SRB\",\"PRT\",\"EGY\",\"VEN\",\"ATG\",\"JOR\",\"MDG\",\"COD\",\"SYC\",\"JPN\",\"POL\",\"SLV\",\"VUT\",\"ARG\",\"MWI\",\"COL\",\"ABW\",\"USA\",\"SXM\",\"CHN\",\"MDV\",\"ITA\",\"IRN\",\"PER\",\"ARM\",\"URY\",\"PHL\",\"MYS\",\"JAM\",\"SGP\",\"EST\",\"MEX\",\"OMN\",\"TUV\",\"GHA\",\"BDI\",\"SUR\",\"TON\",\"BTN\",\"HND\",\"MMR\",\"NIC\",\"GRC\",\"BGR\",\"TLS\",\"BOL\",\"SWE\",\"HTI\",\"NAM\",\"NZL\",\"GRD\",\"SYR\",\"BRA\",\"BWA\",\"TJK\",\"NPL\",\"GIN\",\"NER\",\"GUM\",\"CHE\",\"NRU\",\"BRN\",\"BIH\",\"THA\",\"GUY\",\"NCL\",\"KAZ\",\"MOZ\",\"BMU\",\"BGD\",\"PYF\",\"IDN\",\"MCO\",\"CAN\",\"SSD\",\"TCA\",\"BRB\",\"NOR\",\"GAB\",\"IND\",\"MNG\",\"CMR\",\"ESP\",\"TUR\",\"BEL\",\"MKD\",\"TTO\",\"SDN\",\"CPV\",\"MAR\",\"HUN\",\"DEU\",\"HKG\",\"NGA\",\"TUN\",\"LKA\",\"KHM\",\"MNE\",\"ISL\",\"GEO\",\"BLZ\",\"CRI\",\"NLD\",\"ECU\",\"QAT\",\"LSO\",\"KEN\",\"SAU\",\"LTU\",\"CUB\",\"CZE\",\"WSM\",\"XKX\",\"DJI\",\"DMA\",\"SEN\",\"PRI\",\"ZWE\",\"HRV\",\"ROU\",\"ALB\",\"RUS\",\"KOR\",\"LVA\",\"KWT\",\"DOM\",\"AGO\",\"YEM\",\"VIR\",\"AND\",\"ASM\",\"KIR\",\"DNK\",\"STP\",\"DZA\",\"ZMB\",\"VNM\",\"RWA\",\"LBY\",\"CYP\",\"LBN\"],\"z\":[0,0,1,1,1,1,0,1,0,1,1,1,1,0,1,0,0,1,1,0,0,1,0,0,1,0,1,0,1,0,1,1,0,0,0,1,0,1,1,1,1,1,0,0,1,0,1,0,1,1,0,1,1,1,1,1,1,1,1,0,1,1,1,1,1,1,1,1,1,1,1,0,0,1,1,0,0,1,1,1,0,1,1,1,0,1,0,1,1,1,1,0,1,0,0,0,0,1,1,1,0,1,1,0,1,1,0,0,1,1,1,1,1,1,1,0,0,1,1,0,1,1,1,1,0,0,1,1,0,1,0,1,0,0,0,1,0,1,1,1,1,0,0,1,1,1,0,0,0,0,1,0,1,0,0,0,1,0,1,0,1,1,0,1,1,1,1,1,1,0,1,0,0,0,0,1,1],\"type\":\"choropleth\",\"geo\":\"geo2\"}],                        {\"template\":{\"data\":{\"histogram2dcontour\":[{\"type\":\"histogram2dcontour\",\"colorbar\":{\"outlinewidth\":0,\"ticks\":\"\"},\"colorscale\":[[0.0,\"#0d0887\"],[0.1111111111111111,\"#46039f\"],[0.2222222222222222,\"#7201a8\"],[0.3333333333333333,\"#9c179e\"],[0.4444444444444444,\"#bd3786\"],[0.5555555555555556,\"#d8576b\"],[0.6666666666666666,\"#ed7953\"],[0.7777777777777778,\"#fb9f3a\"],[0.8888888888888888,\"#fdca26\"],[1.0,\"#f0f921\"]]}],\"choropleth\":[{\"type\":\"choropleth\",\"colorbar\":{\"outlinewidth\":0,\"ticks\":\"\"}}],\"histogram2d\":[{\"type\":\"histogram2d\",\"colorbar\":{\"outlinewidth\":0,\"ticks\":\"\"},\"colorscale\":[[0.0,\"#0d0887\"],[0.1111111111111111,\"#46039f\"],[0.2222222222222222,\"#7201a8\"],[0.3333333333333333,\"#9c179e\"],[0.4444444444444444,\"#bd3786\"],[0.5555555555555556,\"#d8576b\"],[0.6666666666666666,\"#ed7953\"],[0.7777777777777778,\"#fb9f3a\"],[0.8888888888888888,\"#fdca26\"],[1.0,\"#f0f921\"]]}],\"heatmap\":[{\"type\":\"heatmap\",\"colorbar\":{\"outlinewidth\":0,\"ticks\":\"\"},\"colorscale\":[[0.0,\"#0d0887\"],[0.1111111111111111,\"#46039f\"],[0.2222222222222222,\"#7201a8\"],[0.3333333333333333,\"#9c179e\"],[0.4444444444444444,\"#bd3786\"],[0.5555555555555556,\"#d8576b\"],[0.6666666666666666,\"#ed7953\"],[0.7777777777777778,\"#fb9f3a\"],[0.8888888888888888,\"#fdca26\"],[1.0,\"#f0f921\"]]}],\"heatmapgl\":[{\"type\":\"heatmapgl\",\"colorbar\":{\"outlinewidth\":0,\"ticks\":\"\"},\"colorscale\":[[0.0,\"#0d0887\"],[0.1111111111111111,\"#46039f\"],[0.2222222222222222,\"#7201a8\"],[0.3333333333333333,\"#9c179e\"],[0.4444444444444444,\"#bd3786\"],[0.5555555555555556,\"#d8576b\"],[0.6666666666666666,\"#ed7953\"],[0.7777777777777778,\"#fb9f3a\"],[0.8888888888888888,\"#fdca26\"],[1.0,\"#f0f921\"]]}],\"contourcarpet\":[{\"type\":\"contourcarpet\",\"colorbar\":{\"outlinewidth\":0,\"ticks\":\"\"}}],\"contour\":[{\"type\":\"contour\",\"colorbar\":{\"outlinewidth\":0,\"ticks\":\"\"},\"colorscale\":[[0.0,\"#0d0887\"],[0.1111111111111111,\"#46039f\"],[0.2222222222222222,\"#7201a8\"],[0.3333333333333333,\"#9c179e\"],[0.4444444444444444,\"#bd3786\"],[0.5555555555555556,\"#d8576b\"],[0.6666666666666666,\"#ed7953\"],[0.7777777777777778,\"#fb9f3a\"],[0.8888888888888888,\"#fdca26\"],[1.0,\"#f0f921\"]]}],\"surface\":[{\"type\":\"surface\",\"colorbar\":{\"outlinewidth\":0,\"ticks\":\"\"},\"colorscale\":[[0.0,\"#0d0887\"],[0.1111111111111111,\"#46039f\"],[0.2222222222222222,\"#7201a8\"],[0.3333333333333333,\"#9c179e\"],[0.4444444444444444,\"#bd3786\"],[0.5555555555555556,\"#d8576b\"],[0.6666666666666666,\"#ed7953\"],[0.7777777777777778,\"#fb9f3a\"],[0.8888888888888888,\"#fdca26\"],[1.0,\"#f0f921\"]]}],\"mesh3d\":[{\"type\":\"mesh3d\",\"colorbar\":{\"outlinewidth\":0,\"ticks\":\"\"}}],\"scatter\":[{\"fillpattern\":{\"fillmode\":\"overlay\",\"size\":10,\"solidity\":0.2},\"type\":\"scatter\"}],\"parcoords\":[{\"type\":\"parcoords\",\"line\":{\"colorbar\":{\"outlinewidth\":0,\"ticks\":\"\"}}}],\"scatterpolargl\":[{\"type\":\"scatterpolargl\",\"marker\":{\"colorbar\":{\"outlinewidth\":0,\"ticks\":\"\"}}}],\"bar\":[{\"error_x\":{\"color\":\"#2a3f5f\"},\"error_y\":{\"color\":\"#2a3f5f\"},\"marker\":{\"line\":{\"color\":\"#E5ECF6\",\"width\":0.5},\"pattern\":{\"fillmode\":\"overlay\",\"size\":10,\"solidity\":0.2}},\"type\":\"bar\"}],\"scattergeo\":[{\"type\":\"scattergeo\",\"marker\":{\"colorbar\":{\"outlinewidth\":0,\"ticks\":\"\"}}}],\"scatterpolar\":[{\"type\":\"scatterpolar\",\"marker\":{\"colorbar\":{\"outlinewidth\":0,\"ticks\":\"\"}}}],\"histogram\":[{\"marker\":{\"pattern\":{\"fillmode\":\"overlay\",\"size\":10,\"solidity\":0.2}},\"type\":\"histogram\"}],\"scattergl\":[{\"type\":\"scattergl\",\"marker\":{\"colorbar\":{\"outlinewidth\":0,\"ticks\":\"\"}}}],\"scatter3d\":[{\"type\":\"scatter3d\",\"line\":{\"colorbar\":{\"outlinewidth\":0,\"ticks\":\"\"}},\"marker\":{\"colorbar\":{\"outlinewidth\":0,\"ticks\":\"\"}}}],\"scattermapbox\":[{\"type\":\"scattermapbox\",\"marker\":{\"colorbar\":{\"outlinewidth\":0,\"ticks\":\"\"}}}],\"scatterternary\":[{\"type\":\"scatterternary\",\"marker\":{\"colorbar\":{\"outlinewidth\":0,\"ticks\":\"\"}}}],\"scattercarpet\":[{\"type\":\"scattercarpet\",\"marker\":{\"colorbar\":{\"outlinewidth\":0,\"ticks\":\"\"}}}],\"carpet\":[{\"aaxis\":{\"endlinecolor\":\"#2a3f5f\",\"gridcolor\":\"white\",\"linecolor\":\"white\",\"minorgridcolor\":\"white\",\"startlinecolor\":\"#2a3f5f\"},\"baxis\":{\"endlinecolor\":\"#2a3f5f\",\"gridcolor\":\"white\",\"linecolor\":\"white\",\"minorgridcolor\":\"white\",\"startlinecolor\":\"#2a3f5f\"},\"type\":\"carpet\"}],\"table\":[{\"cells\":{\"fill\":{\"color\":\"#EBF0F8\"},\"line\":{\"color\":\"white\"}},\"header\":{\"fill\":{\"color\":\"#C8D4E3\"},\"line\":{\"color\":\"white\"}},\"type\":\"table\"}],\"barpolar\":[{\"marker\":{\"line\":{\"color\":\"#E5ECF6\",\"width\":0.5},\"pattern\":{\"fillmode\":\"overlay\",\"size\":10,\"solidity\":0.2}},\"type\":\"barpolar\"}],\"pie\":[{\"automargin\":true,\"type\":\"pie\"}]},\"layout\":{\"autotypenumbers\":\"strict\",\"colorway\":[\"#636efa\",\"#EF553B\",\"#00cc96\",\"#ab63fa\",\"#FFA15A\",\"#19d3f3\",\"#FF6692\",\"#B6E880\",\"#FF97FF\",\"#FECB52\"],\"font\":{\"color\":\"#2a3f5f\"},\"hovermode\":\"closest\",\"hoverlabel\":{\"align\":\"left\"},\"paper_bgcolor\":\"white\",\"plot_bgcolor\":\"#E5ECF6\",\"polar\":{\"bgcolor\":\"#E5ECF6\",\"angularaxis\":{\"gridcolor\":\"white\",\"linecolor\":\"white\",\"ticks\":\"\"},\"radialaxis\":{\"gridcolor\":\"white\",\"linecolor\":\"white\",\"ticks\":\"\"}},\"ternary\":{\"bgcolor\":\"#E5ECF6\",\"aaxis\":{\"gridcolor\":\"white\",\"linecolor\":\"white\",\"ticks\":\"\"},\"baxis\":{\"gridcolor\":\"white\",\"linecolor\":\"white\",\"ticks\":\"\"},\"caxis\":{\"gridcolor\":\"white\",\"linecolor\":\"white\",\"ticks\":\"\"}},\"coloraxis\":{\"colorbar\":{\"outlinewidth\":0,\"ticks\":\"\"}},\"colorscale\":{\"sequential\":[[0.0,\"#0d0887\"],[0.1111111111111111,\"#46039f\"],[0.2222222222222222,\"#7201a8\"],[0.3333333333333333,\"#9c179e\"],[0.4444444444444444,\"#bd3786\"],[0.5555555555555556,\"#d8576b\"],[0.6666666666666666,\"#ed7953\"],[0.7777777777777778,\"#fb9f3a\"],[0.8888888888888888,\"#fdca26\"],[1.0,\"#f0f921\"]],\"sequentialminus\":[[0.0,\"#0d0887\"],[0.1111111111111111,\"#46039f\"],[0.2222222222222222,\"#7201a8\"],[0.3333333333333333,\"#9c179e\"],[0.4444444444444444,\"#bd3786\"],[0.5555555555555556,\"#d8576b\"],[0.6666666666666666,\"#ed7953\"],[0.7777777777777778,\"#fb9f3a\"],[0.8888888888888888,\"#fdca26\"],[1.0,\"#f0f921\"]],\"diverging\":[[0,\"#8e0152\"],[0.1,\"#c51b7d\"],[0.2,\"#de77ae\"],[0.3,\"#f1b6da\"],[0.4,\"#fde0ef\"],[0.5,\"#f7f7f7\"],[0.6,\"#e6f5d0\"],[0.7,\"#b8e186\"],[0.8,\"#7fbc41\"],[0.9,\"#4d9221\"],[1,\"#276419\"]]},\"xaxis\":{\"gridcolor\":\"white\",\"linecolor\":\"white\",\"ticks\":\"\",\"title\":{\"standoff\":15},\"zerolinecolor\":\"white\",\"automargin\":true,\"zerolinewidth\":2},\"yaxis\":{\"gridcolor\":\"white\",\"linecolor\":\"white\",\"ticks\":\"\",\"title\":{\"standoff\":15},\"zerolinecolor\":\"white\",\"automargin\":true,\"zerolinewidth\":2},\"scene\":{\"xaxis\":{\"backgroundcolor\":\"#E5ECF6\",\"gridcolor\":\"white\",\"linecolor\":\"white\",\"showbackground\":true,\"ticks\":\"\",\"zerolinecolor\":\"white\",\"gridwidth\":2},\"yaxis\":{\"backgroundcolor\":\"#E5ECF6\",\"gridcolor\":\"white\",\"linecolor\":\"white\",\"showbackground\":true,\"ticks\":\"\",\"zerolinecolor\":\"white\",\"gridwidth\":2},\"zaxis\":{\"backgroundcolor\":\"#E5ECF6\",\"gridcolor\":\"white\",\"linecolor\":\"white\",\"showbackground\":true,\"ticks\":\"\",\"zerolinecolor\":\"white\",\"gridwidth\":2}},\"shapedefaults\":{\"line\":{\"color\":\"#2a3f5f\"}},\"annotationdefaults\":{\"arrowcolor\":\"#2a3f5f\",\"arrowhead\":0,\"arrowwidth\":1},\"geo\":{\"bgcolor\":\"white\",\"landcolor\":\"#E5ECF6\",\"subunitcolor\":\"white\",\"showland\":true,\"showlakes\":true,\"lakecolor\":\"white\"},\"title\":{\"x\":0.05},\"mapbox\":{\"style\":\"light\"}}},\"geo\":{\"domain\":{\"x\":[0.0,0.45],\"y\":[0.0,1.0]},\"projection\":{\"type\":\"equirectangular\"},\"showframe\":true,\"showcoastlines\":false},\"geo2\":{\"domain\":{\"x\":[0.55,1.0],\"y\":[0.0,1.0]}},\"annotations\":[{\"font\":{\"size\":16},\"showarrow\":false,\"text\":\"Outbreak Trends\",\"x\":0.225,\"xanchor\":\"center\",\"xref\":\"paper\",\"y\":1.0,\"yanchor\":\"bottom\",\"yref\":\"paper\"},{\"font\":{\"size\":16},\"showarrow\":false,\"text\":\"Risk Trends\",\"x\":0.775,\"xanchor\":\"center\",\"xref\":\"paper\",\"y\":1.0,\"yanchor\":\"bottom\",\"yref\":\"paper\"}],\"title\":{\"text\":\"Outbreak and Risk Trends\",\"x\":0.5},\"width\":1200,\"height\":600},                        {\"responsive\": true}                    ).then(function(){\n",
       "                            \n",
       "var gd = document.getElementById('72f1fdc1-679f-43ca-a94d-5f16b24f8fb3');\n",
       "var x = new MutationObserver(function (mutations, observer) {{\n",
       "        var display = window.getComputedStyle(gd).display;\n",
       "        if (!display || display === 'none') {{\n",
       "            console.log([gd, 'removed!']);\n",
       "            Plotly.purge(gd);\n",
       "            observer.disconnect();\n",
       "        }}\n",
       "}});\n",
       "\n",
       "// Listen for the removal of the full notebook cells\n",
       "var notebookContainer = gd.closest('#notebook-container');\n",
       "if (notebookContainer) {{\n",
       "    x.observe(notebookContainer, {childList: true});\n",
       "}}\n",
       "\n",
       "// Listen for the clearing of the current output cell\n",
       "var outputEl = gd.closest('.output');\n",
       "if (outputEl) {{\n",
       "    x.observe(outputEl, {childList: true});\n",
       "}}\n",
       "\n",
       "                        })                };                });            </script>        </div>"
      ]
     },
     "metadata": {},
     "output_type": "display_data"
    }
   ],
   "source": [
    "fig = make_subplots(rows=1, cols=2, subplot_titles=('Outbreak Trends', 'Risk Trends'),\n",
    "                    specs=[[{\"type\": \"choropleth\"}, {\"type\": \"choropleth\"}]])\n",
    "\n",
    "# Function to return 1 for positive trend and 0 for negative\n",
    "def trend_binary(value):\n",
    "    return 1 if value > 0 else 0\n",
    "\n",
    "# Custom discrete colorscale\n",
    "discrete_colorscale = [(0, 'red'), (0.5, 'red'), (0.5, 'blue'), (1, 'blue')]\n",
    "\n",
    "# Adjustments for colorbar layout to avoid overlapping titles\n",
    "colorbar_layout = dict(\n",
    "    tickvals=[0, 1],\n",
    "    ticktext=['Trending Downwards', 'Trending Upwards'],\n",
    "    len=0.5,  # Adjust length of colorbar\n",
    ")\n",
    "\n",
    "# Outbreak Trends Choropleth\n",
    "outbreak_trace = go.Choropleth(\n",
    "    locations=outbreak_trend_df['Country'],\n",
    "    z=outbreak_trend_df['Trend'].apply(trend_binary),\n",
    "    text=outbreak_trend_df['Country'],\n",
    "    colorscale=discrete_colorscale,\n",
    "    locationmode='ISO-3',\n",
    "    colorbar=colorbar_layout\n",
    ")\n",
    "fig.add_trace(outbreak_trace, row=1, col=1)\n",
    "\n",
    "# Risk Trends Choropleth\n",
    "risk_trace = go.Choropleth(\n",
    "    locations=risk_trend_df['Country'],\n",
    "    z=risk_trend_df['Trend'].apply(trend_binary),\n",
    "    text=risk_trend_df['Country'],\n",
    "    colorscale=discrete_colorscale,\n",
    "    locationmode='ISO-3',\n",
    "    colorbar=colorbar_layout\n",
    ")\n",
    "fig.add_trace(risk_trace, row=1, col=2)\n",
    "\n",
    "# Update layout\n",
    "fig.update_layout(\n",
    "    title_text='Outbreak and Risk Trends',\n",
    "    title_x=0.5,\n",
    "    geo=dict(\n",
    "        showframe=True,\n",
    "        showcoastlines=False,\n",
    "        projection_type='equirectangular'\n",
    "    ),\n",
    "    width=1200,\n",
    "    height=600\n",
    ")\n",
    "\n",
    "fig.show()"
   ]
  },
  {
   "cell_type": "code",
   "execution_count": 60,
   "id": "80b73555-cadb-47c1-b1ab-8aeeefbf40a8",
   "metadata": {},
   "outputs": [
    {
     "data": {
      "application/vnd.plotly.v1+json": {
       "config": {
        "plotlyServerURL": "https://plot.ly"
       },
       "data": [
        {
         "colorbar": {
          "ticktext": [
           "Different Trends",
           "Same Trends"
          ],
          "tickvals": [
           0,
           1
          ],
          "title": {
           "text": "Combined Trend"
          }
         },
         "colorscale": [
          [
           0,
           "yellow"
          ],
          [
           0.5,
           "yellow"
          ],
          [
           0.5,
           "blue"
          ],
          [
           1,
           "blue"
          ]
         ],
         "locationmode": "ISO-3",
         "locations": [
          "AFG",
          "MLI",
          "GBR",
          "AUS",
          "CHL",
          "SVN",
          "IMN",
          "MHL",
          "PNG",
          "FJI",
          "ARE",
          "AUT",
          "TCD",
          "SLB",
          "GTM",
          "ISR",
          "IRL",
          "PAN",
          "FIN",
          "UKR",
          "AZE",
          "CAF",
          "SOM",
          "IRQ",
          "MUS",
          "PAK",
          "FRA",
          "UGA",
          "BHR",
          "CYM",
          "ZAF",
          "MRT",
          "ETH",
          "PRY",
          "SWZ",
          "LUX",
          "SRB",
          "PRT",
          "EGY",
          "VEN",
          "ATG",
          "JOR",
          "MDG",
          "COD",
          "SYC",
          "JPN",
          "POL",
          "SLV",
          "VUT",
          "ARG",
          "MWI",
          "COL",
          "ABW",
          "USA",
          "SXM",
          "CHN",
          "MDV",
          "ITA",
          "IRN",
          "PER",
          "ARM",
          "URY",
          "PHL",
          "MYS",
          "JAM",
          "SGP",
          "EST",
          "MEX",
          "OMN",
          "TUV",
          "GHA",
          "BDI",
          "SUR",
          "TON",
          "BTN",
          "HND",
          "MMR",
          "NIC",
          "GRC",
          "BGR",
          "TLS",
          "BOL",
          "SWE",
          "HTI",
          "NAM",
          "NZL",
          "GRD",
          "SYR",
          "BRA",
          "BWA",
          "TJK",
          "NPL",
          "GIN",
          "NER",
          "GUM",
          "CHE",
          "NRU",
          "BRN",
          "BIH",
          "THA",
          "GUY",
          "NCL",
          "KAZ",
          "MOZ",
          "BMU",
          "BGD",
          "PYF",
          "IDN",
          "MCO",
          "CAN",
          "SSD",
          "TCA",
          "BRB",
          "NOR",
          "GAB",
          "IND",
          "MNG",
          "CMR",
          "ESP",
          "TUR",
          "BEL",
          "MKD",
          "TTO",
          "SDN",
          "CPV",
          "MAR",
          "HUN",
          "DEU",
          "HKG",
          "NGA",
          "TUN",
          "LKA",
          "KHM",
          "MNE",
          "ISL",
          "GEO",
          "BLZ",
          "CRI",
          "NLD",
          "ECU",
          "QAT",
          "LSO",
          "KEN",
          "SAU",
          "LTU",
          "CUB",
          "CZE",
          "WSM",
          "XKX",
          "DJI",
          "DMA",
          "SEN",
          "PRI",
          "ZWE",
          "HRV",
          "ROU",
          "ALB",
          "RUS",
          "KOR",
          "LVA",
          "KWT",
          "DOM",
          "AGO",
          "YEM",
          "VIR",
          "AND",
          "ASM",
          "KIR",
          "DNK",
          "STP",
          "DZA",
          "ZMB",
          "VNM",
          "RWA",
          "LBY",
          "CYP",
          "LBN"
         ],
         "text": [
          "AFG",
          "MLI",
          "GBR",
          "AUS",
          "CHL",
          "SVN",
          "IMN",
          "MHL",
          "PNG",
          "FJI",
          "ARE",
          "AUT",
          "TCD",
          "SLB",
          "GTM",
          "ISR",
          "IRL",
          "PAN",
          "FIN",
          "UKR",
          "AZE",
          "CAF",
          "SOM",
          "IRQ",
          "MUS",
          "PAK",
          "FRA",
          "UGA",
          "BHR",
          "CYM",
          "ZAF",
          "MRT",
          "ETH",
          "PRY",
          "SWZ",
          "LUX",
          "SRB",
          "PRT",
          "EGY",
          "VEN",
          "ATG",
          "JOR",
          "MDG",
          "COD",
          "SYC",
          "JPN",
          "POL",
          "SLV",
          "VUT",
          "ARG",
          "MWI",
          "COL",
          "ABW",
          "USA",
          "SXM",
          "CHN",
          "MDV",
          "ITA",
          "IRN",
          "PER",
          "ARM",
          "URY",
          "PHL",
          "MYS",
          "JAM",
          "SGP",
          "EST",
          "MEX",
          "OMN",
          "TUV",
          "GHA",
          "BDI",
          "SUR",
          "TON",
          "BTN",
          "HND",
          "MMR",
          "NIC",
          "GRC",
          "BGR",
          "TLS",
          "BOL",
          "SWE",
          "HTI",
          "NAM",
          "NZL",
          "GRD",
          "SYR",
          "BRA",
          "BWA",
          "TJK",
          "NPL",
          "GIN",
          "NER",
          "GUM",
          "CHE",
          "NRU",
          "BRN",
          "BIH",
          "THA",
          "GUY",
          "NCL",
          "KAZ",
          "MOZ",
          "BMU",
          "BGD",
          "PYF",
          "IDN",
          "MCO",
          "CAN",
          "SSD",
          "TCA",
          "BRB",
          "NOR",
          "GAB",
          "IND",
          "MNG",
          "CMR",
          "ESP",
          "TUR",
          "BEL",
          "MKD",
          "TTO",
          "SDN",
          "CPV",
          "MAR",
          "HUN",
          "DEU",
          "HKG",
          "NGA",
          "TUN",
          "LKA",
          "KHM",
          "MNE",
          "ISL",
          "GEO",
          "BLZ",
          "CRI",
          "NLD",
          "ECU",
          "QAT",
          "LSO",
          "KEN",
          "SAU",
          "LTU",
          "CUB",
          "CZE",
          "WSM",
          "XKX",
          "DJI",
          "DMA",
          "SEN",
          "PRI",
          "ZWE",
          "HRV",
          "ROU",
          "ALB",
          "RUS",
          "KOR",
          "LVA",
          "KWT",
          "DOM",
          "AGO",
          "YEM",
          "VIR",
          "AND",
          "ASM",
          "KIR",
          "DNK",
          "STP",
          "DZA",
          "ZMB",
          "VNM",
          "RWA",
          "LBY",
          "CYP",
          "LBN"
         ],
         "type": "choropleth",
         "z": [
          1,
          1,
          0,
          0,
          0,
          0,
          1,
          0,
          1,
          0,
          0,
          0,
          0,
          1,
          0,
          1,
          1,
          0,
          0,
          1,
          1,
          0,
          1,
          1,
          0,
          1,
          0,
          1,
          0,
          1,
          0,
          0,
          1,
          1,
          1,
          0,
          1,
          0,
          0,
          0,
          0,
          0,
          1,
          1,
          0,
          1,
          0,
          1,
          0,
          0,
          1,
          0,
          0,
          0,
          0,
          1,
          0,
          0,
          0,
          1,
          0,
          0,
          0,
          0,
          0,
          0,
          0,
          0,
          0,
          0,
          0,
          1,
          1,
          0,
          0,
          1,
          1,
          0,
          0,
          0,
          1,
          0,
          0,
          0,
          1,
          0,
          1,
          0,
          0,
          0,
          0,
          1,
          0,
          1,
          1,
          0,
          1,
          0,
          0,
          0,
          1,
          0,
          0,
          1,
          0,
          0,
          1,
          1,
          0,
          0,
          0,
          0,
          0,
          0,
          0,
          1,
          1,
          0,
          0,
          0,
          0,
          0,
          0,
          0,
          1,
          1,
          0,
          0,
          1,
          0,
          1,
          0,
          1,
          1,
          1,
          0,
          1,
          0,
          0,
          0,
          0,
          1,
          1,
          0,
          0,
          0,
          1,
          1,
          0,
          1,
          0,
          1,
          0,
          1,
          1,
          1,
          0,
          1,
          0,
          1,
          0,
          0,
          1,
          0,
          0,
          0,
          0,
          0,
          0,
          1,
          0,
          1,
          1,
          1,
          1,
          0,
          0
         ]
        }
       ],
       "layout": {
        "geo": {
         "projection": {
          "type": "equirectangular"
         },
         "showcoastlines": false,
         "showframe": true
        },
        "height": 600,
        "template": {
         "data": {
          "bar": [
           {
            "error_x": {
             "color": "#2a3f5f"
            },
            "error_y": {
             "color": "#2a3f5f"
            },
            "marker": {
             "line": {
              "color": "#E5ECF6",
              "width": 0.5
             },
             "pattern": {
              "fillmode": "overlay",
              "size": 10,
              "solidity": 0.2
             }
            },
            "type": "bar"
           }
          ],
          "barpolar": [
           {
            "marker": {
             "line": {
              "color": "#E5ECF6",
              "width": 0.5
             },
             "pattern": {
              "fillmode": "overlay",
              "size": 10,
              "solidity": 0.2
             }
            },
            "type": "barpolar"
           }
          ],
          "carpet": [
           {
            "aaxis": {
             "endlinecolor": "#2a3f5f",
             "gridcolor": "white",
             "linecolor": "white",
             "minorgridcolor": "white",
             "startlinecolor": "#2a3f5f"
            },
            "baxis": {
             "endlinecolor": "#2a3f5f",
             "gridcolor": "white",
             "linecolor": "white",
             "minorgridcolor": "white",
             "startlinecolor": "#2a3f5f"
            },
            "type": "carpet"
           }
          ],
          "choropleth": [
           {
            "colorbar": {
             "outlinewidth": 0,
             "ticks": ""
            },
            "type": "choropleth"
           }
          ],
          "contour": [
           {
            "colorbar": {
             "outlinewidth": 0,
             "ticks": ""
            },
            "colorscale": [
             [
              0,
              "#0d0887"
             ],
             [
              0.1111111111111111,
              "#46039f"
             ],
             [
              0.2222222222222222,
              "#7201a8"
             ],
             [
              0.3333333333333333,
              "#9c179e"
             ],
             [
              0.4444444444444444,
              "#bd3786"
             ],
             [
              0.5555555555555556,
              "#d8576b"
             ],
             [
              0.6666666666666666,
              "#ed7953"
             ],
             [
              0.7777777777777778,
              "#fb9f3a"
             ],
             [
              0.8888888888888888,
              "#fdca26"
             ],
             [
              1,
              "#f0f921"
             ]
            ],
            "type": "contour"
           }
          ],
          "contourcarpet": [
           {
            "colorbar": {
             "outlinewidth": 0,
             "ticks": ""
            },
            "type": "contourcarpet"
           }
          ],
          "heatmap": [
           {
            "colorbar": {
             "outlinewidth": 0,
             "ticks": ""
            },
            "colorscale": [
             [
              0,
              "#0d0887"
             ],
             [
              0.1111111111111111,
              "#46039f"
             ],
             [
              0.2222222222222222,
              "#7201a8"
             ],
             [
              0.3333333333333333,
              "#9c179e"
             ],
             [
              0.4444444444444444,
              "#bd3786"
             ],
             [
              0.5555555555555556,
              "#d8576b"
             ],
             [
              0.6666666666666666,
              "#ed7953"
             ],
             [
              0.7777777777777778,
              "#fb9f3a"
             ],
             [
              0.8888888888888888,
              "#fdca26"
             ],
             [
              1,
              "#f0f921"
             ]
            ],
            "type": "heatmap"
           }
          ],
          "heatmapgl": [
           {
            "colorbar": {
             "outlinewidth": 0,
             "ticks": ""
            },
            "colorscale": [
             [
              0,
              "#0d0887"
             ],
             [
              0.1111111111111111,
              "#46039f"
             ],
             [
              0.2222222222222222,
              "#7201a8"
             ],
             [
              0.3333333333333333,
              "#9c179e"
             ],
             [
              0.4444444444444444,
              "#bd3786"
             ],
             [
              0.5555555555555556,
              "#d8576b"
             ],
             [
              0.6666666666666666,
              "#ed7953"
             ],
             [
              0.7777777777777778,
              "#fb9f3a"
             ],
             [
              0.8888888888888888,
              "#fdca26"
             ],
             [
              1,
              "#f0f921"
             ]
            ],
            "type": "heatmapgl"
           }
          ],
          "histogram": [
           {
            "marker": {
             "pattern": {
              "fillmode": "overlay",
              "size": 10,
              "solidity": 0.2
             }
            },
            "type": "histogram"
           }
          ],
          "histogram2d": [
           {
            "colorbar": {
             "outlinewidth": 0,
             "ticks": ""
            },
            "colorscale": [
             [
              0,
              "#0d0887"
             ],
             [
              0.1111111111111111,
              "#46039f"
             ],
             [
              0.2222222222222222,
              "#7201a8"
             ],
             [
              0.3333333333333333,
              "#9c179e"
             ],
             [
              0.4444444444444444,
              "#bd3786"
             ],
             [
              0.5555555555555556,
              "#d8576b"
             ],
             [
              0.6666666666666666,
              "#ed7953"
             ],
             [
              0.7777777777777778,
              "#fb9f3a"
             ],
             [
              0.8888888888888888,
              "#fdca26"
             ],
             [
              1,
              "#f0f921"
             ]
            ],
            "type": "histogram2d"
           }
          ],
          "histogram2dcontour": [
           {
            "colorbar": {
             "outlinewidth": 0,
             "ticks": ""
            },
            "colorscale": [
             [
              0,
              "#0d0887"
             ],
             [
              0.1111111111111111,
              "#46039f"
             ],
             [
              0.2222222222222222,
              "#7201a8"
             ],
             [
              0.3333333333333333,
              "#9c179e"
             ],
             [
              0.4444444444444444,
              "#bd3786"
             ],
             [
              0.5555555555555556,
              "#d8576b"
             ],
             [
              0.6666666666666666,
              "#ed7953"
             ],
             [
              0.7777777777777778,
              "#fb9f3a"
             ],
             [
              0.8888888888888888,
              "#fdca26"
             ],
             [
              1,
              "#f0f921"
             ]
            ],
            "type": "histogram2dcontour"
           }
          ],
          "mesh3d": [
           {
            "colorbar": {
             "outlinewidth": 0,
             "ticks": ""
            },
            "type": "mesh3d"
           }
          ],
          "parcoords": [
           {
            "line": {
             "colorbar": {
              "outlinewidth": 0,
              "ticks": ""
             }
            },
            "type": "parcoords"
           }
          ],
          "pie": [
           {
            "automargin": true,
            "type": "pie"
           }
          ],
          "scatter": [
           {
            "fillpattern": {
             "fillmode": "overlay",
             "size": 10,
             "solidity": 0.2
            },
            "type": "scatter"
           }
          ],
          "scatter3d": [
           {
            "line": {
             "colorbar": {
              "outlinewidth": 0,
              "ticks": ""
             }
            },
            "marker": {
             "colorbar": {
              "outlinewidth": 0,
              "ticks": ""
             }
            },
            "type": "scatter3d"
           }
          ],
          "scattercarpet": [
           {
            "marker": {
             "colorbar": {
              "outlinewidth": 0,
              "ticks": ""
             }
            },
            "type": "scattercarpet"
           }
          ],
          "scattergeo": [
           {
            "marker": {
             "colorbar": {
              "outlinewidth": 0,
              "ticks": ""
             }
            },
            "type": "scattergeo"
           }
          ],
          "scattergl": [
           {
            "marker": {
             "colorbar": {
              "outlinewidth": 0,
              "ticks": ""
             }
            },
            "type": "scattergl"
           }
          ],
          "scattermapbox": [
           {
            "marker": {
             "colorbar": {
              "outlinewidth": 0,
              "ticks": ""
             }
            },
            "type": "scattermapbox"
           }
          ],
          "scatterpolar": [
           {
            "marker": {
             "colorbar": {
              "outlinewidth": 0,
              "ticks": ""
             }
            },
            "type": "scatterpolar"
           }
          ],
          "scatterpolargl": [
           {
            "marker": {
             "colorbar": {
              "outlinewidth": 0,
              "ticks": ""
             }
            },
            "type": "scatterpolargl"
           }
          ],
          "scatterternary": [
           {
            "marker": {
             "colorbar": {
              "outlinewidth": 0,
              "ticks": ""
             }
            },
            "type": "scatterternary"
           }
          ],
          "surface": [
           {
            "colorbar": {
             "outlinewidth": 0,
             "ticks": ""
            },
            "colorscale": [
             [
              0,
              "#0d0887"
             ],
             [
              0.1111111111111111,
              "#46039f"
             ],
             [
              0.2222222222222222,
              "#7201a8"
             ],
             [
              0.3333333333333333,
              "#9c179e"
             ],
             [
              0.4444444444444444,
              "#bd3786"
             ],
             [
              0.5555555555555556,
              "#d8576b"
             ],
             [
              0.6666666666666666,
              "#ed7953"
             ],
             [
              0.7777777777777778,
              "#fb9f3a"
             ],
             [
              0.8888888888888888,
              "#fdca26"
             ],
             [
              1,
              "#f0f921"
             ]
            ],
            "type": "surface"
           }
          ],
          "table": [
           {
            "cells": {
             "fill": {
              "color": "#EBF0F8"
             },
             "line": {
              "color": "white"
             }
            },
            "header": {
             "fill": {
              "color": "#C8D4E3"
             },
             "line": {
              "color": "white"
             }
            },
            "type": "table"
           }
          ]
         },
         "layout": {
          "annotationdefaults": {
           "arrowcolor": "#2a3f5f",
           "arrowhead": 0,
           "arrowwidth": 1
          },
          "autotypenumbers": "strict",
          "coloraxis": {
           "colorbar": {
            "outlinewidth": 0,
            "ticks": ""
           }
          },
          "colorscale": {
           "diverging": [
            [
             0,
             "#8e0152"
            ],
            [
             0.1,
             "#c51b7d"
            ],
            [
             0.2,
             "#de77ae"
            ],
            [
             0.3,
             "#f1b6da"
            ],
            [
             0.4,
             "#fde0ef"
            ],
            [
             0.5,
             "#f7f7f7"
            ],
            [
             0.6,
             "#e6f5d0"
            ],
            [
             0.7,
             "#b8e186"
            ],
            [
             0.8,
             "#7fbc41"
            ],
            [
             0.9,
             "#4d9221"
            ],
            [
             1,
             "#276419"
            ]
           ],
           "sequential": [
            [
             0,
             "#0d0887"
            ],
            [
             0.1111111111111111,
             "#46039f"
            ],
            [
             0.2222222222222222,
             "#7201a8"
            ],
            [
             0.3333333333333333,
             "#9c179e"
            ],
            [
             0.4444444444444444,
             "#bd3786"
            ],
            [
             0.5555555555555556,
             "#d8576b"
            ],
            [
             0.6666666666666666,
             "#ed7953"
            ],
            [
             0.7777777777777778,
             "#fb9f3a"
            ],
            [
             0.8888888888888888,
             "#fdca26"
            ],
            [
             1,
             "#f0f921"
            ]
           ],
           "sequentialminus": [
            [
             0,
             "#0d0887"
            ],
            [
             0.1111111111111111,
             "#46039f"
            ],
            [
             0.2222222222222222,
             "#7201a8"
            ],
            [
             0.3333333333333333,
             "#9c179e"
            ],
            [
             0.4444444444444444,
             "#bd3786"
            ],
            [
             0.5555555555555556,
             "#d8576b"
            ],
            [
             0.6666666666666666,
             "#ed7953"
            ],
            [
             0.7777777777777778,
             "#fb9f3a"
            ],
            [
             0.8888888888888888,
             "#fdca26"
            ],
            [
             1,
             "#f0f921"
            ]
           ]
          },
          "colorway": [
           "#636efa",
           "#EF553B",
           "#00cc96",
           "#ab63fa",
           "#FFA15A",
           "#19d3f3",
           "#FF6692",
           "#B6E880",
           "#FF97FF",
           "#FECB52"
          ],
          "font": {
           "color": "#2a3f5f"
          },
          "geo": {
           "bgcolor": "white",
           "lakecolor": "white",
           "landcolor": "#E5ECF6",
           "showlakes": true,
           "showland": true,
           "subunitcolor": "white"
          },
          "hoverlabel": {
           "align": "left"
          },
          "hovermode": "closest",
          "mapbox": {
           "style": "light"
          },
          "paper_bgcolor": "white",
          "plot_bgcolor": "#E5ECF6",
          "polar": {
           "angularaxis": {
            "gridcolor": "white",
            "linecolor": "white",
            "ticks": ""
           },
           "bgcolor": "#E5ECF6",
           "radialaxis": {
            "gridcolor": "white",
            "linecolor": "white",
            "ticks": ""
           }
          },
          "scene": {
           "xaxis": {
            "backgroundcolor": "#E5ECF6",
            "gridcolor": "white",
            "gridwidth": 2,
            "linecolor": "white",
            "showbackground": true,
            "ticks": "",
            "zerolinecolor": "white"
           },
           "yaxis": {
            "backgroundcolor": "#E5ECF6",
            "gridcolor": "white",
            "gridwidth": 2,
            "linecolor": "white",
            "showbackground": true,
            "ticks": "",
            "zerolinecolor": "white"
           },
           "zaxis": {
            "backgroundcolor": "#E5ECF6",
            "gridcolor": "white",
            "gridwidth": 2,
            "linecolor": "white",
            "showbackground": true,
            "ticks": "",
            "zerolinecolor": "white"
           }
          },
          "shapedefaults": {
           "line": {
            "color": "#2a3f5f"
           }
          },
          "ternary": {
           "aaxis": {
            "gridcolor": "white",
            "linecolor": "white",
            "ticks": ""
           },
           "baxis": {
            "gridcolor": "white",
            "linecolor": "white",
            "ticks": ""
           },
           "bgcolor": "#E5ECF6",
           "caxis": {
            "gridcolor": "white",
            "linecolor": "white",
            "ticks": ""
           }
          },
          "title": {
           "x": 0.05
          },
          "xaxis": {
           "automargin": true,
           "gridcolor": "white",
           "linecolor": "white",
           "ticks": "",
           "title": {
            "standoff": 15
           },
           "zerolinecolor": "white",
           "zerolinewidth": 2
          },
          "yaxis": {
           "automargin": true,
           "gridcolor": "white",
           "linecolor": "white",
           "ticks": "",
           "title": {
            "standoff": 15
           },
           "zerolinecolor": "white",
           "zerolinewidth": 2
          }
         }
        },
        "title": {
         "text": "Combined Outbreak and Risk Trends",
         "x": 0.5
        },
        "width": 800
       }
      },
      "image/png": "[encoded data removed]",
      "text/html": [
       "<div>                            <div id=\"b7af4160-18ee-4294-b875-2766a4e04785\" class=\"plotly-graph-div\" style=\"height:600px; width:800px;\"></div>            <script type=\"text/javascript\">                require([\"plotly\"], function(Plotly) {                    window.PLOTLYENV=window.PLOTLYENV || {};                                    if (document.getElementById(\"b7af4160-18ee-4294-b875-2766a4e04785\")) {                    Plotly.newPlot(                        \"b7af4160-18ee-4294-b875-2766a4e04785\",                        [{\"colorbar\":{\"ticktext\":[\"Different Trends\",\"Same Trends\"],\"tickvals\":[0,1],\"title\":{\"text\":\"Combined Trend\"}},\"colorscale\":[[0,\"yellow\"],[0.5,\"yellow\"],[0.5,\"blue\"],[1,\"blue\"]],\"locationmode\":\"ISO-3\",\"locations\":[\"AFG\",\"MLI\",\"GBR\",\"AUS\",\"CHL\",\"SVN\",\"IMN\",\"MHL\",\"PNG\",\"FJI\",\"ARE\",\"AUT\",\"TCD\",\"SLB\",\"GTM\",\"ISR\",\"IRL\",\"PAN\",\"FIN\",\"UKR\",\"AZE\",\"CAF\",\"SOM\",\"IRQ\",\"MUS\",\"PAK\",\"FRA\",\"UGA\",\"BHR\",\"CYM\",\"ZAF\",\"MRT\",\"ETH\",\"PRY\",\"SWZ\",\"LUX\",\"SRB\",\"PRT\",\"EGY\",\"VEN\",\"ATG\",\"JOR\",\"MDG\",\"COD\",\"SYC\",\"JPN\",\"POL\",\"SLV\",\"VUT\",\"ARG\",\"MWI\",\"COL\",\"ABW\",\"USA\",\"SXM\",\"CHN\",\"MDV\",\"ITA\",\"IRN\",\"PER\",\"ARM\",\"URY\",\"PHL\",\"MYS\",\"JAM\",\"SGP\",\"EST\",\"MEX\",\"OMN\",\"TUV\",\"GHA\",\"BDI\",\"SUR\",\"TON\",\"BTN\",\"HND\",\"MMR\",\"NIC\",\"GRC\",\"BGR\",\"TLS\",\"BOL\",\"SWE\",\"HTI\",\"NAM\",\"NZL\",\"GRD\",\"SYR\",\"BRA\",\"BWA\",\"TJK\",\"NPL\",\"GIN\",\"NER\",\"GUM\",\"CHE\",\"NRU\",\"BRN\",\"BIH\",\"THA\",\"GUY\",\"NCL\",\"KAZ\",\"MOZ\",\"BMU\",\"BGD\",\"PYF\",\"IDN\",\"MCO\",\"CAN\",\"SSD\",\"TCA\",\"BRB\",\"NOR\",\"GAB\",\"IND\",\"MNG\",\"CMR\",\"ESP\",\"TUR\",\"BEL\",\"MKD\",\"TTO\",\"SDN\",\"CPV\",\"MAR\",\"HUN\",\"DEU\",\"HKG\",\"NGA\",\"TUN\",\"LKA\",\"KHM\",\"MNE\",\"ISL\",\"GEO\",\"BLZ\",\"CRI\",\"NLD\",\"ECU\",\"QAT\",\"LSO\",\"KEN\",\"SAU\",\"LTU\",\"CUB\",\"CZE\",\"WSM\",\"XKX\",\"DJI\",\"DMA\",\"SEN\",\"PRI\",\"ZWE\",\"HRV\",\"ROU\",\"ALB\",\"RUS\",\"KOR\",\"LVA\",\"KWT\",\"DOM\",\"AGO\",\"YEM\",\"VIR\",\"AND\",\"ASM\",\"KIR\",\"DNK\",\"STP\",\"DZA\",\"ZMB\",\"VNM\",\"RWA\",\"LBY\",\"CYP\",\"LBN\"],\"text\":[\"AFG\",\"MLI\",\"GBR\",\"AUS\",\"CHL\",\"SVN\",\"IMN\",\"MHL\",\"PNG\",\"FJI\",\"ARE\",\"AUT\",\"TCD\",\"SLB\",\"GTM\",\"ISR\",\"IRL\",\"PAN\",\"FIN\",\"UKR\",\"AZE\",\"CAF\",\"SOM\",\"IRQ\",\"MUS\",\"PAK\",\"FRA\",\"UGA\",\"BHR\",\"CYM\",\"ZAF\",\"MRT\",\"ETH\",\"PRY\",\"SWZ\",\"LUX\",\"SRB\",\"PRT\",\"EGY\",\"VEN\",\"ATG\",\"JOR\",\"MDG\",\"COD\",\"SYC\",\"JPN\",\"POL\",\"SLV\",\"VUT\",\"ARG\",\"MWI\",\"COL\",\"ABW\",\"USA\",\"SXM\",\"CHN\",\"MDV\",\"ITA\",\"IRN\",\"PER\",\"ARM\",\"URY\",\"PHL\",\"MYS\",\"JAM\",\"SGP\",\"EST\",\"MEX\",\"OMN\",\"TUV\",\"GHA\",\"BDI\",\"SUR\",\"TON\",\"BTN\",\"HND\",\"MMR\",\"NIC\",\"GRC\",\"BGR\",\"TLS\",\"BOL\",\"SWE\",\"HTI\",\"NAM\",\"NZL\",\"GRD\",\"SYR\",\"BRA\",\"BWA\",\"TJK\",\"NPL\",\"GIN\",\"NER\",\"GUM\",\"CHE\",\"NRU\",\"BRN\",\"BIH\",\"THA\",\"GUY\",\"NCL\",\"KAZ\",\"MOZ\",\"BMU\",\"BGD\",\"PYF\",\"IDN\",\"MCO\",\"CAN\",\"SSD\",\"TCA\",\"BRB\",\"NOR\",\"GAB\",\"IND\",\"MNG\",\"CMR\",\"ESP\",\"TUR\",\"BEL\",\"MKD\",\"TTO\",\"SDN\",\"CPV\",\"MAR\",\"HUN\",\"DEU\",\"HKG\",\"NGA\",\"TUN\",\"LKA\",\"KHM\",\"MNE\",\"ISL\",\"GEO\",\"BLZ\",\"CRI\",\"NLD\",\"ECU\",\"QAT\",\"LSO\",\"KEN\",\"SAU\",\"LTU\",\"CUB\",\"CZE\",\"WSM\",\"XKX\",\"DJI\",\"DMA\",\"SEN\",\"PRI\",\"ZWE\",\"HRV\",\"ROU\",\"ALB\",\"RUS\",\"KOR\",\"LVA\",\"KWT\",\"DOM\",\"AGO\",\"YEM\",\"VIR\",\"AND\",\"ASM\",\"KIR\",\"DNK\",\"STP\",\"DZA\",\"ZMB\",\"VNM\",\"RWA\",\"LBY\",\"CYP\",\"LBN\"],\"z\":[1,1,0,0,0,0,1,0,1,0,0,0,0,1,0,1,1,0,0,1,1,0,1,1,0,1,0,1,0,1,0,0,1,1,1,0,1,0,0,0,0,0,1,1,0,1,0,1,0,0,1,0,0,0,0,1,0,0,0,1,0,0,0,0,0,0,0,0,0,0,0,1,1,0,0,1,1,0,0,0,1,0,0,0,1,0,1,0,0,0,0,1,0,1,1,0,1,0,0,0,1,0,0,1,0,0,1,1,0,0,0,0,0,0,0,1,1,0,0,0,0,0,0,0,1,1,0,0,1,0,1,0,1,1,1,0,1,0,0,0,0,1,1,0,0,0,1,1,0,1,0,1,0,1,1,1,0,1,0,1,0,0,1,0,0,0,0,0,0,1,0,1,1,1,1,0,0],\"type\":\"choropleth\"}],                        {\"template\":{\"data\":{\"histogram2dcontour\":[{\"type\":\"histogram2dcontour\",\"colorbar\":{\"outlinewidth\":0,\"ticks\":\"\"},\"colorscale\":[[0.0,\"#0d0887\"],[0.1111111111111111,\"#46039f\"],[0.2222222222222222,\"#7201a8\"],[0.3333333333333333,\"#9c179e\"],[0.4444444444444444,\"#bd3786\"],[0.5555555555555556,\"#d8576b\"],[0.6666666666666666,\"#ed7953\"],[0.7777777777777778,\"#fb9f3a\"],[0.8888888888888888,\"#fdca26\"],[1.0,\"#f0f921\"]]}],\"choropleth\":[{\"type\":\"choropleth\",\"colorbar\":{\"outlinewidth\":0,\"ticks\":\"\"}}],\"histogram2d\":[{\"type\":\"histogram2d\",\"colorbar\":{\"outlinewidth\":0,\"ticks\":\"\"},\"colorscale\":[[0.0,\"#0d0887\"],[0.1111111111111111,\"#46039f\"],[0.2222222222222222,\"#7201a8\"],[0.3333333333333333,\"#9c179e\"],[0.4444444444444444,\"#bd3786\"],[0.5555555555555556,\"#d8576b\"],[0.6666666666666666,\"#ed7953\"],[0.7777777777777778,\"#fb9f3a\"],[0.8888888888888888,\"#fdca26\"],[1.0,\"#f0f921\"]]}],\"heatmap\":[{\"type\":\"heatmap\",\"colorbar\":{\"outlinewidth\":0,\"ticks\":\"\"},\"colorscale\":[[0.0,\"#0d0887\"],[0.1111111111111111,\"#46039f\"],[0.2222222222222222,\"#7201a8\"],[0.3333333333333333,\"#9c179e\"],[0.4444444444444444,\"#bd3786\"],[0.5555555555555556,\"#d8576b\"],[0.6666666666666666,\"#ed7953\"],[0.7777777777777778,\"#fb9f3a\"],[0.8888888888888888,\"#fdca26\"],[1.0,\"#f0f921\"]]}],\"heatmapgl\":[{\"type\":\"heatmapgl\",\"colorbar\":{\"outlinewidth\":0,\"ticks\":\"\"},\"colorscale\":[[0.0,\"#0d0887\"],[0.1111111111111111,\"#46039f\"],[0.2222222222222222,\"#7201a8\"],[0.3333333333333333,\"#9c179e\"],[0.4444444444444444,\"#bd3786\"],[0.5555555555555556,\"#d8576b\"],[0.6666666666666666,\"#ed7953\"],[0.7777777777777778,\"#fb9f3a\"],[0.8888888888888888,\"#fdca26\"],[1.0,\"#f0f921\"]]}],\"contourcarpet\":[{\"type\":\"contourcarpet\",\"colorbar\":{\"outlinewidth\":0,\"ticks\":\"\"}}],\"contour\":[{\"type\":\"contour\",\"colorbar\":{\"outlinewidth\":0,\"ticks\":\"\"},\"colorscale\":[[0.0,\"#0d0887\"],[0.1111111111111111,\"#46039f\"],[0.2222222222222222,\"#7201a8\"],[0.3333333333333333,\"#9c179e\"],[0.4444444444444444,\"#bd3786\"],[0.5555555555555556,\"#d8576b\"],[0.6666666666666666,\"#ed7953\"],[0.7777777777777778,\"#fb9f3a\"],[0.8888888888888888,\"#fdca26\"],[1.0,\"#f0f921\"]]}],\"surface\":[{\"type\":\"surface\",\"colorbar\":{\"outlinewidth\":0,\"ticks\":\"\"},\"colorscale\":[[0.0,\"#0d0887\"],[0.1111111111111111,\"#46039f\"],[0.2222222222222222,\"#7201a8\"],[0.3333333333333333,\"#9c179e\"],[0.4444444444444444,\"#bd3786\"],[0.5555555555555556,\"#d8576b\"],[0.6666666666666666,\"#ed7953\"],[0.7777777777777778,\"#fb9f3a\"],[0.8888888888888888,\"#fdca26\"],[1.0,\"#f0f921\"]]}],\"mesh3d\":[{\"type\":\"mesh3d\",\"colorbar\":{\"outlinewidth\":0,\"ticks\":\"\"}}],\"scatter\":[{\"fillpattern\":{\"fillmode\":\"overlay\",\"size\":10,\"solidity\":0.2},\"type\":\"scatter\"}],\"parcoords\":[{\"type\":\"parcoords\",\"line\":{\"colorbar\":{\"outlinewidth\":0,\"ticks\":\"\"}}}],\"scatterpolargl\":[{\"type\":\"scatterpolargl\",\"marker\":{\"colorbar\":{\"outlinewidth\":0,\"ticks\":\"\"}}}],\"bar\":[{\"error_x\":{\"color\":\"#2a3f5f\"},\"error_y\":{\"color\":\"#2a3f5f\"},\"marker\":{\"line\":{\"color\":\"#E5ECF6\",\"width\":0.5},\"pattern\":{\"fillmode\":\"overlay\",\"size\":10,\"solidity\":0.2}},\"type\":\"bar\"}],\"scattergeo\":[{\"type\":\"scattergeo\",\"marker\":{\"colorbar\":{\"outlinewidth\":0,\"ticks\":\"\"}}}],\"scatterpolar\":[{\"type\":\"scatterpolar\",\"marker\":{\"colorbar\":{\"outlinewidth\":0,\"ticks\":\"\"}}}],\"histogram\":[{\"marker\":{\"pattern\":{\"fillmode\":\"overlay\",\"size\":10,\"solidity\":0.2}},\"type\":\"histogram\"}],\"scattergl\":[{\"type\":\"scattergl\",\"marker\":{\"colorbar\":{\"outlinewidth\":0,\"ticks\":\"\"}}}],\"scatter3d\":[{\"type\":\"scatter3d\",\"line\":{\"colorbar\":{\"outlinewidth\":0,\"ticks\":\"\"}},\"marker\":{\"colorbar\":{\"outlinewidth\":0,\"ticks\":\"\"}}}],\"scattermapbox\":[{\"type\":\"scattermapbox\",\"marker\":{\"colorbar\":{\"outlinewidth\":0,\"ticks\":\"\"}}}],\"scatterternary\":[{\"type\":\"scatterternary\",\"marker\":{\"colorbar\":{\"outlinewidth\":0,\"ticks\":\"\"}}}],\"scattercarpet\":[{\"type\":\"scattercarpet\",\"marker\":{\"colorbar\":{\"outlinewidth\":0,\"ticks\":\"\"}}}],\"carpet\":[{\"aaxis\":{\"endlinecolor\":\"#2a3f5f\",\"gridcolor\":\"white\",\"linecolor\":\"white\",\"minorgridcolor\":\"white\",\"startlinecolor\":\"#2a3f5f\"},\"baxis\":{\"endlinecolor\":\"#2a3f5f\",\"gridcolor\":\"white\",\"linecolor\":\"white\",\"minorgridcolor\":\"white\",\"startlinecolor\":\"#2a3f5f\"},\"type\":\"carpet\"}],\"table\":[{\"cells\":{\"fill\":{\"color\":\"#EBF0F8\"},\"line\":{\"color\":\"white\"}},\"header\":{\"fill\":{\"color\":\"#C8D4E3\"},\"line\":{\"color\":\"white\"}},\"type\":\"table\"}],\"barpolar\":[{\"marker\":{\"line\":{\"color\":\"#E5ECF6\",\"width\":0.5},\"pattern\":{\"fillmode\":\"overlay\",\"size\":10,\"solidity\":0.2}},\"type\":\"barpolar\"}],\"pie\":[{\"automargin\":true,\"type\":\"pie\"}]},\"layout\":{\"autotypenumbers\":\"strict\",\"colorway\":[\"#636efa\",\"#EF553B\",\"#00cc96\",\"#ab63fa\",\"#FFA15A\",\"#19d3f3\",\"#FF6692\",\"#B6E880\",\"#FF97FF\",\"#FECB52\"],\"font\":{\"color\":\"#2a3f5f\"},\"hovermode\":\"closest\",\"hoverlabel\":{\"align\":\"left\"},\"paper_bgcolor\":\"white\",\"plot_bgcolor\":\"#E5ECF6\",\"polar\":{\"bgcolor\":\"#E5ECF6\",\"angularaxis\":{\"gridcolor\":\"white\",\"linecolor\":\"white\",\"ticks\":\"\"},\"radialaxis\":{\"gridcolor\":\"white\",\"linecolor\":\"white\",\"ticks\":\"\"}},\"ternary\":{\"bgcolor\":\"#E5ECF6\",\"aaxis\":{\"gridcolor\":\"white\",\"linecolor\":\"white\",\"ticks\":\"\"},\"baxis\":{\"gridcolor\":\"white\",\"linecolor\":\"white\",\"ticks\":\"\"},\"caxis\":{\"gridcolor\":\"white\",\"linecolor\":\"white\",\"ticks\":\"\"}},\"coloraxis\":{\"colorbar\":{\"outlinewidth\":0,\"ticks\":\"\"}},\"colorscale\":{\"sequential\":[[0.0,\"#0d0887\"],[0.1111111111111111,\"#46039f\"],[0.2222222222222222,\"#7201a8\"],[0.3333333333333333,\"#9c179e\"],[0.4444444444444444,\"#bd3786\"],[0.5555555555555556,\"#d8576b\"],[0.6666666666666666,\"#ed7953\"],[0.7777777777777778,\"#fb9f3a\"],[0.8888888888888888,\"#fdca26\"],[1.0,\"#f0f921\"]],\"sequentialminus\":[[0.0,\"#0d0887\"],[0.1111111111111111,\"#46039f\"],[0.2222222222222222,\"#7201a8\"],[0.3333333333333333,\"#9c179e\"],[0.4444444444444444,\"#bd3786\"],[0.5555555555555556,\"#d8576b\"],[0.6666666666666666,\"#ed7953\"],[0.7777777777777778,\"#fb9f3a\"],[0.8888888888888888,\"#fdca26\"],[1.0,\"#f0f921\"]],\"diverging\":[[0,\"#8e0152\"],[0.1,\"#c51b7d\"],[0.2,\"#de77ae\"],[0.3,\"#f1b6da\"],[0.4,\"#fde0ef\"],[0.5,\"#f7f7f7\"],[0.6,\"#e6f5d0\"],[0.7,\"#b8e186\"],[0.8,\"#7fbc41\"],[0.9,\"#4d9221\"],[1,\"#276419\"]]},\"xaxis\":{\"gridcolor\":\"white\",\"linecolor\":\"white\",\"ticks\":\"\",\"title\":{\"standoff\":15},\"zerolinecolor\":\"white\",\"automargin\":true,\"zerolinewidth\":2},\"yaxis\":{\"gridcolor\":\"white\",\"linecolor\":\"white\",\"ticks\":\"\",\"title\":{\"standoff\":15},\"zerolinecolor\":\"white\",\"automargin\":true,\"zerolinewidth\":2},\"scene\":{\"xaxis\":{\"backgroundcolor\":\"#E5ECF6\",\"gridcolor\":\"white\",\"linecolor\":\"white\",\"showbackground\":true,\"ticks\":\"\",\"zerolinecolor\":\"white\",\"gridwidth\":2},\"yaxis\":{\"backgroundcolor\":\"#E5ECF6\",\"gridcolor\":\"white\",\"linecolor\":\"white\",\"showbackground\":true,\"ticks\":\"\",\"zerolinecolor\":\"white\",\"gridwidth\":2},\"zaxis\":{\"backgroundcolor\":\"#E5ECF6\",\"gridcolor\":\"white\",\"linecolor\":\"white\",\"showbackground\":true,\"ticks\":\"\",\"zerolinecolor\":\"white\",\"gridwidth\":2}},\"shapedefaults\":{\"line\":{\"color\":\"#2a3f5f\"}},\"annotationdefaults\":{\"arrowcolor\":\"#2a3f5f\",\"arrowhead\":0,\"arrowwidth\":1},\"geo\":{\"bgcolor\":\"white\",\"landcolor\":\"#E5ECF6\",\"subunitcolor\":\"white\",\"showland\":true,\"showlakes\":true,\"lakecolor\":\"white\"},\"title\":{\"x\":0.05},\"mapbox\":{\"style\":\"light\"}}},\"title\":{\"text\":\"Combined Outbreak and Risk Trends\",\"x\":0.5},\"geo\":{\"projection\":{\"type\":\"equirectangular\"},\"showframe\":true,\"showcoastlines\":false},\"width\":800,\"height\":600},                        {\"responsive\": true}                    ).then(function(){\n",
       "                            \n",
       "var gd = document.getElementById('b7af4160-18ee-4294-b875-2766a4e04785');\n",
       "var x = new MutationObserver(function (mutations, observer) {{\n",
       "        var display = window.getComputedStyle(gd).display;\n",
       "        if (!display || display === 'none') {{\n",
       "            console.log([gd, 'removed!']);\n",
       "            Plotly.purge(gd);\n",
       "            observer.disconnect();\n",
       "        }}\n",
       "}});\n",
       "\n",
       "// Listen for the removal of the full notebook cells\n",
       "var notebookContainer = gd.closest('#notebook-container');\n",
       "if (notebookContainer) {{\n",
       "    x.observe(notebookContainer, {childList: true});\n",
       "}}\n",
       "\n",
       "// Listen for the clearing of the current output cell\n",
       "var outputEl = gd.closest('.output');\n",
       "if (outputEl) {{\n",
       "    x.observe(outputEl, {childList: true});\n",
       "}}\n",
       "\n",
       "                        })                };                });            </script>        </div>"
      ]
     },
     "metadata": {},
     "output_type": "display_data"
    }
   ],
   "source": [
    "# Let's combine these into a single map\n",
    "combined_df = pd.merge(outbreak_trend_df, risk_trend_df, on='Country', suffixes=('_outbreak', '_risk'))\n",
    "\n",
    "def compare_trends(trend1, trend2):\n",
    "    return 1 if trend1 * trend2 > 0 else 0\n",
    "\n",
    "# Creating a new column for the combined trend\n",
    "combined_df['Combined Trend'] = combined_df.apply(lambda row: compare_trends(row['Trend_outbreak'], row['Trend_risk']), axis=1)\n",
    "\n",
    "# Discrete colorscale\n",
    "discrete_colorscale = [(0, 'yellow'), (0.5, 'yellow'), (0.5, 'blue'), (1, 'blue')]\n",
    "\n",
    "fig = go.Figure(go.Choropleth(\n",
    "    locations=combined_df['Country'],\n",
    "    z=combined_df['Combined Trend'],\n",
    "    text=combined_df['Country'],\n",
    "    colorscale=discrete_colorscale,\n",
    "    colorbar_title=\"Combined Trend\",\n",
    "    locationmode='ISO-3',\n",
    "    colorbar=dict(\n",
    "        tickvals=[0, 1],\n",
    "        ticktext=['Different Trends', 'Same Trends']\n",
    "    )\n",
    "))\n",
    "\n",
    "fig.update_layout(\n",
    "    title_text='Combined Outbreak and Risk Trends',\n",
    "    title_x=0.5,\n",
    "    geo=dict(\n",
    "        showframe=True,\n",
    "        showcoastlines=False,\n",
    "        projection_type='equirectangular'\n",
    "    ),\n",
    "    width=800,\n",
    "    height=600\n",
    ")\n",
    "\n",
    "fig.show()"
   ]
  },
  {
   "cell_type": "markdown",
   "id": "ed7a3341-f0b1-43cf-84e4-aa4f647710d3",
   "metadata": {},
   "source": [
    "So it is clear that there is some substantial disagreement between the two models. For the sake of informing the public health community, let's go back to our random forest classifier to see if we can better understand what is informing our model. We choose this model because it had comparable results to Knn and has defined feature importances (unlike knn)."
   ]
  },
  {
   "cell_type": "code",
   "execution_count": 61,
   "id": "5e26f1d4-4a6e-4844-a1e6-cd2725236a9f",
   "metadata": {},
   "outputs": [
    {
     "name": "stdout",
     "output_type": "stream",
     "text": [
      "Feature: Recent Outbreak, Importance: 0.09709965966205478\n",
      "Feature: People practicing open defecation (% of population), Importance: 0.08686711314241623\n",
      "Feature: Prevalence of undernourishment (% of population), Importance: 0.08641988077317447\n",
      "Feature: People using safely managed sanitation services (% of population), Importance: 0.07894544475791444\n"
     ]
    }
   ],
   "source": [
    "feature_importances = best_rf_classifier.feature_importances_\n",
    "feature_names = pivot_df.columns[:-1]  # Assuming the last column is the target column\n",
    "\n",
    "feature_importance_tuples = [(feature_name, importance) for feature_name, importance in zip(feature_names, feature_importances)]\n",
    "\n",
    "feature_importance_tuples.sort(key=lambda x: x[1], reverse=True)\n",
    "\n",
    "top_4_features = feature_importance_tuples[:4]\n",
    "\n",
    "for feature, importance in top_4_features:\n",
    "    print(f\"Feature: {feature}, Importance: {importance}\")"
   ]
  },
  {
   "cell_type": "markdown",
   "id": "fed2ee0a-1f3d-40d6-971f-37dc768cbff8",
   "metadata": {},
   "source": [
    "# Conclusions\n",
    "We found that our best model which fits well with the data also defies the forecast offered by simply looking at the number of outbreaks over time. This supports our hypothesis that the number of outbreaks is dependent on wider factors such as population changes health infrastructure, and the prevalence of agriculture. I believe that our map can be used to better investigate countries where the next big zoonotic outbreak will come from."
   ]
  },
  {
   "cell_type": "markdown",
   "id": "7540796c-feac-4bb4-b285-e9a818cdab9a",
   "metadata": {},
   "source": [
    "# Test Your Browser\n",
    "If the following plot is not rendering for you then it is most likely an issue with your browser. We tested this on Firefox and Edge and Chrome and noticed that Chrome tended to have the most issues."
   ]
  },
  {
   "cell_type": "markdown",
   "id": "b30fbd1f-eea0-49f0-99e4-e684b099026e",
   "metadata": {},
   "source": [
    "## Test Rendering"
   ]
  },
  {
   "cell_type": "code",
   "execution_count": 62,
   "id": "05c906d3-0a4f-4dd5-912e-afdebfe06965",
   "metadata": {},
   "outputs": [
    {
     "data": {
      "text/html": [
       "        <script type=\"text/javascript\">\n",
       "        window.PlotlyConfig = {MathJaxConfig: 'local'};\n",
       "        if (window.MathJax && window.MathJax.Hub && window.MathJax.Hub.Config) {window.MathJax.Hub.Config({SVG: {font: \"STIX-Web\"}});}\n",
       "        if (typeof require !== 'undefined') {\n",
       "        require.undef(\"plotly\");\n",
       "        requirejs.config({\n",
       "            paths: {\n",
       "                'plotly': ['https://cdn.plot.ly/plotly-2.24.1.min']\n",
       "            }\n",
       "        });\n",
       "        require(['plotly'], function(Plotly) {\n",
       "            window._Plotly = Plotly;\n",
       "        });\n",
       "        }\n",
       "        </script>\n",
       "        "
      ]
     },
     "metadata": {},
     "output_type": "display_data"
    },
    {
     "data": {
      "application/vnd.plotly.v1+json": {
       "config": {
        "plotlyServerURL": "https://plot.ly"
       },
       "data": [
        {
         "mode": "lines",
         "type": "scatter",
         "x": [
          1,
          2,
          3,
          4,
          5
         ],
         "y": [
          10,
          11,
          12,
          13,
          14
         ]
        }
       ],
       "layout": {
        "autosize": true,
        "template": {
         "data": {
          "bar": [
           {
            "error_x": {
             "color": "#2a3f5f"
            },
            "error_y": {
             "color": "#2a3f5f"
            },
            "marker": {
             "line": {
              "color": "#E5ECF6",
              "width": 0.5
             },
             "pattern": {
              "fillmode": "overlay",
              "size": 10,
              "solidity": 0.2
             }
            },
            "type": "bar"
           }
          ],
          "barpolar": [
           {
            "marker": {
             "line": {
              "color": "#E5ECF6",
              "width": 0.5
             },
             "pattern": {
              "fillmode": "overlay",
              "size": 10,
              "solidity": 0.2
             }
            },
            "type": "barpolar"
           }
          ],
          "carpet": [
           {
            "aaxis": {
             "endlinecolor": "#2a3f5f",
             "gridcolor": "white",
             "linecolor": "white",
             "minorgridcolor": "white",
             "startlinecolor": "#2a3f5f"
            },
            "baxis": {
             "endlinecolor": "#2a3f5f",
             "gridcolor": "white",
             "linecolor": "white",
             "minorgridcolor": "white",
             "startlinecolor": "#2a3f5f"
            },
            "type": "carpet"
           }
          ],
          "choropleth": [
           {
            "colorbar": {
             "outlinewidth": 0,
             "ticks": ""
            },
            "type": "choropleth"
           }
          ],
          "contour": [
           {
            "colorbar": {
             "outlinewidth": 0,
             "ticks": ""
            },
            "colorscale": [
             [
              0,
              "#0d0887"
             ],
             [
              0.1111111111111111,
              "#46039f"
             ],
             [
              0.2222222222222222,
              "#7201a8"
             ],
             [
              0.3333333333333333,
              "#9c179e"
             ],
             [
              0.4444444444444444,
              "#bd3786"
             ],
             [
              0.5555555555555556,
              "#d8576b"
             ],
             [
              0.6666666666666666,
              "#ed7953"
             ],
             [
              0.7777777777777778,
              "#fb9f3a"
             ],
             [
              0.8888888888888888,
              "#fdca26"
             ],
             [
              1,
              "#f0f921"
             ]
            ],
            "type": "contour"
           }
          ],
          "contourcarpet": [
           {
            "colorbar": {
             "outlinewidth": 0,
             "ticks": ""
            },
            "type": "contourcarpet"
           }
          ],
          "heatmap": [
           {
            "colorbar": {
             "outlinewidth": 0,
             "ticks": ""
            },
            "colorscale": [
             [
              0,
              "#0d0887"
             ],
             [
              0.1111111111111111,
              "#46039f"
             ],
             [
              0.2222222222222222,
              "#7201a8"
             ],
             [
              0.3333333333333333,
              "#9c179e"
             ],
             [
              0.4444444444444444,
              "#bd3786"
             ],
             [
              0.5555555555555556,
              "#d8576b"
             ],
             [
              0.6666666666666666,
              "#ed7953"
             ],
             [
              0.7777777777777778,
              "#fb9f3a"
             ],
             [
              0.8888888888888888,
              "#fdca26"
             ],
             [
              1,
              "#f0f921"
             ]
            ],
            "type": "heatmap"
           }
          ],
          "heatmapgl": [
           {
            "colorbar": {
             "outlinewidth": 0,
             "ticks": ""
            },
            "colorscale": [
             [
              0,
              "#0d0887"
             ],
             [
              0.1111111111111111,
              "#46039f"
             ],
             [
              0.2222222222222222,
              "#7201a8"
             ],
             [
              0.3333333333333333,
              "#9c179e"
             ],
             [
              0.4444444444444444,
              "#bd3786"
             ],
             [
              0.5555555555555556,
              "#d8576b"
             ],
             [
              0.6666666666666666,
              "#ed7953"
             ],
             [
              0.7777777777777778,
              "#fb9f3a"
             ],
             [
              0.8888888888888888,
              "#fdca26"
             ],
             [
              1,
              "#f0f921"
             ]
            ],
            "type": "heatmapgl"
           }
          ],
          "histogram": [
           {
            "marker": {
             "pattern": {
              "fillmode": "overlay",
              "size": 10,
              "solidity": 0.2
             }
            },
            "type": "histogram"
           }
          ],
          "histogram2d": [
           {
            "colorbar": {
             "outlinewidth": 0,
             "ticks": ""
            },
            "colorscale": [
             [
              0,
              "#0d0887"
             ],
             [
              0.1111111111111111,
              "#46039f"
             ],
             [
              0.2222222222222222,
              "#7201a8"
             ],
             [
              0.3333333333333333,
              "#9c179e"
             ],
             [
              0.4444444444444444,
              "#bd3786"
             ],
             [
              0.5555555555555556,
              "#d8576b"
             ],
             [
              0.6666666666666666,
              "#ed7953"
             ],
             [
              0.7777777777777778,
              "#fb9f3a"
             ],
             [
              0.8888888888888888,
              "#fdca26"
             ],
             [
              1,
              "#f0f921"
             ]
            ],
            "type": "histogram2d"
           }
          ],
          "histogram2dcontour": [
           {
            "colorbar": {
             "outlinewidth": 0,
             "ticks": ""
            },
            "colorscale": [
             [
              0,
              "#0d0887"
             ],
             [
              0.1111111111111111,
              "#46039f"
             ],
             [
              0.2222222222222222,
              "#7201a8"
             ],
             [
              0.3333333333333333,
              "#9c179e"
             ],
             [
              0.4444444444444444,
              "#bd3786"
             ],
             [
              0.5555555555555556,
              "#d8576b"
             ],
             [
              0.6666666666666666,
              "#ed7953"
             ],
             [
              0.7777777777777778,
              "#fb9f3a"
             ],
             [
              0.8888888888888888,
              "#fdca26"
             ],
             [
              1,
              "#f0f921"
             ]
            ],
            "type": "histogram2dcontour"
           }
          ],
          "mesh3d": [
           {
            "colorbar": {
             "outlinewidth": 0,
             "ticks": ""
            },
            "type": "mesh3d"
           }
          ],
          "parcoords": [
           {
            "line": {
             "colorbar": {
              "outlinewidth": 0,
              "ticks": ""
             }
            },
            "type": "parcoords"
           }
          ],
          "pie": [
           {
            "automargin": true,
            "type": "pie"
           }
          ],
          "scatter": [
           {
            "fillpattern": {
             "fillmode": "overlay",
             "size": 10,
             "solidity": 0.2
            },
            "type": "scatter"
           }
          ],
          "scatter3d": [
           {
            "line": {
             "colorbar": {
              "outlinewidth": 0,
              "ticks": ""
             }
            },
            "marker": {
             "colorbar": {
              "outlinewidth": 0,
              "ticks": ""
             }
            },
            "type": "scatter3d"
           }
          ],
          "scattercarpet": [
           {
            "marker": {
             "colorbar": {
              "outlinewidth": 0,
              "ticks": ""
             }
            },
            "type": "scattercarpet"
           }
          ],
          "scattergeo": [
           {
            "marker": {
             "colorbar": {
              "outlinewidth": 0,
              "ticks": ""
             }
            },
            "type": "scattergeo"
           }
          ],
          "scattergl": [
           {
            "marker": {
             "colorbar": {
              "outlinewidth": 0,
              "ticks": ""
             }
            },
            "type": "scattergl"
           }
          ],
          "scattermapbox": [
           {
            "marker": {
             "colorbar": {
              "outlinewidth": 0,
              "ticks": ""
             }
            },
            "type": "scattermapbox"
           }
          ],
          "scatterpolar": [
           {
            "marker": {
             "colorbar": {
              "outlinewidth": 0,
              "ticks": ""
             }
            },
            "type": "scatterpolar"
           }
          ],
          "scatterpolargl": [
           {
            "marker": {
             "colorbar": {
              "outlinewidth": 0,
              "ticks": ""
             }
            },
            "type": "scatterpolargl"
           }
          ],
          "scatterternary": [
           {
            "marker": {
             "colorbar": {
              "outlinewidth": 0,
              "ticks": ""
             }
            },
            "type": "scatterternary"
           }
          ],
          "surface": [
           {
            "colorbar": {
             "outlinewidth": 0,
             "ticks": ""
            },
            "colorscale": [
             [
              0,
              "#0d0887"
             ],
             [
              0.1111111111111111,
              "#46039f"
             ],
             [
              0.2222222222222222,
              "#7201a8"
             ],
             [
              0.3333333333333333,
              "#9c179e"
             ],
             [
              0.4444444444444444,
              "#bd3786"
             ],
             [
              0.5555555555555556,
              "#d8576b"
             ],
             [
              0.6666666666666666,
              "#ed7953"
             ],
             [
              0.7777777777777778,
              "#fb9f3a"
             ],
             [
              0.8888888888888888,
              "#fdca26"
             ],
             [
              1,
              "#f0f921"
             ]
            ],
            "type": "surface"
           }
          ],
          "table": [
           {
            "cells": {
             "fill": {
              "color": "#EBF0F8"
             },
             "line": {
              "color": "white"
             }
            },
            "header": {
             "fill": {
              "color": "#C8D4E3"
             },
             "line": {
              "color": "white"
             }
            },
            "type": "table"
           }
          ]
         },
         "layout": {
          "annotationdefaults": {
           "arrowcolor": "#2a3f5f",
           "arrowhead": 0,
           "arrowwidth": 1
          },
          "autotypenumbers": "strict",
          "coloraxis": {
           "colorbar": {
            "outlinewidth": 0,
            "ticks": ""
           }
          },
          "colorscale": {
           "diverging": [
            [
             0,
             "#8e0152"
            ],
            [
             0.1,
             "#c51b7d"
            ],
            [
             0.2,
             "#de77ae"
            ],
            [
             0.3,
             "#f1b6da"
            ],
            [
             0.4,
             "#fde0ef"
            ],
            [
             0.5,
             "#f7f7f7"
            ],
            [
             0.6,
             "#e6f5d0"
            ],
            [
             0.7,
             "#b8e186"
            ],
            [
             0.8,
             "#7fbc41"
            ],
            [
             0.9,
             "#4d9221"
            ],
            [
             1,
             "#276419"
            ]
           ],
           "sequential": [
            [
             0,
             "#0d0887"
            ],
            [
             0.1111111111111111,
             "#46039f"
            ],
            [
             0.2222222222222222,
             "#7201a8"
            ],
            [
             0.3333333333333333,
             "#9c179e"
            ],
            [
             0.4444444444444444,
             "#bd3786"
            ],
            [
             0.5555555555555556,
             "#d8576b"
            ],
            [
             0.6666666666666666,
             "#ed7953"
            ],
            [
             0.7777777777777778,
             "#fb9f3a"
            ],
            [
             0.8888888888888888,
             "#fdca26"
            ],
            [
             1,
             "#f0f921"
            ]
           ],
           "sequentialminus": [
            [
             0,
             "#0d0887"
            ],
            [
             0.1111111111111111,
             "#46039f"
            ],
            [
             0.2222222222222222,
             "#7201a8"
            ],
            [
             0.3333333333333333,
             "#9c179e"
            ],
            [
             0.4444444444444444,
             "#bd3786"
            ],
            [
             0.5555555555555556,
             "#d8576b"
            ],
            [
             0.6666666666666666,
             "#ed7953"
            ],
            [
             0.7777777777777778,
             "#fb9f3a"
            ],
            [
             0.8888888888888888,
             "#fdca26"
            ],
            [
             1,
             "#f0f921"
            ]
           ]
          },
          "colorway": [
           "#636efa",
           "#EF553B",
           "#00cc96",
           "#ab63fa",
           "#FFA15A",
           "#19d3f3",
           "#FF6692",
           "#B6E880",
           "#FF97FF",
           "#FECB52"
          ],
          "font": {
           "color": "#2a3f5f"
          },
          "geo": {
           "bgcolor": "white",
           "lakecolor": "white",
           "landcolor": "#E5ECF6",
           "showlakes": true,
           "showland": true,
           "subunitcolor": "white"
          },
          "hoverlabel": {
           "align": "left"
          },
          "hovermode": "closest",
          "mapbox": {
           "style": "light"
          },
          "paper_bgcolor": "white",
          "plot_bgcolor": "#E5ECF6",
          "polar": {
           "angularaxis": {
            "gridcolor": "white",
            "linecolor": "white",
            "ticks": ""
           },
           "bgcolor": "#E5ECF6",
           "radialaxis": {
            "gridcolor": "white",
            "linecolor": "white",
            "ticks": ""
           }
          },
          "scene": {
           "xaxis": {
            "backgroundcolor": "#E5ECF6",
            "gridcolor": "white",
            "gridwidth": 2,
            "linecolor": "white",
            "showbackground": true,
            "ticks": "",
            "zerolinecolor": "white"
           },
           "yaxis": {
            "backgroundcolor": "#E5ECF6",
            "gridcolor": "white",
            "gridwidth": 2,
            "linecolor": "white",
            "showbackground": true,
            "ticks": "",
            "zerolinecolor": "white"
           },
           "zaxis": {
            "backgroundcolor": "#E5ECF6",
            "gridcolor": "white",
            "gridwidth": 2,
            "linecolor": "white",
            "showbackground": true,
            "ticks": "",
            "zerolinecolor": "white"
           }
          },
          "shapedefaults": {
           "line": {
            "color": "#2a3f5f"
           }
          },
          "ternary": {
           "aaxis": {
            "gridcolor": "white",
            "linecolor": "white",
            "ticks": ""
           },
           "baxis": {
            "gridcolor": "white",
            "linecolor": "white",
            "ticks": ""
           },
           "bgcolor": "#E5ECF6",
           "caxis": {
            "gridcolor": "white",
            "linecolor": "white",
            "ticks": ""
           }
          },
          "title": {
           "x": 0.05
          },
          "xaxis": {
           "automargin": true,
           "gridcolor": "white",
           "linecolor": "white",
           "ticks": "",
           "title": {
            "standoff": 15
           },
           "zerolinecolor": "white",
           "zerolinewidth": 2
          },
          "yaxis": {
           "automargin": true,
           "gridcolor": "white",
           "linecolor": "white",
           "ticks": "",
           "title": {
            "standoff": 15
           },
           "zerolinecolor": "white",
           "zerolinewidth": 2
          }
         }
        },
        "xaxis": {
         "autorange": true,
         "range": [
          1,
          5
         ],
         "type": "linear"
        },
        "yaxis": {
         "autorange": true,
         "range": [
          9.777777777777779,
          14.222222222222221
         ],
         "type": "linear"
        }
       }
      },
      "image/png": "[encoded data removed]",
      "text/html": [
       "<div>                            <div id=\"362527e8-6ac3-46e5-8696-058b1c866c2e\" class=\"plotly-graph-div\" style=\"height:525px; width:100%;\"></div>            <script type=\"text/javascript\">                require([\"plotly\"], function(Plotly) {                    window.PLOTLYENV=window.PLOTLYENV || {};                                    if (document.getElementById(\"362527e8-6ac3-46e5-8696-058b1c866c2e\")) {                    Plotly.newPlot(                        \"362527e8-6ac3-46e5-8696-058b1c866c2e\",                        [{\"mode\":\"lines\",\"x\":[1,2,3,4,5],\"y\":[10,11,12,13,14],\"type\":\"scatter\"}],                        {\"template\":{\"data\":{\"histogram2dcontour\":[{\"type\":\"histogram2dcontour\",\"colorbar\":{\"outlinewidth\":0,\"ticks\":\"\"},\"colorscale\":[[0.0,\"#0d0887\"],[0.1111111111111111,\"#46039f\"],[0.2222222222222222,\"#7201a8\"],[0.3333333333333333,\"#9c179e\"],[0.4444444444444444,\"#bd3786\"],[0.5555555555555556,\"#d8576b\"],[0.6666666666666666,\"#ed7953\"],[0.7777777777777778,\"#fb9f3a\"],[0.8888888888888888,\"#fdca26\"],[1.0,\"#f0f921\"]]}],\"choropleth\":[{\"type\":\"choropleth\",\"colorbar\":{\"outlinewidth\":0,\"ticks\":\"\"}}],\"histogram2d\":[{\"type\":\"histogram2d\",\"colorbar\":{\"outlinewidth\":0,\"ticks\":\"\"},\"colorscale\":[[0.0,\"#0d0887\"],[0.1111111111111111,\"#46039f\"],[0.2222222222222222,\"#7201a8\"],[0.3333333333333333,\"#9c179e\"],[0.4444444444444444,\"#bd3786\"],[0.5555555555555556,\"#d8576b\"],[0.6666666666666666,\"#ed7953\"],[0.7777777777777778,\"#fb9f3a\"],[0.8888888888888888,\"#fdca26\"],[1.0,\"#f0f921\"]]}],\"heatmap\":[{\"type\":\"heatmap\",\"colorbar\":{\"outlinewidth\":0,\"ticks\":\"\"},\"colorscale\":[[0.0,\"#0d0887\"],[0.1111111111111111,\"#46039f\"],[0.2222222222222222,\"#7201a8\"],[0.3333333333333333,\"#9c179e\"],[0.4444444444444444,\"#bd3786\"],[0.5555555555555556,\"#d8576b\"],[0.6666666666666666,\"#ed7953\"],[0.7777777777777778,\"#fb9f3a\"],[0.8888888888888888,\"#fdca26\"],[1.0,\"#f0f921\"]]}],\"heatmapgl\":[{\"type\":\"heatmapgl\",\"colorbar\":{\"outlinewidth\":0,\"ticks\":\"\"},\"colorscale\":[[0.0,\"#0d0887\"],[0.1111111111111111,\"#46039f\"],[0.2222222222222222,\"#7201a8\"],[0.3333333333333333,\"#9c179e\"],[0.4444444444444444,\"#bd3786\"],[0.5555555555555556,\"#d8576b\"],[0.6666666666666666,\"#ed7953\"],[0.7777777777777778,\"#fb9f3a\"],[0.8888888888888888,\"#fdca26\"],[1.0,\"#f0f921\"]]}],\"contourcarpet\":[{\"type\":\"contourcarpet\",\"colorbar\":{\"outlinewidth\":0,\"ticks\":\"\"}}],\"contour\":[{\"type\":\"contour\",\"colorbar\":{\"outlinewidth\":0,\"ticks\":\"\"},\"colorscale\":[[0.0,\"#0d0887\"],[0.1111111111111111,\"#46039f\"],[0.2222222222222222,\"#7201a8\"],[0.3333333333333333,\"#9c179e\"],[0.4444444444444444,\"#bd3786\"],[0.5555555555555556,\"#d8576b\"],[0.6666666666666666,\"#ed7953\"],[0.7777777777777778,\"#fb9f3a\"],[0.8888888888888888,\"#fdca26\"],[1.0,\"#f0f921\"]]}],\"surface\":[{\"type\":\"surface\",\"colorbar\":{\"outlinewidth\":0,\"ticks\":\"\"},\"colorscale\":[[0.0,\"#0d0887\"],[0.1111111111111111,\"#46039f\"],[0.2222222222222222,\"#7201a8\"],[0.3333333333333333,\"#9c179e\"],[0.4444444444444444,\"#bd3786\"],[0.5555555555555556,\"#d8576b\"],[0.6666666666666666,\"#ed7953\"],[0.7777777777777778,\"#fb9f3a\"],[0.8888888888888888,\"#fdca26\"],[1.0,\"#f0f921\"]]}],\"mesh3d\":[{\"type\":\"mesh3d\",\"colorbar\":{\"outlinewidth\":0,\"ticks\":\"\"}}],\"scatter\":[{\"fillpattern\":{\"fillmode\":\"overlay\",\"size\":10,\"solidity\":0.2},\"type\":\"scatter\"}],\"parcoords\":[{\"type\":\"parcoords\",\"line\":{\"colorbar\":{\"outlinewidth\":0,\"ticks\":\"\"}}}],\"scatterpolargl\":[{\"type\":\"scatterpolargl\",\"marker\":{\"colorbar\":{\"outlinewidth\":0,\"ticks\":\"\"}}}],\"bar\":[{\"error_x\":{\"color\":\"#2a3f5f\"},\"error_y\":{\"color\":\"#2a3f5f\"},\"marker\":{\"line\":{\"color\":\"#E5ECF6\",\"width\":0.5},\"pattern\":{\"fillmode\":\"overlay\",\"size\":10,\"solidity\":0.2}},\"type\":\"bar\"}],\"scattergeo\":[{\"type\":\"scattergeo\",\"marker\":{\"colorbar\":{\"outlinewidth\":0,\"ticks\":\"\"}}}],\"scatterpolar\":[{\"type\":\"scatterpolar\",\"marker\":{\"colorbar\":{\"outlinewidth\":0,\"ticks\":\"\"}}}],\"histogram\":[{\"marker\":{\"pattern\":{\"fillmode\":\"overlay\",\"size\":10,\"solidity\":0.2}},\"type\":\"histogram\"}],\"scattergl\":[{\"type\":\"scattergl\",\"marker\":{\"colorbar\":{\"outlinewidth\":0,\"ticks\":\"\"}}}],\"scatter3d\":[{\"type\":\"scatter3d\",\"line\":{\"colorbar\":{\"outlinewidth\":0,\"ticks\":\"\"}},\"marker\":{\"colorbar\":{\"outlinewidth\":0,\"ticks\":\"\"}}}],\"scattermapbox\":[{\"type\":\"scattermapbox\",\"marker\":{\"colorbar\":{\"outlinewidth\":0,\"ticks\":\"\"}}}],\"scatterternary\":[{\"type\":\"scatterternary\",\"marker\":{\"colorbar\":{\"outlinewidth\":0,\"ticks\":\"\"}}}],\"scattercarpet\":[{\"type\":\"scattercarpet\",\"marker\":{\"colorbar\":{\"outlinewidth\":0,\"ticks\":\"\"}}}],\"carpet\":[{\"aaxis\":{\"endlinecolor\":\"#2a3f5f\",\"gridcolor\":\"white\",\"linecolor\":\"white\",\"minorgridcolor\":\"white\",\"startlinecolor\":\"#2a3f5f\"},\"baxis\":{\"endlinecolor\":\"#2a3f5f\",\"gridcolor\":\"white\",\"linecolor\":\"white\",\"minorgridcolor\":\"white\",\"startlinecolor\":\"#2a3f5f\"},\"type\":\"carpet\"}],\"table\":[{\"cells\":{\"fill\":{\"color\":\"#EBF0F8\"},\"line\":{\"color\":\"white\"}},\"header\":{\"fill\":{\"color\":\"#C8D4E3\"},\"line\":{\"color\":\"white\"}},\"type\":\"table\"}],\"barpolar\":[{\"marker\":{\"line\":{\"color\":\"#E5ECF6\",\"width\":0.5},\"pattern\":{\"fillmode\":\"overlay\",\"size\":10,\"solidity\":0.2}},\"type\":\"barpolar\"}],\"pie\":[{\"automargin\":true,\"type\":\"pie\"}]},\"layout\":{\"autotypenumbers\":\"strict\",\"colorway\":[\"#636efa\",\"#EF553B\",\"#00cc96\",\"#ab63fa\",\"#FFA15A\",\"#19d3f3\",\"#FF6692\",\"#B6E880\",\"#FF97FF\",\"#FECB52\"],\"font\":{\"color\":\"#2a3f5f\"},\"hovermode\":\"closest\",\"hoverlabel\":{\"align\":\"left\"},\"paper_bgcolor\":\"white\",\"plot_bgcolor\":\"#E5ECF6\",\"polar\":{\"bgcolor\":\"#E5ECF6\",\"angularaxis\":{\"gridcolor\":\"white\",\"linecolor\":\"white\",\"ticks\":\"\"},\"radialaxis\":{\"gridcolor\":\"white\",\"linecolor\":\"white\",\"ticks\":\"\"}},\"ternary\":{\"bgcolor\":\"#E5ECF6\",\"aaxis\":{\"gridcolor\":\"white\",\"linecolor\":\"white\",\"ticks\":\"\"},\"baxis\":{\"gridcolor\":\"white\",\"linecolor\":\"white\",\"ticks\":\"\"},\"caxis\":{\"gridcolor\":\"white\",\"linecolor\":\"white\",\"ticks\":\"\"}},\"coloraxis\":{\"colorbar\":{\"outlinewidth\":0,\"ticks\":\"\"}},\"colorscale\":{\"sequential\":[[0.0,\"#0d0887\"],[0.1111111111111111,\"#46039f\"],[0.2222222222222222,\"#7201a8\"],[0.3333333333333333,\"#9c179e\"],[0.4444444444444444,\"#bd3786\"],[0.5555555555555556,\"#d8576b\"],[0.6666666666666666,\"#ed7953\"],[0.7777777777777778,\"#fb9f3a\"],[0.8888888888888888,\"#fdca26\"],[1.0,\"#f0f921\"]],\"sequentialminus\":[[0.0,\"#0d0887\"],[0.1111111111111111,\"#46039f\"],[0.2222222222222222,\"#7201a8\"],[0.3333333333333333,\"#9c179e\"],[0.4444444444444444,\"#bd3786\"],[0.5555555555555556,\"#d8576b\"],[0.6666666666666666,\"#ed7953\"],[0.7777777777777778,\"#fb9f3a\"],[0.8888888888888888,\"#fdca26\"],[1.0,\"#f0f921\"]],\"diverging\":[[0,\"#8e0152\"],[0.1,\"#c51b7d\"],[0.2,\"#de77ae\"],[0.3,\"#f1b6da\"],[0.4,\"#fde0ef\"],[0.5,\"#f7f7f7\"],[0.6,\"#e6f5d0\"],[0.7,\"#b8e186\"],[0.8,\"#7fbc41\"],[0.9,\"#4d9221\"],[1,\"#276419\"]]},\"xaxis\":{\"gridcolor\":\"white\",\"linecolor\":\"white\",\"ticks\":\"\",\"title\":{\"standoff\":15},\"zerolinecolor\":\"white\",\"automargin\":true,\"zerolinewidth\":2},\"yaxis\":{\"gridcolor\":\"white\",\"linecolor\":\"white\",\"ticks\":\"\",\"title\":{\"standoff\":15},\"zerolinecolor\":\"white\",\"automargin\":true,\"zerolinewidth\":2},\"scene\":{\"xaxis\":{\"backgroundcolor\":\"#E5ECF6\",\"gridcolor\":\"white\",\"linecolor\":\"white\",\"showbackground\":true,\"ticks\":\"\",\"zerolinecolor\":\"white\",\"gridwidth\":2},\"yaxis\":{\"backgroundcolor\":\"#E5ECF6\",\"gridcolor\":\"white\",\"linecolor\":\"white\",\"showbackground\":true,\"ticks\":\"\",\"zerolinecolor\":\"white\",\"gridwidth\":2},\"zaxis\":{\"backgroundcolor\":\"#E5ECF6\",\"gridcolor\":\"white\",\"linecolor\":\"white\",\"showbackground\":true,\"ticks\":\"\",\"zerolinecolor\":\"white\",\"gridwidth\":2}},\"shapedefaults\":{\"line\":{\"color\":\"#2a3f5f\"}},\"annotationdefaults\":{\"arrowcolor\":\"#2a3f5f\",\"arrowhead\":0,\"arrowwidth\":1},\"geo\":{\"bgcolor\":\"white\",\"landcolor\":\"#E5ECF6\",\"subunitcolor\":\"white\",\"showland\":true,\"showlakes\":true,\"lakecolor\":\"white\"},\"title\":{\"x\":0.05},\"mapbox\":{\"style\":\"light\"}}}},                        {\"responsive\": true}                    ).then(function(){\n",
       "                            \n",
       "var gd = document.getElementById('362527e8-6ac3-46e5-8696-058b1c866c2e');\n",
       "var x = new MutationObserver(function (mutations, observer) {{\n",
       "        var display = window.getComputedStyle(gd).display;\n",
       "        if (!display || display === 'none') {{\n",
       "            console.log([gd, 'removed!']);\n",
       "            Plotly.purge(gd);\n",
       "            observer.disconnect();\n",
       "        }}\n",
       "}});\n",
       "\n",
       "// Listen for the removal of the full notebook cells\n",
       "var notebookContainer = gd.closest('#notebook-container');\n",
       "if (notebookContainer) {{\n",
       "    x.observe(notebookContainer, {childList: true});\n",
       "}}\n",
       "\n",
       "// Listen for the clearing of the current output cell\n",
       "var outputEl = gd.closest('.output');\n",
       "if (outputEl) {{\n",
       "    x.observe(outputEl, {childList: true});\n",
       "}}\n",
       "\n",
       "                        })                };                });            </script>        </div>"
      ]
     },
     "metadata": {},
     "output_type": "display_data"
    }
   ],
   "source": [
    "import plotly.graph_objects as go\n",
    "import plotly.offline as pyo\n",
    "pyo.init_notebook_mode(connected=True)\n",
    "\n",
    "# Sample data\n",
    "x = [1, 2, 3, 4, 5]\n",
    "y = [10, 11, 12, 13, 14]\n",
    "\n",
    "# Create a basic line chart\n",
    "fig = go.Figure(data=go.Scatter(x=x, y=y, mode='lines'))\n",
    "\n",
    "# Display the figure\n",
    "fig.show()\n"
   ]
  },
  {
   "cell_type": "markdown",
   "id": "d64393a8-f405-489d-8670-105a2e1de4a0",
   "metadata": {},
   "source": [
    "## Test Widgets\n",
    "The widgets are also interfered with by the browser so run the below cell to see if your browser renders the widgets properly"
   ]
  },
  {
   "cell_type": "code",
   "execution_count": 63,
   "id": "1e7603ed-3dd8-470d-a5d8-97ddc3bf9f4a",
   "metadata": {},
   "outputs": [
    {
     "data": {
      "application/vnd.jupyter.widget-view+json": {
       "model_id": "98afb4f6cf8f4d89b1e1639aa7f057ce",
       "version_major": 2,
       "version_minor": 0
      },
      "text/plain": [
       "Dropdown(description='Country:', options=('Afghanistan', 'Mali', 'United Kingdom', 'Australia', 'Chile', 'Slov…"
      ]
     },
     "metadata": {},
     "output_type": "display_data"
    },
    {
     "data": {
      "application/vnd.jupyter.widget-view+json": {
       "model_id": "365df051c8a946c7bb46fdc6c6363648",
       "version_major": 2,
       "version_minor": 0
      },
      "text/plain": [
       "Output()"
      ]
     },
     "metadata": {},
     "output_type": "display_data"
    }
   ],
   "source": [
    "dropdown = widgets.Dropdown(options=countries, description='Country:')\n",
    "output = widgets.interactive_output(plot_data, {'country': dropdown})\n",
    "display(dropdown, output)\n"
   ]
  },
  {
   "cell_type": "markdown",
   "id": "054f9442-87c8-48a8-96ad-77821664c312",
   "metadata": {},
   "source": [
    "![University of Michigan Logo](https://brand.umich.edu/assets/brand/style-guide/logo-guidelines/U-M_Logo-Horizontal-Hex.png)"
   ]
  }
 ],
 "metadata": {
  "kernelspec": {
   "display_name": "Python 3 (ipykernel)",
   "language": "python",
   "name": "python3"
  },
  "language_info": {
   "codemirror_mode": {
    "name": "ipython",
    "version": 3
   },
   "file_extension": ".py",
   "mimetype": "text/x-python",
   "name": "python",
   "nbconvert_exporter": "python",
   "pygments_lexer": "ipython3",
   "version": "3.10.13"
  }
 },
 "nbformat": 4,
 "nbformat_minor": 5
}
