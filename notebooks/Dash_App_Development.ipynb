{
 "cells": [
  {
   "cell_type": "code",
   "execution_count": 5,
   "id": "141ea6fa-7128-4588-9b88-7c679372186f",
   "metadata": {},
   "outputs": [],
   "source": [
    "import pandas as pd"
   ]
  },
  {
   "cell_type": "code",
   "execution_count": 6,
   "id": "d8621336-9a68-4739-8be7-919aea8fade7",
   "metadata": {},
   "outputs": [
    {
     "ename": "NameError",
     "evalue": "name 'JupyterDash' is not defined",
     "output_type": "error",
     "traceback": [
      "\u001b[0;31m---------------------------------------------------------------------------\u001b[0m",
      "\u001b[0;31mNameError\u001b[0m                                 Traceback (most recent call last)",
      "Cell \u001b[0;32mIn[6], line 9\u001b[0m\n\u001b[1;32m      6\u001b[0m \u001b[38;5;66;03m# this should be changed before deployment to reflect path of the .pkl file\u001b[39;00m\n\u001b[1;32m      7\u001b[0m df \u001b[38;5;241m=\u001b[39m pd\u001b[38;5;241m.\u001b[39mread_pickle(\u001b[38;5;124m\"\u001b[39m\u001b[38;5;124m../data/processed/historical_outbreaks_df.pkl\u001b[39m\u001b[38;5;124m\"\u001b[39m)\n\u001b[0;32m----> 9\u001b[0m app \u001b[38;5;241m=\u001b[39m \u001b[43mJupyterDash\u001b[49m(\u001b[38;5;18m__name__\u001b[39m)\n\u001b[1;32m     11\u001b[0m app\u001b[38;5;241m.\u001b[39mlayout \u001b[38;5;241m=\u001b[39m html\u001b[38;5;241m.\u001b[39mDiv(\n\u001b[1;32m     12\u001b[0m     [\n\u001b[1;32m     13\u001b[0m         html\u001b[38;5;241m.\u001b[39mH4(\u001b[38;5;124m\"\u001b[39m\u001b[38;5;124mAnimated GDP and population over decades\u001b[39m\u001b[38;5;124m\"\u001b[39m),\n\u001b[0;32m   (...)\u001b[0m\n\u001b[1;32m     21\u001b[0m     ]\n\u001b[1;32m     22\u001b[0m )\n\u001b[1;32m     25\u001b[0m \u001b[38;5;129m@app\u001b[39m\u001b[38;5;241m.\u001b[39mcallback(\n\u001b[1;32m     26\u001b[0m     Output(\u001b[38;5;124m\"\u001b[39m\u001b[38;5;124mgraph\u001b[39m\u001b[38;5;124m\"\u001b[39m, \u001b[38;5;124m\"\u001b[39m\u001b[38;5;124mfigure\u001b[39m\u001b[38;5;124m\"\u001b[39m), Input(\u001b[38;5;124m\"\u001b[39m\u001b[38;5;124mselection\u001b[39m\u001b[38;5;124m\"\u001b[39m, \u001b[38;5;124m\"\u001b[39m\u001b[38;5;124mvalue\u001b[39m\u001b[38;5;124m\"\u001b[39m)\n\u001b[1;32m     27\u001b[0m )\n\u001b[1;32m     28\u001b[0m \u001b[38;5;28;01mdef\u001b[39;00m \u001b[38;5;21mdisplay_animated_graph\u001b[39m(selection):\n",
      "\u001b[0;31mNameError\u001b[0m: name 'JupyterDash' is not defined"
     ]
    }
   ],
   "source": [
    "from dash import Dash, dcc, html, Input, Output\n",
    "import plotly.express as px\n",
    "import plotly.graph_objects as go\n",
    "import ipywidgets as widgets\n",
    "\n",
    "# this should be changed before deployment to reflect path of the .pkl file\n",
    "df = pd.read_pickle(\"../data/processed/historical_outbreaks_df.pkl\")\n",
    "\n",
    "app = JupyterDash(__name__)\n",
    "\n",
    "app.layout = html.Div(\n",
    "    [\n",
    "        html.H4(\"Animated GDP and population over decades\"),\n",
    "        html.P(\"Select an animation:\"),\n",
    "        dcc.RadioItems(\n",
    "            id=\"selection\",\n",
    "            options=[\"GDP - Scatter\", \"Population - Bar\"],\n",
    "            value=\"GDP - Scatter\",\n",
    "        ),\n",
    "        dcc.Loading(dcc.Graph(id=\"graph\"), type=\"cube\"),\n",
    "    ]\n",
    ")\n",
    "\n",
    "\n",
    "@app.callback(\n",
    "    Output(\"graph\", \"figure\"), Input(\"selection\", \"value\")\n",
    ")\n",
    "def display_animated_graph(selection):\n",
    "    animations = {\n",
    "        \"GDP - Scatter\": px.scatter(\n",
    "            df,\n",
    "            x=\"gdpPercap\",\n",
    "            y=\"lifeExp\",\n",
    "            animation_frame=\"year\",\n",
    "            animation_group=\"country\",\n",
    "            size=\"pop\",\n",
    "            color=\"continent\",\n",
    "            hover_name=\"country\",\n",
    "            log_x=True,\n",
    "            size_max=55,\n",
    "            range_x=[100, 100000],\n",
    "            range_y=[25, 90],\n",
    "        ),\n",
    "        \"Population - Bar\": px.bar(\n",
    "            df,\n",
    "            x=\"continent\",\n",
    "            y=\"pop\",\n",
    "            color=\"continent\",\n",
    "            animation_frame=\"year\",\n",
    "            animation_group=\"country\",\n",
    "            range_y=[0, 4000000000],\n",
    "        ),\n",
    "    }\n",
    "    return animations[selection]\n",
    "\n",
    "\n",
    "if __name__ == \"__main__\":\n",
    "    app.run_server(mode='inline')"
   ]
  },
  {
   "cell_type": "code",
   "execution_count": null,
   "id": "9c321c47-edd3-4bad-b40c-a1e8c96f722a",
   "metadata": {},
   "outputs": [],
   "source": []
  },
  {
   "cell_type": "code",
   "execution_count": null,
   "id": "62d96435-6d6a-46ae-ab8d-3f7347e3376f",
   "metadata": {},
   "outputs": [],
   "source": []
  }
 ],
 "metadata": {
  "kernelspec": {
   "display_name": "Python 3 (ipykernel)",
   "language": "python",
   "name": "python3"
  },
  "language_info": {
   "codemirror_mode": {
    "name": "ipython",
    "version": 3
   },
   "file_extension": ".py",
   "mimetype": "text/x-python",
   "name": "python",
   "nbconvert_exporter": "python",
   "pygments_lexer": "ipython3",
   "version": "3.10.13"
  }
 },
 "nbformat": 4,
 "nbformat_minor": 5
}
